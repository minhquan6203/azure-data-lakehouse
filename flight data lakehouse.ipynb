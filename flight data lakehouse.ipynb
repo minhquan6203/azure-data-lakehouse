{
 "cells": [
  {
   "cell_type": "markdown",
   "metadata": {
    "application/vnd.databricks.v1+cell": {
     "cellMetadata": {},
     "inputWidgets": {},
     "nuid": "28119b8b-a864-4ecf-90c2-02952c54e9ee",
     "showTitle": false,
     "title": ""
    }
   },
   "source": [
    "# Create Schema"
   ]
  },
  {
   "cell_type": "code",
   "execution_count": null,
   "metadata": {
    "application/vnd.databricks.v1+cell": {
     "cellMetadata": {
      "byteLimit": 2048000,
      "rowLimit": 10000
     },
     "inputWidgets": {},
     "nuid": "3f7dffb8-644a-49e5-9010-02c3c64fb0e8",
     "showTitle": false,
     "title": ""
    }
   },
   "outputs": [
    {
     "data": {
      "text/html": [
       "<style scoped>\n",
       "  .table-result-container {\n",
       "    max-height: 300px;\n",
       "    overflow: auto;\n",
       "  }\n",
       "  table, th, td {\n",
       "    border: 1px solid black;\n",
       "    border-collapse: collapse;\n",
       "  }\n",
       "  th, td {\n",
       "    padding: 5px;\n",
       "  }\n",
       "  th {\n",
       "    text-align: left;\n",
       "  }\n",
       "</style><div class='table-result-container'><table class='table-result'><thead style='background-color: white'><tr><th>path</th><th>name</th><th>size</th><th>modificationTime</th></tr></thead><tbody><tr><td>dbfs:/Volume/</td><td>Volume/</td><td>0</td><td>0</td></tr><tr><td>dbfs:/Volumes/</td><td>Volumes/</td><td>0</td><td>0</td></tr><tr><td>dbfs:/databricks-datasets/</td><td>databricks-datasets/</td><td>0</td><td>0</td></tr><tr><td>dbfs:/databricks-results/</td><td>databricks-results/</td><td>0</td><td>0</td></tr><tr><td>dbfs:/flights_data/</td><td>flights_data/</td><td>0</td><td>1724836507000</td></tr><tr><td>dbfs:/volume/</td><td>volume/</td><td>0</td><td>0</td></tr><tr><td>dbfs:/volumes/</td><td>volumes/</td><td>0</td><td>0</td></tr></tbody></table></div>"
      ]
     },
     "metadata": {
      "application/vnd.databricks.v1+output": {
       "addedWidgets": {},
       "aggData": [],
       "aggError": "",
       "aggOverflow": false,
       "aggSchema": [],
       "aggSeriesLimitReached": false,
       "aggType": "",
       "arguments": {},
       "columnCustomDisplayInfos": {},
       "data": [
        [
         "dbfs:/Volume/",
         "Volume/",
         0,
         0
        ],
        [
         "dbfs:/Volumes/",
         "Volumes/",
         0,
         0
        ],
        [
         "dbfs:/databricks-datasets/",
         "databricks-datasets/",
         0,
         0
        ],
        [
         "dbfs:/databricks-results/",
         "databricks-results/",
         0,
         0
        ],
        [
         "dbfs:/flights_data/",
         "flights_data/",
         0,
         1724836507000
        ],
        [
         "dbfs:/volume/",
         "volume/",
         0,
         0
        ],
        [
         "dbfs:/volumes/",
         "volumes/",
         0,
         0
        ]
       ],
       "datasetInfos": [],
       "dbfsResultPath": null,
       "isJsonSchema": true,
       "metadata": {},
       "overflow": false,
       "plotOptions": {
        "customPlotOptions": {},
        "displayType": "table",
        "pivotAggregation": null,
        "pivotColumns": null,
        "xColumns": null,
        "yColumns": null
       },
       "removedWidgets": [],
       "schema": [
        {
         "metadata": "{}",
         "name": "path",
         "type": "\"string\""
        },
        {
         "metadata": "{}",
         "name": "name",
         "type": "\"string\""
        },
        {
         "metadata": "{}",
         "name": "size",
         "type": "\"long\""
        },
        {
         "metadata": "{}",
         "name": "modificationTime",
         "type": "\"long\""
        }
       ],
       "type": "table"
      }
     },
     "output_type": "display_data"
    }
   ],
   "source": [
    "display(dbutils.fs.ls(\"/\"))"
   ]
  },
  {
   "cell_type": "code",
   "execution_count": null,
   "metadata": {
    "application/vnd.databricks.v1+cell": {
     "cellMetadata": {
      "byteLimit": 2048000,
      "rowLimit": 10000
     },
     "inputWidgets": {},
     "nuid": "e86800f8-020a-4d77-bba7-088c30380b4d",
     "showTitle": false,
     "title": ""
    }
   },
   "outputs": [
    {
     "data": {
      "text/plain": [
       "'flights_data/landingZone'"
      ]
     },
     "execution_count": 2,
     "metadata": {},
     "output_type": "execute_result"
    }
   ],
   "source": [
    "basePath = 'flights_data'\n",
    "landingZoneLocation = basePath + \"/landingZone\"\n",
    "landingZoneLocation"
   ]
  },
  {
   "cell_type": "code",
   "execution_count": null,
   "metadata": {
    "application/vnd.databricks.v1+cell": {
     "cellMetadata": {
      "byteLimit": 2048000,
      "rowLimit": 10000
     },
     "inputWidgets": {},
     "nuid": "3d90151b-25b7-490e-a75c-27181981d536",
     "showTitle": false,
     "title": ""
    }
   },
   "outputs": [
    {
     "name": "stdout",
     "output_type": "stream",
     "text": [
      "basePath flights_data created\n"
     ]
    }
   ],
   "source": [
    "dbutils.fs.rm(f\"dbfs:/{basePath}/\", recurse=True)\n",
    "try:\n",
    "  dbutils.fs.ls(basePath)\n",
    "except:\n",
    "  dbutils.fs.mkdirs(basePath)\n",
    "  dbutils.fs.mkdirs(landingZoneLocation)\n",
    "else:\n",
    "  raise Exception(\"The folder \" + basePath + \" already exists, this notebook will remove it at the end, please change the basePath or remove the folder first\")\n",
    "\n",
    "print(\"basePath \" + basePath + \" created\")"
   ]
  },
  {
   "cell_type": "code",
   "execution_count": null,
   "metadata": {
    "application/vnd.databricks.v1+cell": {
     "cellMetadata": {
      "byteLimit": 2048000,
      "rowLimit": 10000
     },
     "inputWidgets": {},
     "nuid": "533b8092-694b-434b-b4d1-801d3ad42b95",
     "showTitle": false,
     "title": ""
    }
   },
   "outputs": [
    {
     "data": {
      "text/plain": [
       "DataFrame[databaseName: string]"
      ]
     },
     "execution_count": 4,
     "metadata": {},
     "output_type": "execute_result"
    }
   ],
   "source": [
    "spark.sql(\"SHOW DATABASES\")"
   ]
  },
  {
   "cell_type": "code",
   "execution_count": null,
   "metadata": {
    "application/vnd.databricks.v1+cell": {
     "cellMetadata": {
      "byteLimit": 2048000,
      "rowLimit": 10000
     },
     "inputWidgets": {},
     "nuid": "80c738a0-8f2e-4c3a-8561-e76b00f80c51",
     "showTitle": false,
     "title": ""
    }
   },
   "outputs": [
    {
     "name": "stdout",
     "output_type": "stream",
     "text": [
      "CREATE DATABASE flights_db;\n",
      "Database flights_db created\n"
     ]
    }
   ],
   "source": [
    "database = 'flights_db'\n",
    "createDbSql = f\"CREATE DATABASE {database};\"\n",
    "print(createDbSql)\n",
    "\n",
    "try:\n",
    "    spark.sql(\"DROP DATABASE IF EXISTS \" + database + \" CASCADE\")\n",
    "    spark.sql(createDbSql)\n",
    "    print(\"Database \" + database + \" created\")\n",
    "except Exception as e:\n",
    "    print(e)\n"
   ]
  },
  {
   "cell_type": "code",
   "execution_count": null,
   "metadata": {
    "application/vnd.databricks.v1+cell": {
     "cellMetadata": {
      "byteLimit": 2048000,
      "rowLimit": 10000
     },
     "inputWidgets": {},
     "nuid": "fd4302e8-26c3-44d5-be1e-f9e641e6d402",
     "showTitle": false,
     "title": ""
    }
   },
   "outputs": [],
   "source": [
    "landingZoneLocation = \"dbfs:/flights_data/landing-zone\"\n",
    "spark.conf.set(\"c.ingestDatabase\", database)\n",
    "spark.conf.set(\"c.ingestLandingZone\", landingZoneLocation)\n",
    "copyIntoTablePath = landingZoneLocation + \"/copyIntoTable\"\n",
    "spark.conf.set(\"c.ingestCopyIntoTablePath\", copyIntoTablePath)"
   ]
  },
  {
   "cell_type": "markdown",
   "metadata": {
    "application/vnd.databricks.v1+cell": {
     "cellMetadata": {},
     "inputWidgets": {},
     "nuid": "9e462cbc-4c42-4b43-883a-4b6d89b151e5",
     "showTitle": false,
     "title": ""
    }
   },
   "source": [
    "# Extract"
   ]
  },
  {
   "cell_type": "code",
   "execution_count": null,
   "metadata": {
    "application/vnd.databricks.v1+cell": {
     "cellMetadata": {
      "byteLimit": 2048000,
      "rowLimit": 10000
     },
     "inputWidgets": {},
     "nuid": "7ebf46c0-aaca-4320-b455-e7d529c40744",
     "showTitle": false,
     "title": ""
    }
   },
   "outputs": [],
   "source": [
    "access_key = ''\n",
    "storage_account = 'minhquanstorage03'\n",
    "container = 'flight'\n",
    "spark.conf.set(\"fs.azure.account.key.\" + storage_account + \".blob.core.windows.net\", access_key)"
   ]
  },
  {
   "cell_type": "code",
   "execution_count": null,
   "metadata": {
    "application/vnd.databricks.v1+cell": {
     "cellMetadata": {
      "byteLimit": 2048000,
      "rowLimit": 10000
     },
     "inputWidgets": {},
     "nuid": "35e94504-4ede-436d-a586-d68febc1bcde",
     "showTitle": false,
     "title": ""
    }
   },
   "outputs": [
    {
     "name": "stdout",
     "output_type": "stream",
     "text": [
      "['wasbs://flight@minhquanstorage03.blob.core.windows.net/Combined_Flights_2018.parquet', 'wasbs://flight@minhquanstorage03.blob.core.windows.net/Combined_Flights_2019.parquet', 'wasbs://flight@minhquanstorage03.blob.core.windows.net/Combined_Flights_2020.parquet', 'wasbs://flight@minhquanstorage03.blob.core.windows.net/Combined_Flights_2021.parquet', 'wasbs://flight@minhquanstorage03.blob.core.windows.net/Combined_Flights_2022.parquet', 'wasbs://flight@minhquanstorage03.blob.core.windows.net/c_Combined_Flights_2019.parquet/', 'wasbs://flight@minhquanstorage03.blob.core.windows.net/c_Combined_Flights_2022.parquet/']\n"
     ]
    }
   ],
   "source": [
    "files = dbutils.fs.ls(f\"wasbs://{container}@{storage_account}.blob.core.windows.net/\")\n",
    "parquet_files = [file.path for file in files if 'Flights' in file.path]\n",
    "print(parquet_files)\n",
    "\n",
    "data_2018 = spark.read.parquet(f\"wasbs://{container}@{storage_account}.blob.core.windows.net/Combined_Flights_2018.parquet\")\n",
    "data_2019 = spark.read.parquet(f\"wasbs://{container}@{storage_account}.blob.core.windows.net/Combined_Flights_2019.parquet\")\n",
    "data_2020 = spark.read.parquet(f\"wasbs://{container}@{storage_account}.blob.core.windows.net/Combined_Flights_2020.parquet\")\n",
    "data_2021 = spark.read.parquet(f\"wasbs://{container}@{storage_account}.blob.core.windows.net/Combined_Flights_2021.parquet\")\n",
    "data_2022 = spark.read.parquet(f\"wasbs://{container}@{storage_account}.blob.core.windows.net/Combined_Flights_2022.parquet\")\n"
   ]
  },
  {
   "cell_type": "code",
   "execution_count": null,
   "metadata": {
    "application/vnd.databricks.v1+cell": {
     "cellMetadata": {
      "byteLimit": 2048000,
      "rowLimit": 10000
     },
     "inputWidgets": {},
     "nuid": "b1e360d4-5d84-4892-8062-a73c6ea4cf95",
     "showTitle": false,
     "title": ""
    }
   },
   "outputs": [
    {
     "name": "stdout",
     "output_type": "stream",
     "text": [
      "root\n",
      " |-- FlightDate: timestamp_ntz (nullable = true)\n",
      " |-- Airline: string (nullable = true)\n",
      " |-- Origin: string (nullable = true)\n",
      " |-- Dest: string (nullable = true)\n",
      " |-- Cancelled: boolean (nullable = true)\n",
      " |-- Diverted: boolean (nullable = true)\n",
      " |-- CRSDepTime: long (nullable = true)\n",
      " |-- DepTime: double (nullable = true)\n",
      " |-- DepDelayMinutes: double (nullable = true)\n",
      " |-- DepDelay: double (nullable = true)\n",
      " |-- ArrTime: double (nullable = true)\n",
      " |-- ArrDelayMinutes: double (nullable = true)\n",
      " |-- AirTime: double (nullable = true)\n",
      " |-- CRSElapsedTime: double (nullable = true)\n",
      " |-- ActualElapsedTime: double (nullable = true)\n",
      " |-- Distance: double (nullable = true)\n",
      " |-- Year: long (nullable = true)\n",
      " |-- Quarter: long (nullable = true)\n",
      " |-- Month: long (nullable = true)\n",
      " |-- DayofMonth: long (nullable = true)\n",
      " |-- DayOfWeek: long (nullable = true)\n",
      " |-- Marketing_Airline_Network: string (nullable = true)\n",
      " |-- Operated_or_Branded_Code_Share_Partners: string (nullable = true)\n",
      " |-- DOT_ID_Marketing_Airline: long (nullable = true)\n",
      " |-- IATA_Code_Marketing_Airline: string (nullable = true)\n",
      " |-- Flight_Number_Marketing_Airline: long (nullable = true)\n",
      " |-- Operating_Airline: string (nullable = true)\n",
      " |-- DOT_ID_Operating_Airline: long (nullable = true)\n",
      " |-- IATA_Code_Operating_Airline: string (nullable = true)\n",
      " |-- Tail_Number: string (nullable = true)\n",
      " |-- Flight_Number_Operating_Airline: long (nullable = true)\n",
      " |-- OriginAirportID: long (nullable = true)\n",
      " |-- OriginAirportSeqID: long (nullable = true)\n",
      " |-- OriginCityMarketID: long (nullable = true)\n",
      " |-- OriginCityName: string (nullable = true)\n",
      " |-- OriginState: string (nullable = true)\n",
      " |-- OriginStateFips: long (nullable = true)\n",
      " |-- OriginStateName: string (nullable = true)\n",
      " |-- OriginWac: long (nullable = true)\n",
      " |-- DestAirportID: long (nullable = true)\n",
      " |-- DestAirportSeqID: long (nullable = true)\n",
      " |-- DestCityMarketID: long (nullable = true)\n",
      " |-- DestCityName: string (nullable = true)\n",
      " |-- DestState: string (nullable = true)\n",
      " |-- DestStateFips: long (nullable = true)\n",
      " |-- DestStateName: string (nullable = true)\n",
      " |-- DestWac: long (nullable = true)\n",
      " |-- DepDel15: double (nullable = true)\n",
      " |-- DepartureDelayGroups: double (nullable = true)\n",
      " |-- DepTimeBlk: string (nullable = true)\n",
      " |-- TaxiOut: double (nullable = true)\n",
      " |-- WheelsOff: double (nullable = true)\n",
      " |-- WheelsOn: double (nullable = true)\n",
      " |-- TaxiIn: double (nullable = true)\n",
      " |-- CRSArrTime: long (nullable = true)\n",
      " |-- ArrDelay: double (nullable = true)\n",
      " |-- ArrDel15: double (nullable = true)\n",
      " |-- ArrivalDelayGroups: double (nullable = true)\n",
      " |-- ArrTimeBlk: string (nullable = true)\n",
      " |-- DistanceGroup: long (nullable = true)\n",
      " |-- DivAirportLandings: double (nullable = true)\n",
      " |-- __index_level_0__: long (nullable = true)\n",
      "\n"
     ]
    }
   ],
   "source": [
    "combined_df = data_2018.union(data_2019).union(data_2020).union(data_2021).union(data_2022)\n",
    "# combined_df.write.parquet(f\"wasbs://{container}@{storage_account}.blob.core.windows.net/all_data.parquet\")\n",
    "combined_df.printSchema()"
   ]
  },
  {
   "cell_type": "code",
   "execution_count": null,
   "metadata": {
    "application/vnd.databricks.v1+cell": {
     "cellMetadata": {
      "byteLimit": 2048000,
      "rowLimit": 10000
     },
     "inputWidgets": {},
     "nuid": "396a9a55-3800-480a-94ef-2fd889ee703d",
     "showTitle": false,
     "title": ""
    }
   },
   "outputs": [],
   "source": [
    "combined_df.write.mode(\"overwrite\").saveAsTable(\"flights_db.flights_data_landing\")"
   ]
  },
  {
   "cell_type": "markdown",
   "metadata": {
    "application/vnd.databricks.v1+cell": {
     "cellMetadata": {},
     "inputWidgets": {},
     "nuid": "a2999b1a-60cf-4504-b141-d6a678040e88",
     "showTitle": false,
     "title": ""
    }
   },
   "source": [
    "# Transform"
   ]
  },
  {
   "cell_type": "code",
   "execution_count": null,
   "metadata": {
    "application/vnd.databricks.v1+cell": {
     "cellMetadata": {
      "byteLimit": 2048000,
      "rowLimit": 10000
     },
     "inputWidgets": {},
     "nuid": "ec8a08ca-1319-458a-a607-ee32fb98f7e6",
     "showTitle": false,
     "title": ""
    }
   },
   "outputs": [
    {
     "data": {
      "text/plain": [
       "29193782"
      ]
     },
     "execution_count": 18,
     "metadata": {},
     "output_type": "execute_result"
    }
   ],
   "source": [
    "from pyspark.sql.functions import col, when, count\n",
    "data = spark.read.table(\"flights_db.flights_data_landing\")\n",
    "data.count()"
   ]
  },
  {
   "cell_type": "code",
   "execution_count": null,
   "metadata": {
    "application/vnd.databricks.v1+cell": {
     "cellMetadata": {
      "byteLimit": 2048000,
      "rowLimit": 10000
     },
     "inputWidgets": {},
     "nuid": "070c2f8e-ad73-4dbc-9fbe-5f3fee27c2d8",
     "showTitle": false,
     "title": ""
    }
   },
   "outputs": [
    {
     "data": {
      "text/html": [
       "<style scoped>\n",
       "  .table-result-container {\n",
       "    max-height: 300px;\n",
       "    overflow: auto;\n",
       "  }\n",
       "  table, th, td {\n",
       "    border: 1px solid black;\n",
       "    border-collapse: collapse;\n",
       "  }\n",
       "  th, td {\n",
       "    padding: 5px;\n",
       "  }\n",
       "  th {\n",
       "    text-align: left;\n",
       "  }\n",
       "</style><div class='table-result-container'><table class='table-result'><thead style='background-color: white'><tr><th>FlightDate</th><th>Airline</th><th>Origin</th><th>Dest</th><th>Cancelled</th><th>Diverted</th><th>CRSDepTime</th><th>DepTime</th><th>DepDelayMinutes</th><th>DepDelay</th><th>ArrTime</th><th>ArrDelayMinutes</th><th>AirTime</th><th>CRSElapsedTime</th><th>ActualElapsedTime</th><th>Distance</th><th>Year</th><th>Quarter</th><th>Month</th><th>DayofMonth</th><th>DayOfWeek</th><th>Marketing_Airline_Network</th><th>Operated_or_Branded_Code_Share_Partners</th><th>DOT_ID_Marketing_Airline</th><th>IATA_Code_Marketing_Airline</th><th>Flight_Number_Marketing_Airline</th><th>Operating_Airline</th><th>DOT_ID_Operating_Airline</th><th>IATA_Code_Operating_Airline</th><th>Tail_Number</th><th>Flight_Number_Operating_Airline</th><th>OriginAirportID</th><th>OriginAirportSeqID</th><th>OriginCityMarketID</th><th>OriginCityName</th><th>OriginState</th><th>OriginStateFips</th><th>OriginStateName</th><th>OriginWac</th><th>DestAirportID</th><th>DestAirportSeqID</th><th>DestCityMarketID</th><th>DestCityName</th><th>DestState</th><th>DestStateFips</th><th>DestStateName</th><th>DestWac</th><th>DepDel15</th><th>DepartureDelayGroups</th><th>DepTimeBlk</th><th>TaxiOut</th><th>WheelsOff</th><th>WheelsOn</th><th>TaxiIn</th><th>CRSArrTime</th><th>ArrDelay</th><th>ArrDel15</th><th>ArrivalDelayGroups</th><th>ArrTimeBlk</th><th>DistanceGroup</th><th>DivAirportLandings</th><th>__index_level_0__</th></tr></thead><tbody><tr><td>2018-01-23T00:00:00</td><td>Endeavor Air Inc.</td><td>ABY</td><td>ATL</td><td>false</td><td>false</td><td>1202</td><td>1157.0</td><td>0.0</td><td>-5.0</td><td>1256.0</td><td>0.0</td><td>38.0</td><td>62.0</td><td>59.0</td><td>145.0</td><td>2018</td><td>1</td><td>1</td><td>23</td><td>2</td><td>DL</td><td>DL_CODESHARE</td><td>19790</td><td>DL</td><td>3298</td><td>9E</td><td>20363</td><td>9E</td><td>N8928A</td><td>3298</td><td>10146</td><td>1014602</td><td>30146</td><td>Albany, GA</td><td>GA</td><td>13</td><td>Georgia</td><td>34</td><td>10397</td><td>1039707</td><td>30397</td><td>Atlanta, GA</td><td>GA</td><td>13</td><td>Georgia</td><td>34</td><td>0.0</td><td>-1.0</td><td>1200-1259</td><td>14.0</td><td>1211.0</td><td>1249.0</td><td>7.0</td><td>1304</td><td>-8.0</td><td>0.0</td><td>-1.0</td><td>1300-1359</td><td>1</td><td>0.0</td><td>0</td></tr><tr><td>2018-01-24T00:00:00</td><td>Endeavor Air Inc.</td><td>ABY</td><td>ATL</td><td>false</td><td>false</td><td>1202</td><td>1157.0</td><td>0.0</td><td>-5.0</td><td>1258.0</td><td>0.0</td><td>36.0</td><td>62.0</td><td>61.0</td><td>145.0</td><td>2018</td><td>1</td><td>1</td><td>24</td><td>3</td><td>DL</td><td>DL_CODESHARE</td><td>19790</td><td>DL</td><td>3298</td><td>9E</td><td>20363</td><td>9E</td><td>N800AY</td><td>3298</td><td>10146</td><td>1014602</td><td>30146</td><td>Albany, GA</td><td>GA</td><td>13</td><td>Georgia</td><td>34</td><td>10397</td><td>1039707</td><td>30397</td><td>Atlanta, GA</td><td>GA</td><td>13</td><td>Georgia</td><td>34</td><td>0.0</td><td>-1.0</td><td>1200-1259</td><td>13.0</td><td>1210.0</td><td>1246.0</td><td>12.0</td><td>1304</td><td>-6.0</td><td>0.0</td><td>-1.0</td><td>1300-1359</td><td>1</td><td>0.0</td><td>1</td></tr><tr><td>2018-01-25T00:00:00</td><td>Endeavor Air Inc.</td><td>ABY</td><td>ATL</td><td>false</td><td>false</td><td>1202</td><td>1153.0</td><td>0.0</td><td>-9.0</td><td>1302.0</td><td>0.0</td><td>40.0</td><td>62.0</td><td>69.0</td><td>145.0</td><td>2018</td><td>1</td><td>1</td><td>25</td><td>4</td><td>DL</td><td>DL_CODESHARE</td><td>19790</td><td>DL</td><td>3298</td><td>9E</td><td>20363</td><td>9E</td><td>N8836A</td><td>3298</td><td>10146</td><td>1014602</td><td>30146</td><td>Albany, GA</td><td>GA</td><td>13</td><td>Georgia</td><td>34</td><td>10397</td><td>1039707</td><td>30397</td><td>Atlanta, GA</td><td>GA</td><td>13</td><td>Georgia</td><td>34</td><td>0.0</td><td>-1.0</td><td>1200-1259</td><td>18.0</td><td>1211.0</td><td>1251.0</td><td>11.0</td><td>1304</td><td>-2.0</td><td>0.0</td><td>-1.0</td><td>1300-1359</td><td>1</td><td>0.0</td><td>2</td></tr><tr><td>2018-01-26T00:00:00</td><td>Endeavor Air Inc.</td><td>ABY</td><td>ATL</td><td>false</td><td>false</td><td>1202</td><td>1150.0</td><td>0.0</td><td>-12.0</td><td>1253.0</td><td>0.0</td><td>35.0</td><td>62.0</td><td>63.0</td><td>145.0</td><td>2018</td><td>1</td><td>1</td><td>26</td><td>5</td><td>DL</td><td>DL_CODESHARE</td><td>19790</td><td>DL</td><td>3298</td><td>9E</td><td>20363</td><td>9E</td><td>N800AY</td><td>3298</td><td>10146</td><td>1014602</td><td>30146</td><td>Albany, GA</td><td>GA</td><td>13</td><td>Georgia</td><td>34</td><td>10397</td><td>1039707</td><td>30397</td><td>Atlanta, GA</td><td>GA</td><td>13</td><td>Georgia</td><td>34</td><td>0.0</td><td>-1.0</td><td>1200-1259</td><td>17.0</td><td>1207.0</td><td>1242.0</td><td>11.0</td><td>1304</td><td>-11.0</td><td>0.0</td><td>-1.0</td><td>1300-1359</td><td>1</td><td>0.0</td><td>3</td></tr><tr><td>2018-01-27T00:00:00</td><td>Endeavor Air Inc.</td><td>ABY</td><td>ATL</td><td>false</td><td>false</td><td>1400</td><td>1355.0</td><td>0.0</td><td>-5.0</td><td>1459.0</td><td>0.0</td><td>36.0</td><td>60.0</td><td>64.0</td><td>145.0</td><td>2018</td><td>1</td><td>1</td><td>27</td><td>6</td><td>DL</td><td>DL_CODESHARE</td><td>19790</td><td>DL</td><td>3298</td><td>9E</td><td>20363</td><td>9E</td><td>N8839E</td><td>3298</td><td>10146</td><td>1014602</td><td>30146</td><td>Albany, GA</td><td>GA</td><td>13</td><td>Georgia</td><td>34</td><td>10397</td><td>1039707</td><td>30397</td><td>Atlanta, GA</td><td>GA</td><td>13</td><td>Georgia</td><td>34</td><td>0.0</td><td>-1.0</td><td>1400-1459</td><td>17.0</td><td>1412.0</td><td>1448.0</td><td>11.0</td><td>1500</td><td>-1.0</td><td>0.0</td><td>-1.0</td><td>1500-1559</td><td>1</td><td>0.0</td><td>4</td></tr></tbody></table></div>"
      ]
     },
     "metadata": {
      "application/vnd.databricks.v1+output": {
       "addedWidgets": {},
       "aggData": [],
       "aggError": "",
       "aggOverflow": false,
       "aggSchema": [],
       "aggSeriesLimitReached": false,
       "aggType": "",
       "arguments": {},
       "columnCustomDisplayInfos": {},
       "data": [
        [
         "2018-01-23T00:00:00",
         "Endeavor Air Inc.",
         "ABY",
         "ATL",
         false,
         false,
         1202,
         1157,
         0,
         -5,
         1256,
         0,
         38,
         62,
         59,
         145,
         2018,
         1,
         1,
         23,
         2,
         "DL",
         "DL_CODESHARE",
         19790,
         "DL",
         3298,
         "9E",
         20363,
         "9E",
         "N8928A",
         3298,
         10146,
         1014602,
         30146,
         "Albany, GA",
         "GA",
         13,
         "Georgia",
         34,
         10397,
         1039707,
         30397,
         "Atlanta, GA",
         "GA",
         13,
         "Georgia",
         34,
         0,
         -1,
         "1200-1259",
         14,
         1211,
         1249,
         7,
         1304,
         -8,
         0,
         -1,
         "1300-1359",
         1,
         0,
         0
        ],
        [
         "2018-01-24T00:00:00",
         "Endeavor Air Inc.",
         "ABY",
         "ATL",
         false,
         false,
         1202,
         1157,
         0,
         -5,
         1258,
         0,
         36,
         62,
         61,
         145,
         2018,
         1,
         1,
         24,
         3,
         "DL",
         "DL_CODESHARE",
         19790,
         "DL",
         3298,
         "9E",
         20363,
         "9E",
         "N800AY",
         3298,
         10146,
         1014602,
         30146,
         "Albany, GA",
         "GA",
         13,
         "Georgia",
         34,
         10397,
         1039707,
         30397,
         "Atlanta, GA",
         "GA",
         13,
         "Georgia",
         34,
         0,
         -1,
         "1200-1259",
         13,
         1210,
         1246,
         12,
         1304,
         -6,
         0,
         -1,
         "1300-1359",
         1,
         0,
         1
        ],
        [
         "2018-01-25T00:00:00",
         "Endeavor Air Inc.",
         "ABY",
         "ATL",
         false,
         false,
         1202,
         1153,
         0,
         -9,
         1302,
         0,
         40,
         62,
         69,
         145,
         2018,
         1,
         1,
         25,
         4,
         "DL",
         "DL_CODESHARE",
         19790,
         "DL",
         3298,
         "9E",
         20363,
         "9E",
         "N8836A",
         3298,
         10146,
         1014602,
         30146,
         "Albany, GA",
         "GA",
         13,
         "Georgia",
         34,
         10397,
         1039707,
         30397,
         "Atlanta, GA",
         "GA",
         13,
         "Georgia",
         34,
         0,
         -1,
         "1200-1259",
         18,
         1211,
         1251,
         11,
         1304,
         -2,
         0,
         -1,
         "1300-1359",
         1,
         0,
         2
        ],
        [
         "2018-01-26T00:00:00",
         "Endeavor Air Inc.",
         "ABY",
         "ATL",
         false,
         false,
         1202,
         1150,
         0,
         -12,
         1253,
         0,
         35,
         62,
         63,
         145,
         2018,
         1,
         1,
         26,
         5,
         "DL",
         "DL_CODESHARE",
         19790,
         "DL",
         3298,
         "9E",
         20363,
         "9E",
         "N800AY",
         3298,
         10146,
         1014602,
         30146,
         "Albany, GA",
         "GA",
         13,
         "Georgia",
         34,
         10397,
         1039707,
         30397,
         "Atlanta, GA",
         "GA",
         13,
         "Georgia",
         34,
         0,
         -1,
         "1200-1259",
         17,
         1207,
         1242,
         11,
         1304,
         -11,
         0,
         -1,
         "1300-1359",
         1,
         0,
         3
        ],
        [
         "2018-01-27T00:00:00",
         "Endeavor Air Inc.",
         "ABY",
         "ATL",
         false,
         false,
         1400,
         1355,
         0,
         -5,
         1459,
         0,
         36,
         60,
         64,
         145,
         2018,
         1,
         1,
         27,
         6,
         "DL",
         "DL_CODESHARE",
         19790,
         "DL",
         3298,
         "9E",
         20363,
         "9E",
         "N8839E",
         3298,
         10146,
         1014602,
         30146,
         "Albany, GA",
         "GA",
         13,
         "Georgia",
         34,
         10397,
         1039707,
         30397,
         "Atlanta, GA",
         "GA",
         13,
         "Georgia",
         34,
         0,
         -1,
         "1400-1459",
         17,
         1412,
         1448,
         11,
         1500,
         -1,
         0,
         -1,
         "1500-1559",
         1,
         0,
         4
        ]
       ],
       "datasetInfos": [],
       "dbfsResultPath": null,
       "isJsonSchema": true,
       "metadata": {},
       "overflow": false,
       "plotOptions": {
        "customPlotOptions": {},
        "displayType": "table",
        "pivotAggregation": null,
        "pivotColumns": null,
        "xColumns": null,
        "yColumns": null
       },
       "removedWidgets": [],
       "schema": [
        {
         "metadata": "{}",
         "name": "FlightDate",
         "type": "\"timestamp_ntz\""
        },
        {
         "metadata": "{}",
         "name": "Airline",
         "type": "\"string\""
        },
        {
         "metadata": "{}",
         "name": "Origin",
         "type": "\"string\""
        },
        {
         "metadata": "{}",
         "name": "Dest",
         "type": "\"string\""
        },
        {
         "metadata": "{}",
         "name": "Cancelled",
         "type": "\"boolean\""
        },
        {
         "metadata": "{}",
         "name": "Diverted",
         "type": "\"boolean\""
        },
        {
         "metadata": "{}",
         "name": "CRSDepTime",
         "type": "\"long\""
        },
        {
         "metadata": "{}",
         "name": "DepTime",
         "type": "\"double\""
        },
        {
         "metadata": "{}",
         "name": "DepDelayMinutes",
         "type": "\"double\""
        },
        {
         "metadata": "{}",
         "name": "DepDelay",
         "type": "\"double\""
        },
        {
         "metadata": "{}",
         "name": "ArrTime",
         "type": "\"double\""
        },
        {
         "metadata": "{}",
         "name": "ArrDelayMinutes",
         "type": "\"double\""
        },
        {
         "metadata": "{}",
         "name": "AirTime",
         "type": "\"double\""
        },
        {
         "metadata": "{}",
         "name": "CRSElapsedTime",
         "type": "\"double\""
        },
        {
         "metadata": "{}",
         "name": "ActualElapsedTime",
         "type": "\"double\""
        },
        {
         "metadata": "{}",
         "name": "Distance",
         "type": "\"double\""
        },
        {
         "metadata": "{}",
         "name": "Year",
         "type": "\"long\""
        },
        {
         "metadata": "{}",
         "name": "Quarter",
         "type": "\"long\""
        },
        {
         "metadata": "{}",
         "name": "Month",
         "type": "\"long\""
        },
        {
         "metadata": "{}",
         "name": "DayofMonth",
         "type": "\"long\""
        },
        {
         "metadata": "{}",
         "name": "DayOfWeek",
         "type": "\"long\""
        },
        {
         "metadata": "{}",
         "name": "Marketing_Airline_Network",
         "type": "\"string\""
        },
        {
         "metadata": "{}",
         "name": "Operated_or_Branded_Code_Share_Partners",
         "type": "\"string\""
        },
        {
         "metadata": "{}",
         "name": "DOT_ID_Marketing_Airline",
         "type": "\"long\""
        },
        {
         "metadata": "{}",
         "name": "IATA_Code_Marketing_Airline",
         "type": "\"string\""
        },
        {
         "metadata": "{}",
         "name": "Flight_Number_Marketing_Airline",
         "type": "\"long\""
        },
        {
         "metadata": "{}",
         "name": "Operating_Airline",
         "type": "\"string\""
        },
        {
         "metadata": "{}",
         "name": "DOT_ID_Operating_Airline",
         "type": "\"long\""
        },
        {
         "metadata": "{}",
         "name": "IATA_Code_Operating_Airline",
         "type": "\"string\""
        },
        {
         "metadata": "{}",
         "name": "Tail_Number",
         "type": "\"string\""
        },
        {
         "metadata": "{}",
         "name": "Flight_Number_Operating_Airline",
         "type": "\"long\""
        },
        {
         "metadata": "{}",
         "name": "OriginAirportID",
         "type": "\"long\""
        },
        {
         "metadata": "{}",
         "name": "OriginAirportSeqID",
         "type": "\"long\""
        },
        {
         "metadata": "{}",
         "name": "OriginCityMarketID",
         "type": "\"long\""
        },
        {
         "metadata": "{}",
         "name": "OriginCityName",
         "type": "\"string\""
        },
        {
         "metadata": "{}",
         "name": "OriginState",
         "type": "\"string\""
        },
        {
         "metadata": "{}",
         "name": "OriginStateFips",
         "type": "\"long\""
        },
        {
         "metadata": "{}",
         "name": "OriginStateName",
         "type": "\"string\""
        },
        {
         "metadata": "{}",
         "name": "OriginWac",
         "type": "\"long\""
        },
        {
         "metadata": "{}",
         "name": "DestAirportID",
         "type": "\"long\""
        },
        {
         "metadata": "{}",
         "name": "DestAirportSeqID",
         "type": "\"long\""
        },
        {
         "metadata": "{}",
         "name": "DestCityMarketID",
         "type": "\"long\""
        },
        {
         "metadata": "{}",
         "name": "DestCityName",
         "type": "\"string\""
        },
        {
         "metadata": "{}",
         "name": "DestState",
         "type": "\"string\""
        },
        {
         "metadata": "{}",
         "name": "DestStateFips",
         "type": "\"long\""
        },
        {
         "metadata": "{}",
         "name": "DestStateName",
         "type": "\"string\""
        },
        {
         "metadata": "{}",
         "name": "DestWac",
         "type": "\"long\""
        },
        {
         "metadata": "{}",
         "name": "DepDel15",
         "type": "\"double\""
        },
        {
         "metadata": "{}",
         "name": "DepartureDelayGroups",
         "type": "\"double\""
        },
        {
         "metadata": "{}",
         "name": "DepTimeBlk",
         "type": "\"string\""
        },
        {
         "metadata": "{}",
         "name": "TaxiOut",
         "type": "\"double\""
        },
        {
         "metadata": "{}",
         "name": "WheelsOff",
         "type": "\"double\""
        },
        {
         "metadata": "{}",
         "name": "WheelsOn",
         "type": "\"double\""
        },
        {
         "metadata": "{}",
         "name": "TaxiIn",
         "type": "\"double\""
        },
        {
         "metadata": "{}",
         "name": "CRSArrTime",
         "type": "\"long\""
        },
        {
         "metadata": "{}",
         "name": "ArrDelay",
         "type": "\"double\""
        },
        {
         "metadata": "{}",
         "name": "ArrDel15",
         "type": "\"double\""
        },
        {
         "metadata": "{}",
         "name": "ArrivalDelayGroups",
         "type": "\"double\""
        },
        {
         "metadata": "{}",
         "name": "ArrTimeBlk",
         "type": "\"string\""
        },
        {
         "metadata": "{}",
         "name": "DistanceGroup",
         "type": "\"long\""
        },
        {
         "metadata": "{}",
         "name": "DivAirportLandings",
         "type": "\"double\""
        },
        {
         "metadata": "{}",
         "name": "__index_level_0__",
         "type": "\"long\""
        }
       ],
       "type": "table"
      }
     },
     "output_type": "display_data"
    }
   ],
   "source": [
    "data.limit(5).display()"
   ]
  },
  {
   "cell_type": "code",
   "execution_count": null,
   "metadata": {
    "application/vnd.databricks.v1+cell": {
     "cellMetadata": {
      "byteLimit": 2048000,
      "rowLimit": 10000
     },
     "inputWidgets": {},
     "nuid": "51907fac-3938-4d2c-a85c-065ac780907d",
     "showTitle": false,
     "title": ""
    }
   },
   "outputs": [
    {
     "data": {
      "text/html": [
       "<style scoped>\n",
       "  .table-result-container {\n",
       "    max-height: 300px;\n",
       "    overflow: auto;\n",
       "  }\n",
       "  table, th, td {\n",
       "    border: 1px solid black;\n",
       "    border-collapse: collapse;\n",
       "  }\n",
       "  th, td {\n",
       "    padding: 5px;\n",
       "  }\n",
       "  th {\n",
       "    text-align: left;\n",
       "  }\n",
       "</style><div class='table-result-container'><table class='table-result'><thead style='background-color: white'><tr><th>FlightDate</th><th>Airline</th><th>Origin</th><th>Dest</th><th>Cancelled</th><th>Diverted</th><th>CRSDepTime</th><th>DepTime</th><th>DepDelayMinutes</th><th>DepDelay</th><th>ArrTime</th><th>ArrDelayMinutes</th><th>AirTime</th><th>CRSElapsedTime</th><th>ActualElapsedTime</th><th>Distance</th><th>Year</th><th>Quarter</th><th>Month</th><th>DayofMonth</th><th>DayOfWeek</th><th>Marketing_Airline_Network</th><th>Operated_or_Branded_Code_Share_Partners</th><th>DOT_ID_Marketing_Airline</th><th>IATA_Code_Marketing_Airline</th><th>Flight_Number_Marketing_Airline</th><th>Operating_Airline</th><th>DOT_ID_Operating_Airline</th><th>IATA_Code_Operating_Airline</th><th>Tail_Number</th><th>Flight_Number_Operating_Airline</th><th>OriginAirportID</th><th>OriginAirportSeqID</th><th>OriginCityMarketID</th><th>OriginCityName</th><th>OriginState</th><th>OriginStateFips</th><th>OriginStateName</th><th>OriginWac</th><th>DestAirportID</th><th>DestAirportSeqID</th><th>DestCityMarketID</th><th>DestCityName</th><th>DestState</th><th>DestStateFips</th><th>DestStateName</th><th>DestWac</th><th>DepDel15</th><th>DepartureDelayGroups</th><th>DepTimeBlk</th><th>TaxiOut</th><th>WheelsOff</th><th>WheelsOn</th><th>TaxiIn</th><th>CRSArrTime</th><th>ArrDelay</th><th>ArrDel15</th><th>ArrivalDelayGroups</th><th>ArrTimeBlk</th><th>DistanceGroup</th><th>DivAirportLandings</th><th>__index_level_0__</th></tr></thead><tbody><tr><td>0</td><td>0</td><td>0</td><td>0</td><td>0</td><td>0</td><td>0</td><td>761652</td><td>763084</td><td>763084</td><td>786177</td><td>846183</td><td>852561</td><td>22</td><td>845637</td><td>0</td><td>0</td><td>0</td><td>0</td><td>0</td><td>0</td><td>0</td><td>0</td><td>0</td><td>0</td><td>0</td><td>0</td><td>0</td><td>0</td><td>267613</td><td>0</td><td>0</td><td>0</td><td>0</td><td>0</td><td>0</td><td>0</td><td>0</td><td>0</td><td>0</td><td>0</td><td>0</td><td>0</td><td>0</td><td>0</td><td>0</td><td>0</td><td>763084</td><td>763084</td><td>0</td><td>780561</td><td>780551</td><td>793133</td><td>793143</td><td>0</td><td>846183</td><td>846183</td><td>846183</td><td>0</td><td>0</td><td>90</td><td>0</td></tr></tbody></table></div>"
      ]
     },
     "metadata": {
      "application/vnd.databricks.v1+output": {
       "addedWidgets": {},
       "aggData": [],
       "aggError": "",
       "aggOverflow": false,
       "aggSchema": [],
       "aggSeriesLimitReached": false,
       "aggType": "",
       "arguments": {},
       "columnCustomDisplayInfos": {},
       "data": [
        [
         0,
         0,
         0,
         0,
         0,
         0,
         0,
         761652,
         763084,
         763084,
         786177,
         846183,
         852561,
         22,
         845637,
         0,
         0,
         0,
         0,
         0,
         0,
         0,
         0,
         0,
         0,
         0,
         0,
         0,
         0,
         267613,
         0,
         0,
         0,
         0,
         0,
         0,
         0,
         0,
         0,
         0,
         0,
         0,
         0,
         0,
         0,
         0,
         0,
         763084,
         763084,
         0,
         780561,
         780551,
         793133,
         793143,
         0,
         846183,
         846183,
         846183,
         0,
         0,
         90,
         0
        ]
       ],
       "datasetInfos": [],
       "dbfsResultPath": null,
       "isJsonSchema": true,
       "metadata": {},
       "overflow": false,
       "plotOptions": {
        "customPlotOptions": {},
        "displayType": "table",
        "pivotAggregation": null,
        "pivotColumns": null,
        "xColumns": null,
        "yColumns": null
       },
       "removedWidgets": [],
       "schema": [
        {
         "metadata": "{}",
         "name": "FlightDate",
         "type": "\"long\""
        },
        {
         "metadata": "{}",
         "name": "Airline",
         "type": "\"long\""
        },
        {
         "metadata": "{}",
         "name": "Origin",
         "type": "\"long\""
        },
        {
         "metadata": "{}",
         "name": "Dest",
         "type": "\"long\""
        },
        {
         "metadata": "{}",
         "name": "Cancelled",
         "type": "\"long\""
        },
        {
         "metadata": "{}",
         "name": "Diverted",
         "type": "\"long\""
        },
        {
         "metadata": "{}",
         "name": "CRSDepTime",
         "type": "\"long\""
        },
        {
         "metadata": "{}",
         "name": "DepTime",
         "type": "\"long\""
        },
        {
         "metadata": "{}",
         "name": "DepDelayMinutes",
         "type": "\"long\""
        },
        {
         "metadata": "{}",
         "name": "DepDelay",
         "type": "\"long\""
        },
        {
         "metadata": "{}",
         "name": "ArrTime",
         "type": "\"long\""
        },
        {
         "metadata": "{}",
         "name": "ArrDelayMinutes",
         "type": "\"long\""
        },
        {
         "metadata": "{}",
         "name": "AirTime",
         "type": "\"long\""
        },
        {
         "metadata": "{}",
         "name": "CRSElapsedTime",
         "type": "\"long\""
        },
        {
         "metadata": "{}",
         "name": "ActualElapsedTime",
         "type": "\"long\""
        },
        {
         "metadata": "{}",
         "name": "Distance",
         "type": "\"long\""
        },
        {
         "metadata": "{}",
         "name": "Year",
         "type": "\"long\""
        },
        {
         "metadata": "{}",
         "name": "Quarter",
         "type": "\"long\""
        },
        {
         "metadata": "{}",
         "name": "Month",
         "type": "\"long\""
        },
        {
         "metadata": "{}",
         "name": "DayofMonth",
         "type": "\"long\""
        },
        {
         "metadata": "{}",
         "name": "DayOfWeek",
         "type": "\"long\""
        },
        {
         "metadata": "{}",
         "name": "Marketing_Airline_Network",
         "type": "\"long\""
        },
        {
         "metadata": "{}",
         "name": "Operated_or_Branded_Code_Share_Partners",
         "type": "\"long\""
        },
        {
         "metadata": "{}",
         "name": "DOT_ID_Marketing_Airline",
         "type": "\"long\""
        },
        {
         "metadata": "{}",
         "name": "IATA_Code_Marketing_Airline",
         "type": "\"long\""
        },
        {
         "metadata": "{}",
         "name": "Flight_Number_Marketing_Airline",
         "type": "\"long\""
        },
        {
         "metadata": "{}",
         "name": "Operating_Airline",
         "type": "\"long\""
        },
        {
         "metadata": "{}",
         "name": "DOT_ID_Operating_Airline",
         "type": "\"long\""
        },
        {
         "metadata": "{}",
         "name": "IATA_Code_Operating_Airline",
         "type": "\"long\""
        },
        {
         "metadata": "{}",
         "name": "Tail_Number",
         "type": "\"long\""
        },
        {
         "metadata": "{}",
         "name": "Flight_Number_Operating_Airline",
         "type": "\"long\""
        },
        {
         "metadata": "{}",
         "name": "OriginAirportID",
         "type": "\"long\""
        },
        {
         "metadata": "{}",
         "name": "OriginAirportSeqID",
         "type": "\"long\""
        },
        {
         "metadata": "{}",
         "name": "OriginCityMarketID",
         "type": "\"long\""
        },
        {
         "metadata": "{}",
         "name": "OriginCityName",
         "type": "\"long\""
        },
        {
         "metadata": "{}",
         "name": "OriginState",
         "type": "\"long\""
        },
        {
         "metadata": "{}",
         "name": "OriginStateFips",
         "type": "\"long\""
        },
        {
         "metadata": "{}",
         "name": "OriginStateName",
         "type": "\"long\""
        },
        {
         "metadata": "{}",
         "name": "OriginWac",
         "type": "\"long\""
        },
        {
         "metadata": "{}",
         "name": "DestAirportID",
         "type": "\"long\""
        },
        {
         "metadata": "{}",
         "name": "DestAirportSeqID",
         "type": "\"long\""
        },
        {
         "metadata": "{}",
         "name": "DestCityMarketID",
         "type": "\"long\""
        },
        {
         "metadata": "{}",
         "name": "DestCityName",
         "type": "\"long\""
        },
        {
         "metadata": "{}",
         "name": "DestState",
         "type": "\"long\""
        },
        {
         "metadata": "{}",
         "name": "DestStateFips",
         "type": "\"long\""
        },
        {
         "metadata": "{}",
         "name": "DestStateName",
         "type": "\"long\""
        },
        {
         "metadata": "{}",
         "name": "DestWac",
         "type": "\"long\""
        },
        {
         "metadata": "{}",
         "name": "DepDel15",
         "type": "\"long\""
        },
        {
         "metadata": "{}",
         "name": "DepartureDelayGroups",
         "type": "\"long\""
        },
        {
         "metadata": "{}",
         "name": "DepTimeBlk",
         "type": "\"long\""
        },
        {
         "metadata": "{}",
         "name": "TaxiOut",
         "type": "\"long\""
        },
        {
         "metadata": "{}",
         "name": "WheelsOff",
         "type": "\"long\""
        },
        {
         "metadata": "{}",
         "name": "WheelsOn",
         "type": "\"long\""
        },
        {
         "metadata": "{}",
         "name": "TaxiIn",
         "type": "\"long\""
        },
        {
         "metadata": "{}",
         "name": "CRSArrTime",
         "type": "\"long\""
        },
        {
         "metadata": "{}",
         "name": "ArrDelay",
         "type": "\"long\""
        },
        {
         "metadata": "{}",
         "name": "ArrDel15",
         "type": "\"long\""
        },
        {
         "metadata": "{}",
         "name": "ArrivalDelayGroups",
         "type": "\"long\""
        },
        {
         "metadata": "{}",
         "name": "ArrTimeBlk",
         "type": "\"long\""
        },
        {
         "metadata": "{}",
         "name": "DistanceGroup",
         "type": "\"long\""
        },
        {
         "metadata": "{}",
         "name": "DivAirportLandings",
         "type": "\"long\""
        },
        {
         "metadata": "{}",
         "name": "__index_level_0__",
         "type": "\"long\""
        }
       ],
       "type": "table"
      }
     },
     "output_type": "display_data"
    }
   ],
   "source": [
    "data.select([count(when(col(c).isNull(), c)).alias(c) for c in data.columns]).display()\n"
   ]
  },
  {
   "cell_type": "code",
   "execution_count": null,
   "metadata": {
    "application/vnd.databricks.v1+cell": {
     "cellMetadata": {
      "byteLimit": 2048000,
      "rowLimit": 10000
     },
     "inputWidgets": {},
     "nuid": "80219a38-7f8a-477b-9c1a-97511cb0be05",
     "showTitle": false,
     "title": ""
    }
   },
   "outputs": [
    {
     "data": {
      "text/plain": [
       "28339510"
      ]
     },
     "execution_count": 22,
     "metadata": {},
     "output_type": "execute_result"
    }
   ],
   "source": [
    "data = data.dropna()\n",
    "data.count()"
   ]
  },
  {
   "cell_type": "markdown",
   "metadata": {
    "application/vnd.databricks.v1+cell": {
     "cellMetadata": {},
     "inputWidgets": {},
     "nuid": "4c493522-1805-42af-b9c8-81c9d4a57547",
     "showTitle": false,
     "title": ""
    }
   },
   "source": [
    "# Load"
   ]
  },
  {
   "cell_type": "code",
   "execution_count": null,
   "metadata": {
    "application/vnd.databricks.v1+cell": {
     "cellMetadata": {
      "byteLimit": 2048000,
      "rowLimit": 10000
     },
     "inputWidgets": {},
     "nuid": "02eaa4ad-fa5a-4318-bf5c-dd6fda6a93fe",
     "showTitle": false,
     "title": ""
    }
   },
   "outputs": [],
   "source": [
    "data.write.format('delta').saveAsTable('flights_db.flights_data')"
   ]
  },
  {
   "cell_type": "markdown",
   "metadata": {
    "application/vnd.databricks.v1+cell": {
     "cellMetadata": {},
     "inputWidgets": {},
     "nuid": "2a31390c-4097-487e-9931-2001a3fc5167",
     "showTitle": false,
     "title": ""
    }
   },
   "source": [
    "#ML pipeline"
   ]
  },
  {
   "cell_type": "code",
   "execution_count": null,
   "metadata": {
    "application/vnd.databricks.v1+cell": {
     "cellMetadata": {
      "byteLimit": 2048000,
      "rowLimit": 10000
     },
     "inputWidgets": {},
     "nuid": "8e1b1759-fd4e-43fa-99a7-592019e94b16",
     "showTitle": false,
     "title": ""
    }
   },
   "outputs": [],
   "source": [
    "from pyspark.ml.feature import VectorAssembler, MinMaxScaler, StringIndexer, OneHotEncoder\n",
    "from pyspark.ml.classification import LogisticRegression\n",
    "from pyspark.ml import Pipeline\n",
    "from pyspark.sql.functions import col"
   ]
  },
  {
   "cell_type": "code",
   "execution_count": null,
   "metadata": {
    "application/vnd.databricks.v1+cell": {
     "cellMetadata": {
      "byteLimit": 2048000,
      "rowLimit": 10000
     },
     "inputWidgets": {},
     "nuid": "12792303-1f7e-4ff3-abed-e15b68fff6ac",
     "showTitle": false,
     "title": ""
    }
   },
   "outputs": [
    {
     "data": {
      "text/plain": [
       "28339510"
      ]
     },
     "execution_count": 26,
     "metadata": {},
     "output_type": "execute_result"
    }
   ],
   "source": [
    "data = spark.read.table(\"flights_db.flights_data\")\n",
    "data.count()"
   ]
  },
  {
   "cell_type": "code",
   "execution_count": null,
   "metadata": {
    "application/vnd.databricks.v1+cell": {
     "cellMetadata": {
      "byteLimit": 2048000,
      "rowLimit": 10000
     },
     "inputWidgets": {},
     "nuid": "6c604deb-56a2-47e3-800d-c42b1e1f1dc4",
     "showTitle": false,
     "title": ""
    }
   },
   "outputs": [
    {
     "data": {
      "text/html": [
       "<style scoped>\n",
       "  .table-result-container {\n",
       "    max-height: 300px;\n",
       "    overflow: auto;\n",
       "  }\n",
       "  table, th, td {\n",
       "    border: 1px solid black;\n",
       "    border-collapse: collapse;\n",
       "  }\n",
       "  th, td {\n",
       "    padding: 5px;\n",
       "  }\n",
       "  th {\n",
       "    text-align: left;\n",
       "  }\n",
       "</style><div class='table-result-container'><table class='table-result'><thead style='background-color: white'><tr><th>Airline</th><th>Origin</th><th>Dest</th><th>Cancelled</th><th>Diverted</th><th>CRSElapsedTime</th><th>Distance</th><th>Year</th><th>Quarter</th><th>Month</th><th>DayofMonth</th><th>DayOfWeek</th><th>Marketing_Airline_Network</th><th>Operated_or_Branded_Code_Share_Partners</th><th>DOT_ID_Marketing_Airline</th><th>IATA_Code_Marketing_Airline</th><th>Flight_Number_Marketing_Airline</th><th>Operating_Airline</th><th>DOT_ID_Operating_Airline</th><th>IATA_Code_Operating_Airline</th><th>Tail_Number</th><th>Flight_Number_Operating_Airline</th><th>OriginAirportID</th><th>OriginAirportSeqID</th><th>OriginCityMarketID</th><th>OriginCityName</th><th>OriginState</th><th>OriginStateFips</th><th>OriginStateName</th><th>OriginWac</th><th>DestAirportID</th><th>DestAirportSeqID</th><th>DestCityMarketID</th><th>DestCityName</th><th>DestState</th><th>DestStateFips</th><th>DestStateName</th><th>DestWac</th><th>TaxiOut</th><th>WheelsOff</th><th>WheelsOn</th><th>TaxiIn</th><th>DistanceGroup</th><th>DivAirportLandings</th></tr></thead><tbody><tr><td>Endeavor Air Inc.</td><td>ABY</td><td>ATL</td><td>false</td><td>false</td><td>62.0</td><td>145.0</td><td>2018</td><td>1</td><td>1</td><td>23</td><td>2</td><td>DL</td><td>DL_CODESHARE</td><td>19790</td><td>DL</td><td>3298</td><td>9E</td><td>20363</td><td>9E</td><td>N8928A</td><td>3298</td><td>10146</td><td>1014602</td><td>30146</td><td>Albany, GA</td><td>GA</td><td>13</td><td>Georgia</td><td>34</td><td>10397</td><td>1039707</td><td>30397</td><td>Atlanta, GA</td><td>GA</td><td>13</td><td>Georgia</td><td>34</td><td>14.0</td><td>1211.0</td><td>1249.0</td><td>7.0</td><td>1</td><td>0.0</td></tr><tr><td>Endeavor Air Inc.</td><td>ABY</td><td>ATL</td><td>false</td><td>false</td><td>62.0</td><td>145.0</td><td>2018</td><td>1</td><td>1</td><td>24</td><td>3</td><td>DL</td><td>DL_CODESHARE</td><td>19790</td><td>DL</td><td>3298</td><td>9E</td><td>20363</td><td>9E</td><td>N800AY</td><td>3298</td><td>10146</td><td>1014602</td><td>30146</td><td>Albany, GA</td><td>GA</td><td>13</td><td>Georgia</td><td>34</td><td>10397</td><td>1039707</td><td>30397</td><td>Atlanta, GA</td><td>GA</td><td>13</td><td>Georgia</td><td>34</td><td>13.0</td><td>1210.0</td><td>1246.0</td><td>12.0</td><td>1</td><td>0.0</td></tr><tr><td>Endeavor Air Inc.</td><td>ABY</td><td>ATL</td><td>false</td><td>false</td><td>62.0</td><td>145.0</td><td>2018</td><td>1</td><td>1</td><td>25</td><td>4</td><td>DL</td><td>DL_CODESHARE</td><td>19790</td><td>DL</td><td>3298</td><td>9E</td><td>20363</td><td>9E</td><td>N8836A</td><td>3298</td><td>10146</td><td>1014602</td><td>30146</td><td>Albany, GA</td><td>GA</td><td>13</td><td>Georgia</td><td>34</td><td>10397</td><td>1039707</td><td>30397</td><td>Atlanta, GA</td><td>GA</td><td>13</td><td>Georgia</td><td>34</td><td>18.0</td><td>1211.0</td><td>1251.0</td><td>11.0</td><td>1</td><td>0.0</td></tr><tr><td>Endeavor Air Inc.</td><td>ABY</td><td>ATL</td><td>false</td><td>false</td><td>62.0</td><td>145.0</td><td>2018</td><td>1</td><td>1</td><td>26</td><td>5</td><td>DL</td><td>DL_CODESHARE</td><td>19790</td><td>DL</td><td>3298</td><td>9E</td><td>20363</td><td>9E</td><td>N800AY</td><td>3298</td><td>10146</td><td>1014602</td><td>30146</td><td>Albany, GA</td><td>GA</td><td>13</td><td>Georgia</td><td>34</td><td>10397</td><td>1039707</td><td>30397</td><td>Atlanta, GA</td><td>GA</td><td>13</td><td>Georgia</td><td>34</td><td>17.0</td><td>1207.0</td><td>1242.0</td><td>11.0</td><td>1</td><td>0.0</td></tr><tr><td>Endeavor Air Inc.</td><td>ABY</td><td>ATL</td><td>false</td><td>false</td><td>60.0</td><td>145.0</td><td>2018</td><td>1</td><td>1</td><td>27</td><td>6</td><td>DL</td><td>DL_CODESHARE</td><td>19790</td><td>DL</td><td>3298</td><td>9E</td><td>20363</td><td>9E</td><td>N8839E</td><td>3298</td><td>10146</td><td>1014602</td><td>30146</td><td>Albany, GA</td><td>GA</td><td>13</td><td>Georgia</td><td>34</td><td>10397</td><td>1039707</td><td>30397</td><td>Atlanta, GA</td><td>GA</td><td>13</td><td>Georgia</td><td>34</td><td>17.0</td><td>1412.0</td><td>1448.0</td><td>11.0</td><td>1</td><td>0.0</td></tr></tbody></table></div>"
      ]
     },
     "metadata": {
      "application/vnd.databricks.v1+output": {
       "addedWidgets": {},
       "aggData": [],
       "aggError": "",
       "aggOverflow": false,
       "aggSchema": [],
       "aggSeriesLimitReached": false,
       "aggType": "",
       "arguments": {},
       "columnCustomDisplayInfos": {},
       "data": [
        [
         "Endeavor Air Inc.",
         "ABY",
         "ATL",
         false,
         false,
         62,
         145,
         2018,
         1,
         1,
         23,
         2,
         "DL",
         "DL_CODESHARE",
         19790,
         "DL",
         3298,
         "9E",
         20363,
         "9E",
         "N8928A",
         3298,
         10146,
         1014602,
         30146,
         "Albany, GA",
         "GA",
         13,
         "Georgia",
         34,
         10397,
         1039707,
         30397,
         "Atlanta, GA",
         "GA",
         13,
         "Georgia",
         34,
         14,
         1211,
         1249,
         7,
         1,
         0
        ],
        [
         "Endeavor Air Inc.",
         "ABY",
         "ATL",
         false,
         false,
         62,
         145,
         2018,
         1,
         1,
         24,
         3,
         "DL",
         "DL_CODESHARE",
         19790,
         "DL",
         3298,
         "9E",
         20363,
         "9E",
         "N800AY",
         3298,
         10146,
         1014602,
         30146,
         "Albany, GA",
         "GA",
         13,
         "Georgia",
         34,
         10397,
         1039707,
         30397,
         "Atlanta, GA",
         "GA",
         13,
         "Georgia",
         34,
         13,
         1210,
         1246,
         12,
         1,
         0
        ],
        [
         "Endeavor Air Inc.",
         "ABY",
         "ATL",
         false,
         false,
         62,
         145,
         2018,
         1,
         1,
         25,
         4,
         "DL",
         "DL_CODESHARE",
         19790,
         "DL",
         3298,
         "9E",
         20363,
         "9E",
         "N8836A",
         3298,
         10146,
         1014602,
         30146,
         "Albany, GA",
         "GA",
         13,
         "Georgia",
         34,
         10397,
         1039707,
         30397,
         "Atlanta, GA",
         "GA",
         13,
         "Georgia",
         34,
         18,
         1211,
         1251,
         11,
         1,
         0
        ],
        [
         "Endeavor Air Inc.",
         "ABY",
         "ATL",
         false,
         false,
         62,
         145,
         2018,
         1,
         1,
         26,
         5,
         "DL",
         "DL_CODESHARE",
         19790,
         "DL",
         3298,
         "9E",
         20363,
         "9E",
         "N800AY",
         3298,
         10146,
         1014602,
         30146,
         "Albany, GA",
         "GA",
         13,
         "Georgia",
         34,
         10397,
         1039707,
         30397,
         "Atlanta, GA",
         "GA",
         13,
         "Georgia",
         34,
         17,
         1207,
         1242,
         11,
         1,
         0
        ],
        [
         "Endeavor Air Inc.",
         "ABY",
         "ATL",
         false,
         false,
         60,
         145,
         2018,
         1,
         1,
         27,
         6,
         "DL",
         "DL_CODESHARE",
         19790,
         "DL",
         3298,
         "9E",
         20363,
         "9E",
         "N8839E",
         3298,
         10146,
         1014602,
         30146,
         "Albany, GA",
         "GA",
         13,
         "Georgia",
         34,
         10397,
         1039707,
         30397,
         "Atlanta, GA",
         "GA",
         13,
         "Georgia",
         34,
         17,
         1412,
         1448,
         11,
         1,
         0
        ]
       ],
       "datasetInfos": [],
       "dbfsResultPath": null,
       "isJsonSchema": true,
       "metadata": {},
       "overflow": false,
       "plotOptions": {
        "customPlotOptions": {},
        "displayType": "table",
        "pivotAggregation": null,
        "pivotColumns": null,
        "xColumns": null,
        "yColumns": null
       },
       "removedWidgets": [],
       "schema": [
        {
         "metadata": "{}",
         "name": "Airline",
         "type": "\"string\""
        },
        {
         "metadata": "{}",
         "name": "Origin",
         "type": "\"string\""
        },
        {
         "metadata": "{}",
         "name": "Dest",
         "type": "\"string\""
        },
        {
         "metadata": "{}",
         "name": "Cancelled",
         "type": "\"boolean\""
        },
        {
         "metadata": "{}",
         "name": "Diverted",
         "type": "\"boolean\""
        },
        {
         "metadata": "{}",
         "name": "CRSElapsedTime",
         "type": "\"double\""
        },
        {
         "metadata": "{}",
         "name": "Distance",
         "type": "\"double\""
        },
        {
         "metadata": "{}",
         "name": "Year",
         "type": "\"long\""
        },
        {
         "metadata": "{}",
         "name": "Quarter",
         "type": "\"long\""
        },
        {
         "metadata": "{}",
         "name": "Month",
         "type": "\"long\""
        },
        {
         "metadata": "{}",
         "name": "DayofMonth",
         "type": "\"long\""
        },
        {
         "metadata": "{}",
         "name": "DayOfWeek",
         "type": "\"long\""
        },
        {
         "metadata": "{}",
         "name": "Marketing_Airline_Network",
         "type": "\"string\""
        },
        {
         "metadata": "{}",
         "name": "Operated_or_Branded_Code_Share_Partners",
         "type": "\"string\""
        },
        {
         "metadata": "{}",
         "name": "DOT_ID_Marketing_Airline",
         "type": "\"long\""
        },
        {
         "metadata": "{}",
         "name": "IATA_Code_Marketing_Airline",
         "type": "\"string\""
        },
        {
         "metadata": "{}",
         "name": "Flight_Number_Marketing_Airline",
         "type": "\"long\""
        },
        {
         "metadata": "{}",
         "name": "Operating_Airline",
         "type": "\"string\""
        },
        {
         "metadata": "{}",
         "name": "DOT_ID_Operating_Airline",
         "type": "\"long\""
        },
        {
         "metadata": "{}",
         "name": "IATA_Code_Operating_Airline",
         "type": "\"string\""
        },
        {
         "metadata": "{}",
         "name": "Tail_Number",
         "type": "\"string\""
        },
        {
         "metadata": "{}",
         "name": "Flight_Number_Operating_Airline",
         "type": "\"long\""
        },
        {
         "metadata": "{}",
         "name": "OriginAirportID",
         "type": "\"long\""
        },
        {
         "metadata": "{}",
         "name": "OriginAirportSeqID",
         "type": "\"long\""
        },
        {
         "metadata": "{}",
         "name": "OriginCityMarketID",
         "type": "\"long\""
        },
        {
         "metadata": "{}",
         "name": "OriginCityName",
         "type": "\"string\""
        },
        {
         "metadata": "{}",
         "name": "OriginState",
         "type": "\"string\""
        },
        {
         "metadata": "{}",
         "name": "OriginStateFips",
         "type": "\"long\""
        },
        {
         "metadata": "{}",
         "name": "OriginStateName",
         "type": "\"string\""
        },
        {
         "metadata": "{}",
         "name": "OriginWac",
         "type": "\"long\""
        },
        {
         "metadata": "{}",
         "name": "DestAirportID",
         "type": "\"long\""
        },
        {
         "metadata": "{}",
         "name": "DestAirportSeqID",
         "type": "\"long\""
        },
        {
         "metadata": "{}",
         "name": "DestCityMarketID",
         "type": "\"long\""
        },
        {
         "metadata": "{}",
         "name": "DestCityName",
         "type": "\"string\""
        },
        {
         "metadata": "{}",
         "name": "DestState",
         "type": "\"string\""
        },
        {
         "metadata": "{}",
         "name": "DestStateFips",
         "type": "\"long\""
        },
        {
         "metadata": "{}",
         "name": "DestStateName",
         "type": "\"string\""
        },
        {
         "metadata": "{}",
         "name": "DestWac",
         "type": "\"long\""
        },
        {
         "metadata": "{}",
         "name": "TaxiOut",
         "type": "\"double\""
        },
        {
         "metadata": "{}",
         "name": "WheelsOff",
         "type": "\"double\""
        },
        {
         "metadata": "{}",
         "name": "WheelsOn",
         "type": "\"double\""
        },
        {
         "metadata": "{}",
         "name": "TaxiIn",
         "type": "\"double\""
        },
        {
         "metadata": "{}",
         "name": "DistanceGroup",
         "type": "\"long\""
        },
        {
         "metadata": "{}",
         "name": "DivAirportLandings",
         "type": "\"double\""
        }
       ],
       "type": "table"
      }
     },
     "output_type": "display_data"
    }
   ],
   "source": [
    "dep_cols = [x for x in data.columns if \"Dep\" in x]\n",
    "arr_cols = [x for x in data.columns if \"Arr\" in x]\n",
    "time_columns = dep_cols + arr_cols + ['AirTime', 'ActualElapsedTime', '__index_level_0__','FlightDate']\n",
    "data = data.drop(*time_columns)\n",
    "data.limit(5).display()"
   ]
  },
  {
   "cell_type": "code",
   "execution_count": null,
   "metadata": {
    "application/vnd.databricks.v1+cell": {
     "cellMetadata": {
      "byteLimit": 2048000,
      "rowLimit": 10000
     },
     "inputWidgets": {},
     "nuid": "179cb1cd-28e7-4982-9d31-551060ffcf1c",
     "showTitle": false,
     "title": ""
    }
   },
   "outputs": [],
   "source": [
    "str_to_encode = [col for col, dtype in data.dtypes if dtype == \"string\"]\n",
    "out_str_to_encode = [\"enc_\" + col for col in str_to_encode]\n",
    "num_to_scale = [col for col, dtype in data.dtypes if dtype in ['bigint', 'double']] + out_str_to_encode"
   ]
  },
  {
   "cell_type": "code",
   "execution_count": null,
   "metadata": {
    "application/vnd.databricks.v1+cell": {
     "cellMetadata": {
      "byteLimit": 2048000,
      "rowLimit": 10000
     },
     "inputWidgets": {},
     "nuid": "e3a0a0ef-9fae-44c8-9825-0e49d875adb8",
     "showTitle": false,
     "title": ""
    }
   },
   "outputs": [],
   "source": [
    "str_ind = StringIndexer(inputCols=str_to_encode, outputCols=out_str_to_encode)\n",
    "\n",
    "assembler = VectorAssembler(inputCols=num_to_scale, outputCol='c_vec')\n",
    "\n",
    "scaler = MinMaxScaler(inputCol=\"c_vec\", outputCol=\"c_scaled\")\n",
    "\n",
    "lr = LogisticRegression(featuresCol='c_scaled', labelCol='Cancelled')\n",
    "pipeline = Pipeline(stages=[str_ind, assembler, scaler, lr])"
   ]
  },
  {
   "cell_type": "code",
   "execution_count": null,
   "metadata": {
    "application/vnd.databricks.v1+cell": {
     "cellMetadata": {
      "byteLimit": 2048000,
      "rowLimit": 10000
     },
     "inputWidgets": {},
     "nuid": "932dbdf5-00dd-438a-be93-6630a4e4e72e",
     "showTitle": false,
     "title": ""
    }
   },
   "outputs": [
    {
     "data": {
      "text/html": [
       "<style scoped>\n",
       "  .table-result-container {\n",
       "    max-height: 300px;\n",
       "    overflow: auto;\n",
       "  }\n",
       "  table, th, td {\n",
       "    border: 1px solid black;\n",
       "    border-collapse: collapse;\n",
       "  }\n",
       "  th, td {\n",
       "    padding: 5px;\n",
       "  }\n",
       "  th {\n",
       "    text-align: left;\n",
       "  }\n",
       "</style><div class='table-result-container'><table class='table-result'><thead style='background-color: white'><tr><th>Airline</th><th>Origin</th><th>Dest</th><th>Cancelled</th><th>Diverted</th><th>CRSElapsedTime</th><th>Distance</th><th>Year</th><th>Quarter</th><th>Month</th><th>DayofMonth</th><th>DayOfWeek</th><th>Marketing_Airline_Network</th><th>Operated_or_Branded_Code_Share_Partners</th><th>DOT_ID_Marketing_Airline</th><th>IATA_Code_Marketing_Airline</th><th>Flight_Number_Marketing_Airline</th><th>Operating_Airline</th><th>DOT_ID_Operating_Airline</th><th>IATA_Code_Operating_Airline</th><th>Tail_Number</th><th>Flight_Number_Operating_Airline</th><th>OriginAirportID</th><th>OriginAirportSeqID</th><th>OriginCityMarketID</th><th>OriginCityName</th><th>OriginState</th><th>OriginStateFips</th><th>OriginStateName</th><th>OriginWac</th><th>DestAirportID</th><th>DestAirportSeqID</th><th>DestCityMarketID</th><th>DestCityName</th><th>DestState</th><th>DestStateFips</th><th>DestStateName</th><th>DestWac</th><th>TaxiOut</th><th>WheelsOff</th><th>WheelsOn</th><th>TaxiIn</th><th>DistanceGroup</th><th>DivAirportLandings</th></tr></thead><tbody><tr><td>Air Wisconsin Airlines Corp</td><td>ABE</td><td>ORD</td><td>0</td><td>false</td><td>130.0</td><td>654.0</td><td>2019</td><td>3</td><td>7</td><td>1</td><td>1</td><td>UA</td><td>UA_CODESHARE</td><td>19977</td><td>UA</td><td>3785</td><td>ZW</td><td>20046</td><td>ZW</td><td>N459AW</td><td>3785</td><td>10135</td><td>1013505</td><td>30135</td><td>Allentown/Bethlehem/Easton, PA</td><td>PA</td><td>42</td><td>Pennsylvania</td><td>23</td><td>13930</td><td>1393007</td><td>30977</td><td>Chicago, IL</td><td>IL</td><td>17</td><td>Illinois</td><td>41</td><td>13.0</td><td>807.0</td><td>841.0</td><td>24.0</td><td>3</td><td>0.0</td></tr><tr><td>Air Wisconsin Airlines Corp</td><td>ABE</td><td>ORD</td><td>0</td><td>false</td><td>130.0</td><td>654.0</td><td>2019</td><td>3</td><td>7</td><td>2</td><td>2</td><td>UA</td><td>UA_CODESHARE</td><td>19977</td><td>UA</td><td>3785</td><td>ZW</td><td>20046</td><td>ZW</td><td>N424AW</td><td>3785</td><td>10135</td><td>1013505</td><td>30135</td><td>Allentown/Bethlehem/Easton, PA</td><td>PA</td><td>42</td><td>Pennsylvania</td><td>23</td><td>13930</td><td>1393007</td><td>30977</td><td>Chicago, IL</td><td>IL</td><td>17</td><td>Illinois</td><td>41</td><td>17.0</td><td>808.0</td><td>846.0</td><td>23.0</td><td>3</td><td>0.0</td></tr><tr><td>Air Wisconsin Airlines Corp</td><td>ABE</td><td>ORD</td><td>0</td><td>false</td><td>130.0</td><td>654.0</td><td>2019</td><td>3</td><td>7</td><td>4</td><td>4</td><td>UA</td><td>UA_CODESHARE</td><td>19977</td><td>UA</td><td>3785</td><td>ZW</td><td>20046</td><td>ZW</td><td>N452AW</td><td>3785</td><td>10135</td><td>1013505</td><td>30135</td><td>Allentown/Bethlehem/Easton, PA</td><td>PA</td><td>42</td><td>Pennsylvania</td><td>23</td><td>13930</td><td>1393007</td><td>30977</td><td>Chicago, IL</td><td>IL</td><td>17</td><td>Illinois</td><td>41</td><td>15.0</td><td>805.0</td><td>838.0</td><td>23.0</td><td>3</td><td>0.0</td></tr><tr><td>Air Wisconsin Airlines Corp</td><td>ABE</td><td>ORD</td><td>0</td><td>false</td><td>130.0</td><td>654.0</td><td>2019</td><td>3</td><td>7</td><td>5</td><td>5</td><td>UA</td><td>UA_CODESHARE</td><td>19977</td><td>UA</td><td>3785</td><td>ZW</td><td>20046</td><td>ZW</td><td>N448AW</td><td>3785</td><td>10135</td><td>1013505</td><td>30135</td><td>Allentown/Bethlehem/Easton, PA</td><td>PA</td><td>42</td><td>Pennsylvania</td><td>23</td><td>13930</td><td>1393007</td><td>30977</td><td>Chicago, IL</td><td>IL</td><td>17</td><td>Illinois</td><td>41</td><td>14.0</td><td>806.0</td><td>840.0</td><td>26.0</td><td>3</td><td>0.0</td></tr><tr><td>Air Wisconsin Airlines Corp</td><td>ABE</td><td>ORD</td><td>0</td><td>false</td><td>130.0</td><td>654.0</td><td>2019</td><td>3</td><td>7</td><td>6</td><td>6</td><td>UA</td><td>UA_CODESHARE</td><td>19977</td><td>UA</td><td>3785</td><td>ZW</td><td>20046</td><td>ZW</td><td>N451AW</td><td>3785</td><td>10135</td><td>1013505</td><td>30135</td><td>Allentown/Bethlehem/Easton, PA</td><td>PA</td><td>42</td><td>Pennsylvania</td><td>23</td><td>13930</td><td>1393007</td><td>30977</td><td>Chicago, IL</td><td>IL</td><td>17</td><td>Illinois</td><td>41</td><td>12.0</td><td>802.0</td><td>843.0</td><td>18.0</td><td>3</td><td>0.0</td></tr></tbody></table></div>"
      ]
     },
     "metadata": {
      "application/vnd.databricks.v1+output": {
       "addedWidgets": {},
       "aggData": [],
       "aggError": "",
       "aggOverflow": false,
       "aggSchema": [],
       "aggSeriesLimitReached": false,
       "aggType": "",
       "arguments": {},
       "columnCustomDisplayInfos": {},
       "data": [
        [
         "Air Wisconsin Airlines Corp",
         "ABE",
         "ORD",
         0,
         false,
         130,
         654,
         2019,
         3,
         7,
         1,
         1,
         "UA",
         "UA_CODESHARE",
         19977,
         "UA",
         3785,
         "ZW",
         20046,
         "ZW",
         "N459AW",
         3785,
         10135,
         1013505,
         30135,
         "Allentown/Bethlehem/Easton, PA",
         "PA",
         42,
         "Pennsylvania",
         23,
         13930,
         1393007,
         30977,
         "Chicago, IL",
         "IL",
         17,
         "Illinois",
         41,
         13,
         807,
         841,
         24,
         3,
         0
        ],
        [
         "Air Wisconsin Airlines Corp",
         "ABE",
         "ORD",
         0,
         false,
         130,
         654,
         2019,
         3,
         7,
         2,
         2,
         "UA",
         "UA_CODESHARE",
         19977,
         "UA",
         3785,
         "ZW",
         20046,
         "ZW",
         "N424AW",
         3785,
         10135,
         1013505,
         30135,
         "Allentown/Bethlehem/Easton, PA",
         "PA",
         42,
         "Pennsylvania",
         23,
         13930,
         1393007,
         30977,
         "Chicago, IL",
         "IL",
         17,
         "Illinois",
         41,
         17,
         808,
         846,
         23,
         3,
         0
        ],
        [
         "Air Wisconsin Airlines Corp",
         "ABE",
         "ORD",
         0,
         false,
         130,
         654,
         2019,
         3,
         7,
         4,
         4,
         "UA",
         "UA_CODESHARE",
         19977,
         "UA",
         3785,
         "ZW",
         20046,
         "ZW",
         "N452AW",
         3785,
         10135,
         1013505,
         30135,
         "Allentown/Bethlehem/Easton, PA",
         "PA",
         42,
         "Pennsylvania",
         23,
         13930,
         1393007,
         30977,
         "Chicago, IL",
         "IL",
         17,
         "Illinois",
         41,
         15,
         805,
         838,
         23,
         3,
         0
        ],
        [
         "Air Wisconsin Airlines Corp",
         "ABE",
         "ORD",
         0,
         false,
         130,
         654,
         2019,
         3,
         7,
         5,
         5,
         "UA",
         "UA_CODESHARE",
         19977,
         "UA",
         3785,
         "ZW",
         20046,
         "ZW",
         "N448AW",
         3785,
         10135,
         1013505,
         30135,
         "Allentown/Bethlehem/Easton, PA",
         "PA",
         42,
         "Pennsylvania",
         23,
         13930,
         1393007,
         30977,
         "Chicago, IL",
         "IL",
         17,
         "Illinois",
         41,
         14,
         806,
         840,
         26,
         3,
         0
        ],
        [
         "Air Wisconsin Airlines Corp",
         "ABE",
         "ORD",
         0,
         false,
         130,
         654,
         2019,
         3,
         7,
         6,
         6,
         "UA",
         "UA_CODESHARE",
         19977,
         "UA",
         3785,
         "ZW",
         20046,
         "ZW",
         "N451AW",
         3785,
         10135,
         1013505,
         30135,
         "Allentown/Bethlehem/Easton, PA",
         "PA",
         42,
         "Pennsylvania",
         23,
         13930,
         1393007,
         30977,
         "Chicago, IL",
         "IL",
         17,
         "Illinois",
         41,
         12,
         802,
         843,
         18,
         3,
         0
        ]
       ],
       "datasetInfos": [],
       "dbfsResultPath": null,
       "isJsonSchema": true,
       "metadata": {},
       "overflow": false,
       "plotOptions": {
        "customPlotOptions": {},
        "displayType": "table",
        "pivotAggregation": null,
        "pivotColumns": null,
        "xColumns": null,
        "yColumns": null
       },
       "removedWidgets": [],
       "schema": [
        {
         "metadata": "{}",
         "name": "Airline",
         "type": "\"string\""
        },
        {
         "metadata": "{}",
         "name": "Origin",
         "type": "\"string\""
        },
        {
         "metadata": "{}",
         "name": "Dest",
         "type": "\"string\""
        },
        {
         "metadata": "{}",
         "name": "Cancelled",
         "type": "\"integer\""
        },
        {
         "metadata": "{}",
         "name": "Diverted",
         "type": "\"boolean\""
        },
        {
         "metadata": "{}",
         "name": "CRSElapsedTime",
         "type": "\"double\""
        },
        {
         "metadata": "{}",
         "name": "Distance",
         "type": "\"double\""
        },
        {
         "metadata": "{}",
         "name": "Year",
         "type": "\"long\""
        },
        {
         "metadata": "{}",
         "name": "Quarter",
         "type": "\"long\""
        },
        {
         "metadata": "{}",
         "name": "Month",
         "type": "\"long\""
        },
        {
         "metadata": "{}",
         "name": "DayofMonth",
         "type": "\"long\""
        },
        {
         "metadata": "{}",
         "name": "DayOfWeek",
         "type": "\"long\""
        },
        {
         "metadata": "{}",
         "name": "Marketing_Airline_Network",
         "type": "\"string\""
        },
        {
         "metadata": "{}",
         "name": "Operated_or_Branded_Code_Share_Partners",
         "type": "\"string\""
        },
        {
         "metadata": "{}",
         "name": "DOT_ID_Marketing_Airline",
         "type": "\"long\""
        },
        {
         "metadata": "{}",
         "name": "IATA_Code_Marketing_Airline",
         "type": "\"string\""
        },
        {
         "metadata": "{}",
         "name": "Flight_Number_Marketing_Airline",
         "type": "\"long\""
        },
        {
         "metadata": "{}",
         "name": "Operating_Airline",
         "type": "\"string\""
        },
        {
         "metadata": "{}",
         "name": "DOT_ID_Operating_Airline",
         "type": "\"long\""
        },
        {
         "metadata": "{}",
         "name": "IATA_Code_Operating_Airline",
         "type": "\"string\""
        },
        {
         "metadata": "{}",
         "name": "Tail_Number",
         "type": "\"string\""
        },
        {
         "metadata": "{}",
         "name": "Flight_Number_Operating_Airline",
         "type": "\"long\""
        },
        {
         "metadata": "{}",
         "name": "OriginAirportID",
         "type": "\"long\""
        },
        {
         "metadata": "{}",
         "name": "OriginAirportSeqID",
         "type": "\"long\""
        },
        {
         "metadata": "{}",
         "name": "OriginCityMarketID",
         "type": "\"long\""
        },
        {
         "metadata": "{}",
         "name": "OriginCityName",
         "type": "\"string\""
        },
        {
         "metadata": "{}",
         "name": "OriginState",
         "type": "\"string\""
        },
        {
         "metadata": "{}",
         "name": "OriginStateFips",
         "type": "\"long\""
        },
        {
         "metadata": "{}",
         "name": "OriginStateName",
         "type": "\"string\""
        },
        {
         "metadata": "{}",
         "name": "OriginWac",
         "type": "\"long\""
        },
        {
         "metadata": "{}",
         "name": "DestAirportID",
         "type": "\"long\""
        },
        {
         "metadata": "{}",
         "name": "DestAirportSeqID",
         "type": "\"long\""
        },
        {
         "metadata": "{}",
         "name": "DestCityMarketID",
         "type": "\"long\""
        },
        {
         "metadata": "{}",
         "name": "DestCityName",
         "type": "\"string\""
        },
        {
         "metadata": "{}",
         "name": "DestState",
         "type": "\"string\""
        },
        {
         "metadata": "{}",
         "name": "DestStateFips",
         "type": "\"long\""
        },
        {
         "metadata": "{}",
         "name": "DestStateName",
         "type": "\"string\""
        },
        {
         "metadata": "{}",
         "name": "DestWac",
         "type": "\"long\""
        },
        {
         "metadata": "{}",
         "name": "TaxiOut",
         "type": "\"double\""
        },
        {
         "metadata": "{}",
         "name": "WheelsOff",
         "type": "\"double\""
        },
        {
         "metadata": "{}",
         "name": "WheelsOn",
         "type": "\"double\""
        },
        {
         "metadata": "{}",
         "name": "TaxiIn",
         "type": "\"double\""
        },
        {
         "metadata": "{}",
         "name": "DistanceGroup",
         "type": "\"long\""
        },
        {
         "metadata": "{}",
         "name": "DivAirportLandings",
         "type": "\"double\""
        }
       ],
       "type": "table"
      }
     },
     "output_type": "display_data"
    }
   ],
   "source": [
    "data = data.withColumn(\"Cancelled\", data[\"Cancelled\"].cast(\"integer\"))\n",
    "train_data, test_data = data.randomSplit([0.8, 0.2], seed=42)\n",
    "train_data.limit(5).display()"
   ]
  },
  {
   "cell_type": "code",
   "execution_count": null,
   "metadata": {
    "application/vnd.databricks.v1+cell": {
     "cellMetadata": {
      "byteLimit": 2048000,
      "rowLimit": 10000
     },
     "inputWidgets": {},
     "nuid": "430ff535-04d7-4db0-9916-ded9539dd771",
     "showTitle": false,
     "title": ""
    }
   },
   "outputs": [],
   "source": [
    "model = pipeline.fit(train_data)"
   ]
  },
  {
   "cell_type": "code",
   "execution_count": null,
   "metadata": {
    "application/vnd.databricks.v1+cell": {
     "cellMetadata": {},
     "inputWidgets": {},
     "nuid": "7a0d4735-342a-4680-8f5c-a1350075e6b2",
     "showTitle": false,
     "title": ""
    }
   },
   "outputs": [],
   "source": [
    "predictions = model.transform(test_data)"
   ]
  },
  {
   "cell_type": "code",
   "execution_count": null,
   "metadata": {
    "application/vnd.databricks.v1+cell": {
     "cellMetadata": {},
     "inputWidgets": {},
     "nuid": "75be071a-1c0f-4835-94df-26095f1daf43",
     "showTitle": false,
     "title": ""
    }
   },
   "outputs": [],
   "source": [
    "from pyspark.ml.feature import StringIndexer\n",
    "from pyspark.ml.evaluation import MulticlassClassificationEvaluator\n",
    "\n",
    "indexer = StringIndexer(\n",
    "    inputCol=\"Cancelled\",\n",
    "    outputCol=\"CancelledIndex\"\n",
    ").setHandleInvalid(\"keep\")\n",
    "\n",
    "predictions = indexer.fit(predictions).transform(predictions)\n",
    "\n",
    "evaluator_acc = MulticlassClassificationEvaluator(\n",
    "    labelCol=\"CancelledIndex\",\n",
    "    predictionCol=\"prediction\",\n",
    "    metricName=\"accuracy\"\n",
    ")\n",
    "accuracy = evaluator_acc.evaluate(predictions)\n",
    "print(\"Accuracy =\", accuracy)\n",
    "\n",
    "evaluator_f1 = MulticlassClassificationEvaluator(\n",
    "    labelCol=\"CancelledIndex\",\n",
    "    predictionCol=\"prediction\",\n",
    "    metricName=\"f1\"\n",
    ")\n",
    "f1_score = evaluator_f1.evaluate(predictions)\n",
    "print(\"F1 Score =\", f1_score)"
   ]
  }
 ],
 "metadata": {
  "application/vnd.databricks.v1+notebook": {
   "dashboards": [],
   "environmentMetadata": null,
   "language": "python",
   "notebookMetadata": {
    "mostRecentlyExecutedCommandWithImplicitDF": {
     "commandId": 2633487027432775,
     "dataframes": [
      "_sqldf"
     ]
    },
    "pythonIndentUnit": 4
   },
   "notebookName": "flight data lakehouse",
   "widgets": {
    "basePath": {
     "currentValue": "",
     "nuid": "cf779bc6-b51c-484a-bd71-f3bd5bd417ef",
     "typedWidgetInfo": {
      "autoCreated": false,
      "defaultValue": "flights_data",
      "label": "1 basePath",
      "name": "basePath",
      "options": {
       "validationRegex": null,
       "widgetDisplayType": "Text"
      },
      "parameterDataType": "String"
     },
     "widgetInfo": {
      "defaultValue": "flights_data",
      "label": "1 basePath",
      "name": "basePath",
      "options": {
       "autoCreated": null,
       "validationRegex": null,
       "widgetType": "text"
      },
      "widgetType": "text"
     }
    },
    "database": {
     "currentValue": "",
     "nuid": "57460b6d-44d8-47dc-82d1-037c26a17bad",
     "typedWidgetInfo": {
      "autoCreated": false,
      "defaultValue": "flights_db",
      "label": "2 database",
      "name": "database",
      "options": {
       "validationRegex": null,
       "widgetDisplayType": "Text"
      },
      "parameterDataType": "String"
     },
     "widgetInfo": {
      "defaultValue": "flights_db",
      "label": "2 database",
      "name": "database",
      "options": {
       "autoCreated": null,
       "validationRegex": null,
       "widgetType": "text"
      },
      "widgetType": "text"
     }
    }
   }
  },
  "language_info": {
   "name": "python"
  }
 },
 "nbformat": 4,
 "nbformat_minor": 0
}
