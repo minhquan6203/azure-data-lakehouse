{
  "cells": [
    {
      "cell_type": "markdown",
      "metadata": {
        "id": "-W5pkAJmz8Hm"
      },
      "source": [
        "# Data exploratory analysis"
      ]
    },
    {
      "cell_type": "markdown",
      "metadata": {
        "id": "VmAj7KZrdpKt"
      },
      "source": [
        "# Spark set up"
      ]
    },
    {
      "cell_type": "code",
      "execution_count": 1,
      "metadata": {
        "id": "B9bt6vs7gb3I"
      },
      "outputs": [],
      "source": [
        "import os\n",
        "import platform\n",
        "local_os = platform.system()\n",
        "\n",
        "if local_os == 'Linux':\n",
        "    os.environ[\"JAVA_HOME\"] = \"/usr/lib/jvm/java-8-openjdk-amd64\"\n",
        "    os.environ[\"SPARK_HOME\"] = \"/content/spark-3.3.1-bin-hadoop3\"\n",
        "elif local_os == 'Windows':\n",
        "    os.environ[\"JAVA_HOME\"] = \"C:/Program Files/Java/jdk-19/\"\n",
        "else:\n",
        "    os.environ[\"JAVA_HOME\"] = \"/opt/homebrew/opt/openjdk/\"\n"
      ]
    },
    {
      "cell_type": "code",
      "execution_count": 2,
      "metadata": {},
      "outputs": [],
      "source": [
        "if local_os == 'Linux':\n",
        "    !apt-get install openjdk-8-jdk-headless -qq > /dev/null\n",
        "    !wget https://dlcdn.apache.org/spark/spark-3.3.1/spark-3.3.1-bin-hadoop3.tgz\n",
        "    !tar zxvf /content/spark-3.3.1-bin-hadoop3.tgz\n",
        "    !pip install -q findspark\n",
        "    import findspark\n",
        "    findspark.init()"
      ]
    },
    {
      "cell_type": "code",
      "execution_count": 3,
      "metadata": {},
      "outputs": [],
      "source": [
        "# Mount google drive\n",
        "if local_os == 'Linux':\n",
        "    from google.colab import drive\n",
        "    drive.mount('/content/drive')"
      ]
    },
    {
      "cell_type": "code",
      "execution_count": 4,
      "metadata": {
        "id": "_WJbDBY8ydct"
      },
      "outputs": [],
      "source": [
        "from pyspark.sql import SparkSession"
      ]
    },
    {
      "cell_type": "code",
      "execution_count": 5,
      "metadata": {
        "id": "Yvsf0bB9g7w4"
      },
      "outputs": [
        {
          "name": "stdout",
          "output_type": "stream",
          "text": [
            "22/12/08 09:10:50 WARN Utils: Your hostname, luiss-MacBook-Pro.local resolves to a loopback address: 127.0.0.1; using 10.254.1.241 instead (on interface en0)\n",
            "22/12/08 09:10:50 WARN Utils: Set SPARK_LOCAL_IP if you need to bind to another address\n"
          ]
        },
        {
          "name": "stderr",
          "output_type": "stream",
          "text": [
            "Setting default log level to \"WARN\".\n",
            "To adjust logging level use sc.setLogLevel(newLevel). For SparkR, use setLogLevel(newLevel).\n"
          ]
        },
        {
          "name": "stdout",
          "output_type": "stream",
          "text": [
            "22/12/08 09:10:50 WARN NativeCodeLoader: Unable to load native-hadoop library for your platform... using builtin-java classes where applicable\n"
          ]
        }
      ],
      "source": [
        "spark = SparkSession.builder\\\n",
        "        .master(\"local\")\\\n",
        "        .appName(\"flights\")\\\n",
        "        .config(\"spark.driver.memory\", \"5g\") \\\n",
        "        .config(\"spark.driver.maxResultSize\", \"5g\") \\\n",
        "        .getOrCreate()"
      ]
    },
    {
      "cell_type": "code",
      "execution_count": 6,
      "metadata": {
        "colab": {
          "base_uri": "https://localhost:8080/",
          "height": 216
        },
        "id": "FKG4LDHUhEC3",
        "outputId": "67b570a4-34d0-45bf-a029-93914f6bb822"
      },
      "outputs": [
        {
          "data": {
            "text/html": [
              "\n",
              "            <div>\n",
              "                <p><b>SparkSession - in-memory</b></p>\n",
              "                \n",
              "        <div>\n",
              "            <p><b>SparkContext</b></p>\n",
              "\n",
              "            <p><a href=\"http://10.254.1.241:4040\">Spark UI</a></p>\n",
              "\n",
              "            <dl>\n",
              "              <dt>Version</dt>\n",
              "                <dd><code>v3.3.1</code></dd>\n",
              "              <dt>Master</dt>\n",
              "                <dd><code>local</code></dd>\n",
              "              <dt>AppName</dt>\n",
              "                <dd><code>flights</code></dd>\n",
              "            </dl>\n",
              "        </div>\n",
              "        \n",
              "            </div>\n",
              "        "
            ],
            "text/plain": [
              "<pyspark.sql.session.SparkSession at 0x117a54dc0>"
            ]
          },
          "execution_count": 6,
          "metadata": {},
          "output_type": "execute_result"
        }
      ],
      "source": [
        "spark"
      ]
    },
    {
      "cell_type": "markdown",
      "metadata": {
        "id": "pc6YURM7hUFY"
      },
      "source": [
        "# Libs imports"
      ]
    },
    {
      "cell_type": "code",
      "execution_count": 7,
      "metadata": {},
      "outputs": [],
      "source": [
        "if local_os == 'Linux':\n",
        "    !pip install calmap"
      ]
    },
    {
      "cell_type": "code",
      "execution_count": 8,
      "metadata": {
        "id": "TprKxlEGhYgx"
      },
      "outputs": [],
      "source": [
        "from pyspark.sql.functions import desc, isnan, when, count, col, isnull\n",
        "from collections import Counter"
      ]
    },
    {
      "cell_type": "markdown",
      "metadata": {
        "id": "-eEWYgrUhc6X"
      },
      "source": [
        "# Data loading"
      ]
    },
    {
      "cell_type": "code",
      "execution_count": 9,
      "metadata": {
        "colab": {
          "base_uri": "https://localhost:8080/"
        },
        "id": "MQ9uwIhGmWf6",
        "outputId": "31abb8d3-7699-4d21-b88b-5d0e85da872f"
      },
      "outputs": [
        {
          "name": "stdout",
          "output_type": "stream",
          "text": [
            "../data/\n"
          ]
        },
        {
          "data": {
            "text/plain": [
              "[PosixPath('../data/Combined_Flights_2018.parquet'),\n",
              " PosixPath('../data/Combined_Flights_2019.parquet'),\n",
              " PosixPath('../data/Combined_Flights_2020.parquet'),\n",
              " PosixPath('../data/Combined_Flights_2021.parquet'),\n",
              " PosixPath('../data/Combined_Flights_2022.parquet')]"
            ]
          },
          "execution_count": 9,
          "metadata": {},
          "output_type": "execute_result"
        }
      ],
      "source": [
        "from pathlib import Path\n",
        "\n",
        "source = \"../data/\"\n",
        "print(source)\n",
        "source_path = Path(source).glob('*.parquet')\n",
        "file_names = sorted(list(source_path))\n",
        "file_names"
      ]
    },
    {
      "cell_type": "code",
      "execution_count": 10,
      "metadata": {
        "colab": {
          "base_uri": "https://localhost:8080/"
        },
        "id": "pUUVY782oiam",
        "outputId": "303e9e40-dd9a-4431-ac92-0aebd65c63ee"
      },
      "outputs": [
        {
          "name": "stderr",
          "output_type": "stream",
          "text": [
            "                                                                                \r"
          ]
        },
        {
          "name": "stdout",
          "output_type": "stream",
          "text": [
            "../data/Combined_Flights_2019.parquet\n",
            "../data/Combined_Flights_2020.parquet\n",
            "../data/Combined_Flights_2021.parquet\n",
            "../data/Combined_Flights_2022.parquet\n"
          ]
        }
      ],
      "source": [
        "def merge_data(file_names):\n",
        "  first_file = file_names.pop(0)\n",
        "  data = spark.read.parquet(first_file.as_posix())\n",
        "  for file_name in file_names:\n",
        "    temp_data = spark.read.parquet(file_name.as_posix())\n",
        "    data = data.union(temp_data)\n",
        "    print(file_name.as_posix())\n",
        "  return data\n",
        "data = merge_data(file_names)"
      ]
    },
    {
      "cell_type": "code",
      "execution_count": 11,
      "metadata": {},
      "outputs": [
        {
          "name": "stdout",
          "output_type": "stream",
          "text": [
            "root\n",
            " |-- FlightDate: timestamp (nullable = true)\n",
            " |-- Airline: string (nullable = true)\n",
            " |-- Origin: string (nullable = true)\n",
            " |-- Dest: string (nullable = true)\n",
            " |-- Cancelled: boolean (nullable = true)\n",
            " |-- Diverted: boolean (nullable = true)\n",
            " |-- CRSDepTime: long (nullable = true)\n",
            " |-- DepTime: double (nullable = true)\n",
            " |-- DepDelayMinutes: double (nullable = true)\n",
            " |-- DepDelay: double (nullable = true)\n",
            " |-- ArrTime: double (nullable = true)\n",
            " |-- ArrDelayMinutes: double (nullable = true)\n",
            " |-- AirTime: double (nullable = true)\n",
            " |-- CRSElapsedTime: double (nullable = true)\n",
            " |-- ActualElapsedTime: double (nullable = true)\n",
            " |-- Distance: double (nullable = true)\n",
            " |-- Year: long (nullable = true)\n",
            " |-- Quarter: long (nullable = true)\n",
            " |-- Month: long (nullable = true)\n",
            " |-- DayofMonth: long (nullable = true)\n",
            " |-- DayOfWeek: long (nullable = true)\n",
            " |-- Marketing_Airline_Network: string (nullable = true)\n",
            " |-- Operated_or_Branded_Code_Share_Partners: string (nullable = true)\n",
            " |-- DOT_ID_Marketing_Airline: long (nullable = true)\n",
            " |-- IATA_Code_Marketing_Airline: string (nullable = true)\n",
            " |-- Flight_Number_Marketing_Airline: long (nullable = true)\n",
            " |-- Operating_Airline: string (nullable = true)\n",
            " |-- DOT_ID_Operating_Airline: long (nullable = true)\n",
            " |-- IATA_Code_Operating_Airline: string (nullable = true)\n",
            " |-- Tail_Number: string (nullable = true)\n",
            " |-- Flight_Number_Operating_Airline: long (nullable = true)\n",
            " |-- OriginAirportID: long (nullable = true)\n",
            " |-- OriginAirportSeqID: long (nullable = true)\n",
            " |-- OriginCityMarketID: long (nullable = true)\n",
            " |-- OriginCityName: string (nullable = true)\n",
            " |-- OriginState: string (nullable = true)\n",
            " |-- OriginStateFips: long (nullable = true)\n",
            " |-- OriginStateName: string (nullable = true)\n",
            " |-- OriginWac: long (nullable = true)\n",
            " |-- DestAirportID: long (nullable = true)\n",
            " |-- DestAirportSeqID: long (nullable = true)\n",
            " |-- DestCityMarketID: long (nullable = true)\n",
            " |-- DestCityName: string (nullable = true)\n",
            " |-- DestState: string (nullable = true)\n",
            " |-- DestStateFips: long (nullable = true)\n",
            " |-- DestStateName: string (nullable = true)\n",
            " |-- DestWac: long (nullable = true)\n",
            " |-- DepDel15: double (nullable = true)\n",
            " |-- DepartureDelayGroups: double (nullable = true)\n",
            " |-- DepTimeBlk: string (nullable = true)\n",
            " |-- TaxiOut: double (nullable = true)\n",
            " |-- WheelsOff: double (nullable = true)\n",
            " |-- WheelsOn: double (nullable = true)\n",
            " |-- TaxiIn: double (nullable = true)\n",
            " |-- CRSArrTime: long (nullable = true)\n",
            " |-- ArrDelay: double (nullable = true)\n",
            " |-- ArrDel15: double (nullable = true)\n",
            " |-- ArrivalDelayGroups: double (nullable = true)\n",
            " |-- ArrTimeBlk: string (nullable = true)\n",
            " |-- DistanceGroup: long (nullable = true)\n",
            " |-- DivAirportLandings: double (nullable = true)\n",
            " |-- __index_level_0__: long (nullable = true)\n",
            "\n"
          ]
        }
      ],
      "source": [
        "data.printSchema()"
      ]
    },
    {
      "cell_type": "markdown",
      "metadata": {
        "id": "hd6hRe0_aWU0"
      },
      "source": [
        "# EDA"
      ]
    },
    {
      "cell_type": "code",
      "execution_count": 12,
      "metadata": {
        "colab": {
          "base_uri": "https://localhost:8080/"
        },
        "id": "_daIhykgiA8N",
        "outputId": "cdd5a552-c36d-4ea1-c6ab-e0ce756ebe4c"
      },
      "outputs": [
        {
          "data": {
            "text/plain": [
              "(29193782, 62)"
            ]
          },
          "execution_count": 12,
          "metadata": {},
          "output_type": "execute_result"
        }
      ],
      "source": [
        "data.count(), len(data.columns)"
      ]
    },
    {
      "cell_type": "code",
      "execution_count": 13,
      "metadata": {},
      "outputs": [
        {
          "data": {
            "text/plain": [
              "[('bigint', 23),\n",
              " ('double', 19),\n",
              " ('string', 17),\n",
              " ('boolean', 2),\n",
              " ('timestamp', 1)]"
            ]
          },
          "execution_count": 13,
          "metadata": {},
          "output_type": "execute_result"
        }
      ],
      "source": [
        "col_dict = dict(data.dtypes).values()\n",
        "c = Counter(col_dict)\n",
        "c.most_common()"
      ]
    },
    {
      "cell_type": "markdown",
      "metadata": {
        "id": "oeaIZNcCgTup"
      },
      "source": [
        "## Data types exploration"
      ]
    },
    {
      "cell_type": "code",
      "execution_count": 14,
      "metadata": {
        "colab": {
          "base_uri": "https://localhost:8080/"
        },
        "id": "pz0F-87ndtVn",
        "outputId": "fb2914b8-0995-4e4e-c46d-1c3e662f6147"
      },
      "outputs": [
        {
          "data": {
            "text/plain": [
              "{'bigint', 'boolean', 'double', 'string', 'timestamp'}"
            ]
          },
          "execution_count": 14,
          "metadata": {},
          "output_type": "execute_result"
        }
      ],
      "source": [
        "dtypes = set()\n",
        "[dtypes.add(item[1]) for item in data.dtypes]\n",
        "dtypes"
      ]
    },
    {
      "cell_type": "markdown",
      "metadata": {},
      "source": [
        "### Timestamp handling"
      ]
    },
    {
      "cell_type": "code",
      "execution_count": 15,
      "metadata": {},
      "outputs": [],
      "source": [
        "import calmap\n",
        "import matplotlib.pyplot as plt"
      ]
    },
    {
      "cell_type": "code",
      "execution_count": 16,
      "metadata": {},
      "outputs": [],
      "source": [
        "flights_date = data.groupBy('FlightDate').count()"
      ]
    },
    {
      "cell_type": "code",
      "execution_count": 17,
      "metadata": {},
      "outputs": [
        {
          "name": "stderr",
          "output_type": "stream",
          "text": [
            "                                                                                \r"
          ]
        }
      ],
      "source": [
        "pd_flights = flights_date.toPandas()"
      ]
    },
    {
      "cell_type": "code",
      "execution_count": 18,
      "metadata": {},
      "outputs": [],
      "source": [
        "pd_flights = pd_flights.set_index('FlightDate')"
      ]
    },
    {
      "cell_type": "code",
      "execution_count": 19,
      "metadata": {},
      "outputs": [],
      "source": [
        "events = pd_flights['count']"
      ]
    },
    {
      "cell_type": "code",
      "execution_count": 20,
      "metadata": {
        "colab": {
          "base_uri": "https://localhost:8080/"
        },
        "id": "Sw2rxL-v2Apv",
        "outputId": "f0032004-123b-4187-806e-714c6005f6ca"
      },
      "outputs": [
        {
          "data": {
            "image/png": "[encoded data removed]",
            "text/plain": [
              "<Figure size 432x288 with 1 Axes>"
            ]
          },
          "metadata": {
            "needs_background": "light"
          },
          "output_type": "display_data"
        }
      ],
      "source": [
        "calmap.yearplot(pd_flights['count'], year=2020)\n",
        "plt.show()"
      ]
    },
    {
      "cell_type": "code",
      "execution_count": 21,
      "metadata": {},
      "outputs": [
        {
          "data": {
            "text/plain": [
              "(<Figure size 1440x720 with 6 Axes>,\n",
              " array([<AxesSubplot:ylabel='2017'>, <AxesSubplot:ylabel='2018'>,\n",
              "        <AxesSubplot:ylabel='2019'>, <AxesSubplot:ylabel='2020'>,\n",
              "        <AxesSubplot:ylabel='2021'>, <AxesSubplot:ylabel='2022'>],\n",
              "       dtype=object))"
            ]
          },
          "execution_count": 21,
          "metadata": {},
          "output_type": "execute_result"
        },
        {
          "data": {
            "image/png": "[encoded data removed]",
            "text/plain": [
              "<Figure size 1440x720 with 6 Axes>"
            ]
          },
          "metadata": {
            "needs_background": "light"
          },
          "output_type": "display_data"
        }
      ],
      "source": [
        "calmap.calendarplot(events, monthticks=3, daylabels='MTWTFSS',\n",
        "                    dayticks=[0, 2, 4, 6], cmap='plasma',\n",
        "                    fillcolor='grey', linewidth=0,\n",
        "                    fig_kws=dict(figsize=(20, 10)))"
      ]
    },
    {
      "cell_type": "markdown",
      "metadata": {
        "id": "v1O3E8vh0NjO"
      },
      "source": [
        "### Boolean handling"
      ]
    },
    {
      "cell_type": "code",
      "execution_count": 22,
      "metadata": {
        "colab": {
          "base_uri": "https://localhost:8080/"
        },
        "id": "ImLhGtsSbqCk",
        "outputId": "f8d7ec72-88a6-43ed-a11d-67b9e7f20a23"
      },
      "outputs": [
        {
          "data": {
            "text/plain": [
              "['Cancelled', 'Diverted']"
            ]
          },
          "execution_count": 22,
          "metadata": {},
          "output_type": "execute_result"
        }
      ],
      "source": [
        "[item[0] for item in data.dtypes if item[1] == 'boolean']"
      ]
    },
    {
      "cell_type": "code",
      "execution_count": 23,
      "metadata": {
        "colab": {
          "base_uri": "https://localhost:8080/"
        },
        "id": "PTJnZqO40Mge",
        "outputId": "155b7178-f88a-41b6-b42b-fc984a0287b3"
      },
      "outputs": [
        {
          "data": {
            "text/plain": [
              "[Row(Cancelled=True, count=777267), Row(Cancelled=False, count=28416515)]"
            ]
          },
          "execution_count": 23,
          "metadata": {},
          "output_type": "execute_result"
        }
      ],
      "source": [
        "data.groupBy('Cancelled').count().orderBy('count').collect()"
      ]
    },
    {
      "cell_type": "code",
      "execution_count": 24,
      "metadata": {
        "colab": {
          "base_uri": "https://localhost:8080/"
        },
        "id": "7Yrdj3IY1Dei",
        "outputId": "c076e788-d26a-48dd-d628-1d5297925d00"
      },
      "outputs": [
        {
          "data": {
            "text/plain": [
              "[Row(Diverted=True, count=68349), Row(Diverted=False, count=29125433)]"
            ]
          },
          "execution_count": 24,
          "metadata": {},
          "output_type": "execute_result"
        }
      ],
      "source": [
        "data.groupBy('Diverted').count().orderBy('count').collect()"
      ]
    },
    {
      "cell_type": "markdown",
      "metadata": {
        "id": "UXdpobxf1OnW"
      },
      "source": [
        "### String handling"
      ]
    },
    {
      "cell_type": "code",
      "execution_count": 25,
      "metadata": {
        "id": "ZVZekqmC1Spq"
      },
      "outputs": [],
      "source": [
        "str_columns = [item[0] for item in data.dtypes if item[1] == 'string']"
      ]
    },
    {
      "cell_type": "code",
      "execution_count": 26,
      "metadata": {
        "colab": {
          "base_uri": "https://localhost:8080/"
        },
        "id": "UQ7KVqzE1wtb",
        "outputId": "78ec47aa-77bc-44fd-88e1-c09fe362f69c"
      },
      "outputs": [
        {
          "name": "stdout",
          "output_type": "stream",
          "text": [
            "+-----------------+------+----+-------------------------+---------------------------------------+---------------------------+-----------------+---------------------------+-----------+--------------+-----------+---------------+------------+---------+-------------+----------+----------+\n",
            "|          Airline|Origin|Dest|Marketing_Airline_Network|Operated_or_Branded_Code_Share_Partners|IATA_Code_Marketing_Airline|Operating_Airline|IATA_Code_Operating_Airline|Tail_Number|OriginCityName|OriginState|OriginStateName|DestCityName|DestState|DestStateName|DepTimeBlk|ArrTimeBlk|\n",
            "+-----------------+------+----+-------------------------+---------------------------------------+---------------------------+-----------------+---------------------------+-----------+--------------+-----------+---------------+------------+---------+-------------+----------+----------+\n",
            "|Endeavor Air Inc.|   ABY| ATL|                       DL|                           DL_CODESHARE|                         DL|               9E|                         9E|     N8928A|    Albany, GA|         GA|        Georgia| Atlanta, GA|       GA|      Georgia| 1200-1259| 1300-1359|\n",
            "|Endeavor Air Inc.|   ABY| ATL|                       DL|                           DL_CODESHARE|                         DL|               9E|                         9E|     N800AY|    Albany, GA|         GA|        Georgia| Atlanta, GA|       GA|      Georgia| 1200-1259| 1300-1359|\n",
            "|Endeavor Air Inc.|   ABY| ATL|                       DL|                           DL_CODESHARE|                         DL|               9E|                         9E|     N8836A|    Albany, GA|         GA|        Georgia| Atlanta, GA|       GA|      Georgia| 1200-1259| 1300-1359|\n",
            "|Endeavor Air Inc.|   ABY| ATL|                       DL|                           DL_CODESHARE|                         DL|               9E|                         9E|     N800AY|    Albany, GA|         GA|        Georgia| Atlanta, GA|       GA|      Georgia| 1200-1259| 1300-1359|\n",
            "|Endeavor Air Inc.|   ABY| ATL|                       DL|                           DL_CODESHARE|                         DL|               9E|                         9E|     N8839E|    Albany, GA|         GA|        Georgia| Atlanta, GA|       GA|      Georgia| 1400-1459| 1500-1559|\n",
            "+-----------------+------+----+-------------------------+---------------------------------------+---------------------------+-----------------+---------------------------+-----------+--------------+-----------+---------------+------------+---------+-------------+----------+----------+\n",
            "only showing top 5 rows\n",
            "\n"
          ]
        }
      ],
      "source": [
        "data.select(str_columns).show(5)"
      ]
    },
    {
      "cell_type": "code",
      "execution_count": 27,
      "metadata": {
        "id": "S2C5wYPrmboB"
      },
      "outputs": [],
      "source": [
        "data = data.drop(data.__index_level_0__)"
      ]
    },
    {
      "cell_type": "markdown",
      "metadata": {
        "id": "Ut_13ayUgO2B"
      },
      "source": [
        "## Null values handling"
      ]
    },
    {
      "cell_type": "code",
      "execution_count": 28,
      "metadata": {
        "colab": {
          "base_uri": "https://localhost:8080/"
        },
        "id": "koe30nMYgSwk",
        "outputId": "8d739afd-f822-488c-aec0-06be5b6819ec"
      },
      "outputs": [],
      "source": [
        "null_count = data.select([count(when(col(c).isNull(), c)).alias(c) for c in data.columns])"
      ]
    },
    {
      "cell_type": "code",
      "execution_count": 29,
      "metadata": {
        "id": "INq2CP3TqBuz"
      },
      "outputs": [
        {
          "name": "stdout",
          "output_type": "stream",
          "text": [
            "22/12/08 09:11:01 WARN package: Truncated the string representation of a plan since it was too large. This behavior can be adjusted by setting 'spark.sql.debug.maxToStringFields'.\n"
          ]
        },
        {
          "name": "stderr",
          "output_type": "stream",
          "text": [
            "                                                                                \r"
          ]
        }
      ],
      "source": [
        "null_values = null_count.collect()[0].asDict()"
      ]
    },
    {
      "cell_type": "code",
      "execution_count": 30,
      "metadata": {
        "colab": {
          "base_uri": "https://localhost:8080/"
        },
        "id": "az_gBpqsn63k",
        "outputId": "b65d2bc8-51e4-4813-fc1f-faf7209f795e"
      },
      "outputs": [
        {
          "name": "stderr",
          "output_type": "stream",
          "text": [
            "[Stage 31:==============================================>          (9 + 1) / 11]\r"
          ]
        },
        {
          "name": "stdout",
          "output_type": "stream",
          "text": [
            "+-------+---------------+--------+-------+---------------+-------+--------------+-----------------+-----------+--------+--------------------+-------+---------+--------+------+--------+--------+------------------+------------------+\n",
            "|DepTime|DepDelayMinutes|DepDelay|ArrTime|ArrDelayMinutes|AirTime|CRSElapsedTime|ActualElapsedTime|Tail_Number|DepDel15|DepartureDelayGroups|TaxiOut|WheelsOff|WheelsOn|TaxiIn|ArrDelay|ArrDel15|ArrivalDelayGroups|DivAirportLandings|\n",
            "+-------+---------------+--------+-------+---------------+-------+--------------+-----------------+-----------+--------+--------------------+-------+---------+--------+------+--------+--------+------------------+------------------+\n",
            "| 761652|         763084|  763084| 786177|         846183| 852561|            22|           845637|     267613|  763084|              763084| 780561|   780551|  793133|793143|  846183|  846183|            846183|                90|\n",
            "+-------+---------------+--------+-------+---------------+-------+--------------+-----------------+-----------+--------+--------------------+-------+---------+--------+------+--------+--------+------------------+------------------+\n",
            "\n"
          ]
        },
        {
          "name": "stderr",
          "output_type": "stream",
          "text": [
            "                                                                                \r"
          ]
        }
      ],
      "source": [
        "only_nulls = null_count.select([key for key in null_values if null_values[key] != 0])\n",
        "only_nulls.show()"
      ]
    },
    {
      "cell_type": "code",
      "execution_count": 31,
      "metadata": {
        "id": "YHLk5GG8qMhx"
      },
      "outputs": [],
      "source": [
        "# cols_to_delete = only_nulls.columns"
      ]
    },
    {
      "cell_type": "code",
      "execution_count": 32,
      "metadata": {
        "id": "FO1lz1GDE-yj"
      },
      "outputs": [],
      "source": [
        "# data = data.drop(*cols_to_delete)"
      ]
    },
    {
      "cell_type": "code",
      "execution_count": 33,
      "metadata": {
        "colab": {
          "base_uri": "https://localhost:8080/"
        },
        "id": "Xobj-_MtqJw5",
        "outputId": "29ac8acc-d339-4c8f-f7f4-0b0261b4e99b"
      },
      "outputs": [],
      "source": [
        "# data.printSchema()"
      ]
    },
    {
      "cell_type": "markdown",
      "metadata": {
        "id": "12ArPhrJbsUR"
      },
      "source": [
        "# Top 10 airlines with most market share"
      ]
    },
    {
      "cell_type": "code",
      "execution_count": 34,
      "metadata": {
        "colab": {
          "base_uri": "https://localhost:8080/"
        },
        "id": "C2hcCBZSfoDt",
        "outputId": "ce6508b9-a732-4c1c-8878-8e1fdb0482ad"
      },
      "outputs": [
        {
          "name": "stderr",
          "output_type": "stream",
          "text": [
            "[Stage 34:====================================>                    (7 + 1) / 11]\r"
          ]
        },
        {
          "name": "stdout",
          "output_type": "stream",
          "text": [
            "+--------------------+-------+\n",
            "|             Airline|  count|\n",
            "+--------------------+-------+\n",
            "|Southwest Airline...|5474339|\n",
            "|Delta Air Lines Inc.|3294917|\n",
            "|SkyWest Airlines ...|3159683|\n",
            "|American Airlines...|3134117|\n",
            "|United Air Lines ...|2354538|\n",
            "|   Republic Airlines|1283704|\n",
            "|     JetBlue Airways|1106079|\n",
            "|           Envoy Air|1072778|\n",
            "|   Endeavor Air Inc.| 998224|\n",
            "|         Comair Inc.| 957220|\n",
            "+--------------------+-------+\n",
            "\n"
          ]
        },
        {
          "name": "stderr",
          "output_type": "stream",
          "text": [
            "                                                                                \r"
          ]
        }
      ],
      "source": [
        "airlines_mkt_share = data.groupBy('Airline').count().sort(desc(\"count\")).limit(10)\n",
        "airlines_mkt_share.show()"
      ]
    },
    {
      "cell_type": "code",
      "execution_count": 35,
      "metadata": {
        "colab": {
          "base_uri": "https://localhost:8080/",
          "height": 392
        },
        "id": "J1jVWTkvl9j7",
        "outputId": "29b89c7f-7e3a-4ba6-b235-a376efbb1eb9"
      },
      "outputs": [
        {
          "name": "stderr",
          "output_type": "stream",
          "text": [
            "                                                                                \r"
          ]
        },
        {
          "data": {
            "image/png": "[encoded data removed]",
            "text/plain": [
              "<Figure size 432x288 with 1 Axes>"
            ]
          },
          "metadata": {
            "needs_background": "light"
          },
          "output_type": "display_data"
        }
      ],
      "source": [
        "airlines_mkt_share.toPandas().plot(kind='bar', x=\"Airline\", y=\"count\")\n",
        "None"
      ]
    },
    {
      "cell_type": "code",
      "execution_count": 36,
      "metadata": {
        "id": "_8kO-nJfwV07"
      },
      "outputs": [
        {
          "name": "stderr",
          "output_type": "stream",
          "text": [
            "                                                                                \r"
          ]
        },
        {
          "data": {
            "text/plain": [
              "28"
            ]
          },
          "execution_count": 36,
          "metadata": {},
          "output_type": "execute_result"
        }
      ],
      "source": [
        "data.select('Airline').distinct().count()"
      ]
    },
    {
      "cell_type": "markdown",
      "metadata": {
        "id": "WiZG5WpKVYLP"
      },
      "source": [
        "# Top 10 airlines with most delays"
      ]
    },
    {
      "cell_type": "code",
      "execution_count": 37,
      "metadata": {
        "id": "SiZ22V850JS2"
      },
      "outputs": [
        {
          "data": {
            "text/plain": [
              "Row(Airline='Endeavor Air Inc.', DepDelay=-5.0)"
            ]
          },
          "execution_count": 37,
          "metadata": {},
          "output_type": "execute_result"
        }
      ],
      "source": [
        "flights_delays = data.select('Airline', 'DepDelay')\n",
        "flights_delays.first()"
      ]
    },
    {
      "cell_type": "code",
      "execution_count": 38,
      "metadata": {},
      "outputs": [
        {
          "name": "stderr",
          "output_type": "stream",
          "text": [
            "                                                                                \r"
          ]
        },
        {
          "data": {
            "text/html": [
              "<div>\n",
              "<style scoped>\n",
              "    .dataframe tbody tr th:only-of-type {\n",
              "        vertical-align: middle;\n",
              "    }\n",
              "\n",
              "    .dataframe tbody tr th {\n",
              "        vertical-align: top;\n",
              "    }\n",
              "\n",
              "    .dataframe thead th {\n",
              "        text-align: right;\n",
              "    }\n",
              "</style>\n",
              "<table border=\"1\" class=\"dataframe\">\n",
              "  <thead>\n",
              "    <tr style=\"text-align: right;\">\n",
              "      <th></th>\n",
              "      <th>Airline</th>\n",
              "      <th>sum(DepDelay)</th>\n",
              "    </tr>\n",
              "  </thead>\n",
              "  <tbody>\n",
              "    <tr>\n",
              "      <th>0</th>\n",
              "      <td>Southwest Airlines Co.</td>\n",
              "      <td>53592624.0</td>\n",
              "    </tr>\n",
              "    <tr>\n",
              "      <th>1</th>\n",
              "      <td>American Airlines Inc.</td>\n",
              "      <td>32046403.0</td>\n",
              "    </tr>\n",
              "    <tr>\n",
              "      <th>2</th>\n",
              "      <td>SkyWest Airlines Inc.</td>\n",
              "      <td>30010080.0</td>\n",
              "    </tr>\n",
              "    <tr>\n",
              "      <th>3</th>\n",
              "      <td>United Air Lines Inc.</td>\n",
              "      <td>23529263.0</td>\n",
              "    </tr>\n",
              "    <tr>\n",
              "      <th>4</th>\n",
              "      <td>Delta Air Lines Inc.</td>\n",
              "      <td>21712100.0</td>\n",
              "    </tr>\n",
              "  </tbody>\n",
              "</table>\n",
              "</div>"
            ],
            "text/plain": [
              "                  Airline  sum(DepDelay)\n",
              "0  Southwest Airlines Co.     53592624.0\n",
              "1  American Airlines Inc.     32046403.0\n",
              "2   SkyWest Airlines Inc.     30010080.0\n",
              "3   United Air Lines Inc.     23529263.0\n",
              "4    Delta Air Lines Inc.     21712100.0"
            ]
          },
          "execution_count": 38,
          "metadata": {},
          "output_type": "execute_result"
        }
      ],
      "source": [
        "df_f_delays = flights_delays.groupBy('Airline').sum().orderBy(desc('sum(DepDelay)'))\n",
        "df_f_delays = df_f_delays.toPandas()\n",
        "df_f_delays.head()"
      ]
    },
    {
      "cell_type": "code",
      "execution_count": 39,
      "metadata": {},
      "outputs": [
        {
          "data": {
            "text/plain": [
              "<Figure size 2400x1600 with 0 Axes>"
            ]
          },
          "metadata": {},
          "output_type": "display_data"
        },
        {
          "data": {
            "image/png": "[encoded data removed]",
            "text/plain": [
              "<Figure size 432x288 with 1 Axes>"
            ]
          },
          "metadata": {
            "needs_background": "light"
          },
          "output_type": "display_data"
        }
      ],
      "source": [
        "plt.figure(dpi=400)\n",
        "df_f_delays.plot(x='Airline', y='sum(DepDelay)', kind='bar')\n",
        "# plt.xticks(rotation = 45)\n",
        "None"
      ]
    },
    {
      "cell_type": "markdown",
      "metadata": {},
      "source": [
        "# when a flight is cancelled?"
      ]
    },
    {
      "cell_type": "code",
      "execution_count": 85,
      "metadata": {},
      "outputs": [],
      "source": [
        "data_no_na = data.select('DepDelay', 'cancelled', 'FlightDate').dropna(subset='cancelled')"
      ]
    },
    {
      "cell_type": "code",
      "execution_count": 86,
      "metadata": {},
      "outputs": [
        {
          "data": {
            "text/plain": [
              "([Row(avg(DepDelay)=59.22836035564853)],\n",
              " [Row(stddev(DepDelay)=111.14356252096398)])"
            ]
          },
          "execution_count": 86,
          "metadata": {},
          "output_type": "execute_result"
        }
      ],
      "source": [
        "cancelled_flights = data_no_na.filter(col('cancelled') == True)\n",
        "cancelled_flights.agg({\"DepDelay\": \"avg\"}).collect(), cancelled_flights.agg({\"DepDelay\": \"std\"}).collect()"
      ]
    },
    {
      "cell_type": "code",
      "execution_count": 87,
      "metadata": {},
      "outputs": [
        {
          "name": "stderr",
          "output_type": "stream",
          "text": [
            "                                                                                \r"
          ]
        },
        {
          "data": {
            "text/plain": [
              "([Row(avg(DepDelay)=9.279993680891792)],\n",
              " [Row(stddev(DepDelay)=47.20826594772228)])"
            ]
          },
          "execution_count": 87,
          "metadata": {},
          "output_type": "execute_result"
        }
      ],
      "source": [
        "successful_flights = data_no_na.filter(col('cancelled') == False)\n",
        "successful_flights.agg({\"DepDelay\": \"avg\"}).collect(), successful_flights.agg({\"DepDelay\": \"std\"}).collect()"
      ]
    },
    {
      "cell_type": "code",
      "execution_count": 88,
      "metadata": {},
      "outputs": [
        {
          "data": {
            "text/plain": [
              "(777267, 28416515)"
            ]
          },
          "execution_count": 88,
          "metadata": {},
          "output_type": "execute_result"
        }
      ],
      "source": [
        "cancelled_flights.count(), successful_flights.count()"
      ]
    },
    {
      "cell_type": "code",
      "execution_count": 89,
      "metadata": {},
      "outputs": [],
      "source": [
        "df_cancelled = cancelled_flights.toPandas()"
      ]
    },
    {
      "cell_type": "code",
      "execution_count": 90,
      "metadata": {},
      "outputs": [
        {
          "name": "stderr",
          "output_type": "stream",
          "text": [
            "                                                                                \r"
          ]
        }
      ],
      "source": [
        "df_successful = successful_flights.toPandas()"
      ]
    },
    {
      "cell_type": "code",
      "execution_count": 91,
      "metadata": {},
      "outputs": [
        {
          "data": {
            "text/plain": [
              "((777267, 3), (15296, 3))"
            ]
          },
          "execution_count": 91,
          "metadata": {},
          "output_type": "execute_result"
        }
      ],
      "source": [
        "df_cancelled.shape, df_cancelled.dropna().shape"
      ]
    },
    {
      "cell_type": "code",
      "execution_count": 92,
      "metadata": {},
      "outputs": [
        {
          "data": {
            "text/plain": [
              "((28416515, 3), (28415402, 3))"
            ]
          },
          "execution_count": 92,
          "metadata": {},
          "output_type": "execute_result"
        }
      ],
      "source": [
        "df_successful.shape, df_successful.dropna().shape"
      ]
    },
    {
      "cell_type": "code",
      "execution_count": 93,
      "metadata": {},
      "outputs": [],
      "source": [
        "df_cancelled = df_cancelled.dropna()\n",
        "df_successful = df_successful.dropna()"
      ]
    },
    {
      "cell_type": "code",
      "execution_count": 94,
      "metadata": {},
      "outputs": [
        {
          "data": {
            "text/html": [
              "<div>\n",
              "<style scoped>\n",
              "    .dataframe tbody tr th:only-of-type {\n",
              "        vertical-align: middle;\n",
              "    }\n",
              "\n",
              "    .dataframe tbody tr th {\n",
              "        vertical-align: top;\n",
              "    }\n",
              "\n",
              "    .dataframe thead th {\n",
              "        text-align: right;\n",
              "    }\n",
              "</style>\n",
              "<table border=\"1\" class=\"dataframe\">\n",
              "  <thead>\n",
              "    <tr style=\"text-align: right;\">\n",
              "      <th></th>\n",
              "      <th>DepDelay</th>\n",
              "      <th>cancelled</th>\n",
              "      <th>FlightDate</th>\n",
              "    </tr>\n",
              "  </thead>\n",
              "  <tbody>\n",
              "    <tr>\n",
              "      <th>37984</th>\n",
              "      <td>1479.0</td>\n",
              "      <td>True</td>\n",
              "      <td>2018-02-19 18:00:00</td>\n",
              "    </tr>\n",
              "    <tr>\n",
              "      <th>590054</th>\n",
              "      <td>1477.0</td>\n",
              "      <td>True</td>\n",
              "      <td>2021-08-06 19:00:00</td>\n",
              "    </tr>\n",
              "    <tr>\n",
              "      <th>87896</th>\n",
              "      <td>1459.0</td>\n",
              "      <td>True</td>\n",
              "      <td>2018-09-21 19:00:00</td>\n",
              "    </tr>\n",
              "    <tr>\n",
              "      <th>395539</th>\n",
              "      <td>1444.0</td>\n",
              "      <td>True</td>\n",
              "      <td>2020-07-31 19:00:00</td>\n",
              "    </tr>\n",
              "    <tr>\n",
              "      <th>125180</th>\n",
              "      <td>1361.0</td>\n",
              "      <td>True</td>\n",
              "      <td>2019-08-03 19:00:00</td>\n",
              "    </tr>\n",
              "    <tr>\n",
              "      <th>...</th>\n",
              "      <td>...</td>\n",
              "      <td>...</td>\n",
              "      <td>...</td>\n",
              "    </tr>\n",
              "    <tr>\n",
              "      <th>405647</th>\n",
              "      <td>-23.0</td>\n",
              "      <td>True</td>\n",
              "      <td>2020-11-29 18:00:00</td>\n",
              "    </tr>\n",
              "    <tr>\n",
              "      <th>244457</th>\n",
              "      <td>-23.0</td>\n",
              "      <td>True</td>\n",
              "      <td>2020-09-10 19:00:00</td>\n",
              "    </tr>\n",
              "    <tr>\n",
              "      <th>49325</th>\n",
              "      <td>-24.0</td>\n",
              "      <td>True</td>\n",
              "      <td>2018-04-24 19:00:00</td>\n",
              "    </tr>\n",
              "    <tr>\n",
              "      <th>47531</th>\n",
              "      <td>-24.0</td>\n",
              "      <td>True</td>\n",
              "      <td>2018-03-02 18:00:00</td>\n",
              "    </tr>\n",
              "    <tr>\n",
              "      <th>610968</th>\n",
              "      <td>-26.0</td>\n",
              "      <td>True</td>\n",
              "      <td>2021-05-22 19:00:00</td>\n",
              "    </tr>\n",
              "  </tbody>\n",
              "</table>\n",
              "<p>15296 rows × 3 columns</p>\n",
              "</div>"
            ],
            "text/plain": [
              "        DepDelay  cancelled          FlightDate\n",
              "37984     1479.0       True 2018-02-19 18:00:00\n",
              "590054    1477.0       True 2021-08-06 19:00:00\n",
              "87896     1459.0       True 2018-09-21 19:00:00\n",
              "395539    1444.0       True 2020-07-31 19:00:00\n",
              "125180    1361.0       True 2019-08-03 19:00:00\n",
              "...          ...        ...                 ...\n",
              "405647     -23.0       True 2020-11-29 18:00:00\n",
              "244457     -23.0       True 2020-09-10 19:00:00\n",
              "49325      -24.0       True 2018-04-24 19:00:00\n",
              "47531      -24.0       True 2018-03-02 18:00:00\n",
              "610968     -26.0       True 2021-05-22 19:00:00\n",
              "\n",
              "[15296 rows x 3 columns]"
            ]
          },
          "execution_count": 94,
          "metadata": {},
          "output_type": "execute_result"
        }
      ],
      "source": [
        "df_cancelled.sort_values('DepDelay', ascending=False)"
      ]
    },
    {
      "cell_type": "code",
      "execution_count": 95,
      "metadata": {},
      "outputs": [
        {
          "data": {
            "text/html": [
              "<div>\n",
              "<style scoped>\n",
              "    .dataframe tbody tr th:only-of-type {\n",
              "        vertical-align: middle;\n",
              "    }\n",
              "\n",
              "    .dataframe tbody tr th {\n",
              "        vertical-align: top;\n",
              "    }\n",
              "\n",
              "    .dataframe thead th {\n",
              "        text-align: right;\n",
              "    }\n",
              "</style>\n",
              "<table border=\"1\" class=\"dataframe\">\n",
              "  <thead>\n",
              "    <tr style=\"text-align: right;\">\n",
              "      <th></th>\n",
              "      <th>DepDelay</th>\n",
              "    </tr>\n",
              "  </thead>\n",
              "  <tbody>\n",
              "    <tr>\n",
              "      <th>count</th>\n",
              "      <td>15296.000000</td>\n",
              "    </tr>\n",
              "    <tr>\n",
              "      <th>mean</th>\n",
              "      <td>59.228360</td>\n",
              "    </tr>\n",
              "    <tr>\n",
              "      <th>std</th>\n",
              "      <td>111.143563</td>\n",
              "    </tr>\n",
              "    <tr>\n",
              "      <th>min</th>\n",
              "      <td>-26.000000</td>\n",
              "    </tr>\n",
              "    <tr>\n",
              "      <th>25%</th>\n",
              "      <td>-3.000000</td>\n",
              "    </tr>\n",
              "    <tr>\n",
              "      <th>50%</th>\n",
              "      <td>16.000000</td>\n",
              "    </tr>\n",
              "    <tr>\n",
              "      <th>75%</th>\n",
              "      <td>83.000000</td>\n",
              "    </tr>\n",
              "    <tr>\n",
              "      <th>max</th>\n",
              "      <td>1479.000000</td>\n",
              "    </tr>\n",
              "  </tbody>\n",
              "</table>\n",
              "</div>"
            ],
            "text/plain": [
              "           DepDelay\n",
              "count  15296.000000\n",
              "mean      59.228360\n",
              "std      111.143563\n",
              "min      -26.000000\n",
              "25%       -3.000000\n",
              "50%       16.000000\n",
              "75%       83.000000\n",
              "max     1479.000000"
            ]
          },
          "execution_count": 95,
          "metadata": {},
          "output_type": "execute_result"
        }
      ],
      "source": [
        "df_cancelled.describe()"
      ]
    },
    {
      "cell_type": "code",
      "execution_count": 96,
      "metadata": {},
      "outputs": [
        {
          "data": {
            "text/plain": [
              "(15296, 11478)"
            ]
          },
          "execution_count": 96,
          "metadata": {},
          "output_type": "execute_result"
        }
      ],
      "source": [
        "# Total count, q3 count\n",
        "q3_cancelled = df_cancelled['DepDelay'][df_cancelled['DepDelay'] < 84]\n",
        "df_cancelled['DepDelay'].shape[0], q3_cancelled.shape[0]"
      ]
    },
    {
      "cell_type": "code",
      "execution_count": 97,
      "metadata": {},
      "outputs": [
        {
          "data": {
            "text/plain": [
              "<AxesSubplot:ylabel='Frequency'>"
            ]
          },
          "execution_count": 97,
          "metadata": {},
          "output_type": "execute_result"
        },
        {
          "data": {
            "image/png": "[encoded data removed]",
            "text/plain": [
              "<Figure size 432x288 with 1 Axes>"
            ]
          },
          "metadata": {
            "needs_background": "light"
          },
          "output_type": "display_data"
        }
      ],
      "source": [
        "q3_cancelled.plot.hist(grid=True)"
      ]
    },
    {
      "cell_type": "code",
      "execution_count": 98,
      "metadata": {},
      "outputs": [
        {
          "data": {
            "text/plain": [
              "count    2.841540e+07\n",
              "mean     9.279994e+00\n",
              "std      4.720827e+01\n",
              "min     -1.280000e+03\n",
              "25%     -6.000000e+00\n",
              "50%     -3.000000e+00\n",
              "75%      5.000000e+00\n",
              "max      7.223000e+03\n",
              "Name: DepDelay, dtype: float64"
            ]
          },
          "execution_count": 98,
          "metadata": {},
          "output_type": "execute_result"
        }
      ],
      "source": [
        "df_successful['DepDelay'].describe()"
      ]
    },
    {
      "cell_type": "code",
      "execution_count": 106,
      "metadata": {},
      "outputs": [
        {
          "data": {
            "text/plain": [
              "(28415402, 13638070)"
            ]
          },
          "execution_count": 106,
          "metadata": {},
          "output_type": "execute_result"
        }
      ],
      "source": [
        "q3_successful = df_successful['DepDelay'][(df_successful['DepDelay'] > -6) & (df_successful['DepDelay'] < 6)]\n",
        "df_successful['DepDelay'].shape[0], q3_successful.shape[0]"
      ]
    },
    {
      "cell_type": "code",
      "execution_count": 107,
      "metadata": {},
      "outputs": [
        {
          "data": {
            "image/png": "[encoded data removed]",
            "text/plain": [
              "<Figure size 432x288 with 1 Axes>"
            ]
          },
          "metadata": {
            "needs_background": "light"
          },
          "output_type": "display_data"
        }
      ],
      "source": [
        "q3_successful.plot.hist(grid=True)\n",
        "None"
      ]
    },
    {
      "cell_type": "code",
      "execution_count": 108,
      "metadata": {},
      "outputs": [
        {
          "data": {
            "text/plain": [
              "DepDelay                   7223.0\n",
              "cancelled                   False\n",
              "FlightDate    2022-07-30 19:00:00\n",
              "dtype: object"
            ]
          },
          "execution_count": 108,
          "metadata": {},
          "output_type": "execute_result"
        }
      ],
      "source": [
        "df_successful.max()"
      ]
    },
    {
      "cell_type": "code",
      "execution_count": null,
      "metadata": {},
      "outputs": [],
      "source": []
    }
  ],
  "metadata": {
    "colab": {
      "provenance": [],
      "toc_visible": true
    },
    "gpuClass": "standard",
    "kernelspec": {
      "display_name": "Python 3.9.7 ('pytorch_env')",
      "language": "python",
      "name": "python3"
    },
    "language_info": {
      "codemirror_mode": {
        "name": "ipython",
        "version": 3
      },
      "file_extension": ".py",
      "mimetype": "text/x-python",
      "name": "python",
      "nbconvert_exporter": "python",
      "pygments_lexer": "ipython3",
      "version": "3.9.7"
    },
    "vscode": {
      "interpreter": {
        "hash": "57d879c1bab31ddce3f98747a90aac1ecdf0d747d4f9b6f921c92f41b19b21c9"
      }
    }
  },
  "nbformat": 4,
  "nbformat_minor": 0
}
