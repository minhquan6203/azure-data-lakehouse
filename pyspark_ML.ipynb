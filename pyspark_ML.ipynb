{
  "cells": [
    {
      "cell_type": "markdown",
      "metadata": {
        "id": "-W5pkAJmz8Hm"
      },
      "source": [
        "# Data preaparation and xgboost regressor training"
      ]
    },
    {
      "cell_type": "code",
      "execution_count": 1,
      "metadata": {
        "colab": {
          "base_uri": "https://localhost:8080/"
        },
        "id": "RFS9R5ZVk6m3",
        "outputId": "6fb389f2-5220-4f99-8217-8fdc448be767"
      },
      "outputs": [
        {
          "name": "stdout",
          "output_type": "stream",
          "text": [
            "Requirement already satisfied: xgboost in c:\\users\\luigi\\miniconda3\\envs\\pytorch\\lib\\site-packages (1.7.2)\n",
            "Requirement already satisfied: scipy in c:\\users\\luigi\\miniconda3\\envs\\pytorch\\lib\\site-packages (from xgboost) (1.7.3)\n",
            "Requirement already satisfied: numpy in c:\\users\\luigi\\miniconda3\\envs\\pytorch\\lib\\site-packages (from xgboost) (1.21.5)\n"
          ]
        }
      ],
      "source": [
        "!pip install --upgrade xgboost"
      ]
    },
    {
      "cell_type": "code",
      "execution_count": 2,
      "metadata": {
        "colab": {
          "base_uri": "https://localhost:8080/"
        },
        "id": "7cRtOXtBqJ4K",
        "outputId": "e49b254c-4dd0-41c5-9f93-25df5268a370"
      },
      "outputs": [
        {
          "name": "stdout",
          "output_type": "stream",
          "text": [
            "GPU 0: NVIDIA GeForce RTX 3070 (UUID: GPU-5f5a84a5-7cf6-72b1-17eb-40f450c3509a)\n"
          ]
        }
      ],
      "source": [
        "!nvidia-smi -L"
      ]
    },
    {
      "cell_type": "markdown",
      "metadata": {
        "id": "VmAj7KZrdpKt"
      },
      "source": [
        "# Spark set up"
      ]
    },
    {
      "cell_type": "code",
      "execution_count": 3,
      "metadata": {
        "id": "B9bt6vs7gb3I"
      },
      "outputs": [],
      "source": [
        "import os\n",
        "import platform\n",
        "local_os = platform.system()\n",
        "\n",
        "if local_os == 'Linux':\n",
        "    os.environ[\"JAVA_HOME\"] = \"/usr/lib/jvm/java-8-openjdk-amd64\"\n",
        "    os.environ[\"SPARK_HOME\"] = \"/content/spark-3.3.1-bin-hadoop3\"\n",
        "elif local_os == 'Windows':\n",
        "    os.environ[\"JAVA_HOME\"] = \"C:/Program Files/Java/jdk-19/\"\n",
        "else:\n",
        "    os.environ[\"JAVA_HOME\"] = \"/opt/homebrew/opt/openjdk/\""
      ]
    },
    {
      "cell_type": "code",
      "execution_count": 4,
      "metadata": {
        "colab": {
          "base_uri": "https://localhost:8080/"
        },
        "id": "Yfu1oWGM2twz",
        "outputId": "62890952-4e7b-4852-de63-1f439de6cb0e"
      },
      "outputs": [],
      "source": [
        "if local_os == 'Linux':\n",
        "    !apt-get install openjdk-8-jdk-headless -qq > /dev/null\n",
        "    !wget https://dlcdn.apache.org/spark/spark-3.3.1/spark-3.3.1-bin-hadoop3.tgz\n",
        "    !tar zxvf /content/spark-3.3.1-bin-hadoop3.tgz\n",
        "    !pip install -q findspark\n",
        "    import findspark\n",
        "    findspark.init()"
      ]
    },
    {
      "cell_type": "code",
      "execution_count": 5,
      "metadata": {
        "colab": {
          "base_uri": "https://localhost:8080/"
        },
        "id": "HHeXWFUgk0Rx",
        "outputId": "899b4a82-fc48-4c99-8697-cded8b905001"
      },
      "outputs": [],
      "source": [
        "# Mount google drive\n",
        "if local_os == 'Linux':\n",
        "    from google.colab import drive\n",
        "    drive.mount('/content/drive')"
      ]
    },
    {
      "cell_type": "code",
      "execution_count": 6,
      "metadata": {
        "id": "_WJbDBY8ydct"
      },
      "outputs": [],
      "source": [
        "from pyspark.sql import SparkSession"
      ]
    },
    {
      "cell_type": "code",
      "execution_count": 7,
      "metadata": {
        "id": "Yvsf0bB9g7w4"
      },
      "outputs": [],
      "source": [
        "spark = SparkSession.builder\\\n",
        "        .master(\"local\")\\\n",
        "        .appName(\"flights\")\\\n",
        "        .config(\"spark.executor.cores\", 4) \\\n",
        "        .config(\"spark.executor.memory\", \"40g\") \\\n",
        "        .config(\"spark.driver.memory\", \"40g\") \\\n",
        "        .config(\"spark.driver.maxResultSize\", \"20g\") \\\n",
        "        .getOrCreate()"
      ]
    },
    {
      "cell_type": "code",
      "execution_count": 8,
      "metadata": {
        "colab": {
          "base_uri": "https://localhost:8080/",
          "height": 304
        },
        "id": "FKG4LDHUhEC3",
        "outputId": "5a978f02-c2c5-4fb9-8d73-01f29e6d56bb"
      },
      "outputs": [
        {
          "data": {
            "text/html": [
              "\n",
              "            <div>\n",
              "                <p><b>SparkSession - in-memory</b></p>\n",
              "                \n",
              "        <div>\n",
              "            <p><b>SparkContext</b></p>\n",
              "\n",
              "            <p><a href=\"http://PCerda:4040\">Spark UI</a></p>\n",
              "\n",
              "            <dl>\n",
              "              <dt>Version</dt>\n",
              "                <dd><code>v3.3.0</code></dd>\n",
              "              <dt>Master</dt>\n",
              "                <dd><code>local</code></dd>\n",
              "              <dt>AppName</dt>\n",
              "                <dd><code>flights</code></dd>\n",
              "            </dl>\n",
              "        </div>\n",
              "        \n",
              "            </div>\n",
              "        "
            ],
            "text/plain": [
              "<pyspark.sql.session.SparkSession at 0x23239695c10>"
            ]
          },
          "execution_count": 8,
          "metadata": {},
          "output_type": "execute_result"
        }
      ],
      "source": [
        "spark"
      ]
    },
    {
      "cell_type": "markdown",
      "metadata": {
        "id": "pc6YURM7hUFY"
      },
      "source": [
        "# Libs imports"
      ]
    },
    {
      "cell_type": "code",
      "execution_count": 9,
      "metadata": {
        "id": "TprKxlEGhYgx"
      },
      "outputs": [],
      "source": [
        "from pyspark.sql.functions import desc, isnan, when, count, col, isnull\n",
        "from collections import Counter"
      ]
    },
    {
      "cell_type": "markdown",
      "metadata": {
        "id": "-eEWYgrUhc6X"
      },
      "source": [
        "# Data loading"
      ]
    },
    {
      "cell_type": "code",
      "execution_count": null,
      "metadata": {
        "colab": {
          "base_uri": "https://localhost:8080/"
        },
        "id": "MQ9uwIhGmWf6",
        "outputId": "8d15dce1-7fc4-483d-b62d-f7c899ee5d67"
      },
      "outputs": [],
      "source": [
        "from pathlib import Path\n",
        "\n",
        "source = \"../data/\"\n",
        "print(source)\n",
        "source_path = Path(source).glob('*.parquet')\n",
        "file_names = sorted(list(source_path))\n",
        "file_names"
      ]
    },
    {
      "cell_type": "code",
      "execution_count": 11,
      "metadata": {
        "colab": {
          "base_uri": "https://localhost:8080/"
        },
        "id": "pUUVY782oiam",
        "outputId": "4bc31515-67ca-4a50-a0db-e0983c02456a"
      },
      "outputs": [
        {
          "name": "stdout",
          "output_type": "stream",
          "text": [
            "D:/data_sets/airlines/Combined_Flights_2019.parquet\n",
            "D:/data_sets/airlines/Combined_Flights_2020.parquet\n",
            "D:/data_sets/airlines/Combined_Flights_2021.parquet\n",
            "D:/data_sets/airlines/Combined_Flights_2022.parquet\n"
          ]
        }
      ],
      "source": [
        "def merge_data(file_names):\n",
        "  first_file = file_names.pop(0)\n",
        "  data = spark.read.parquet(first_file.as_posix())\n",
        "  for file_name in file_names:\n",
        "    temp_data = spark.read.parquet(file_name.as_posix())\n",
        "    data = data.union(temp_data)\n",
        "    print(file_name.as_posix())\n",
        "  return data\n",
        "data = merge_data(file_names)"
      ]
    },
    {
      "cell_type": "code",
      "execution_count": 12,
      "metadata": {},
      "outputs": [
        {
          "data": {
            "text/plain": [
              "[('bigint', 23),\n",
              " ('double', 19),\n",
              " ('string', 17),\n",
              " ('boolean', 2),\n",
              " ('timestamp', 1)]"
            ]
          },
          "execution_count": 12,
          "metadata": {},
          "output_type": "execute_result"
        }
      ],
      "source": [
        "def count_dtypes(dataframe):\n",
        "    col_dict = dict(dataframe.dtypes).values()\n",
        "    c = Counter(col_dict)\n",
        "    return c.most_common()\n",
        "count_dtypes(data)"
      ]
    },
    {
      "cell_type": "code",
      "execution_count": 13,
      "metadata": {
        "colab": {
          "base_uri": "https://localhost:8080/"
        },
        "id": "gKUniBNY2tw3",
        "outputId": "ee0161e9-4ecb-4311-a61d-7e1b11c7a31c"
      },
      "outputs": [
        {
          "name": "stdout",
          "output_type": "stream",
          "text": [
            "root\n",
            " |-- FlightDate: timestamp (nullable = true)\n",
            " |-- Airline: string (nullable = true)\n",
            " |-- Origin: string (nullable = true)\n",
            " |-- Dest: string (nullable = true)\n",
            " |-- Cancelled: boolean (nullable = true)\n",
            " |-- Diverted: boolean (nullable = true)\n",
            " |-- CRSDepTime: long (nullable = true)\n",
            " |-- DepTime: double (nullable = true)\n",
            " |-- DepDelayMinutes: double (nullable = true)\n",
            " |-- DepDelay: double (nullable = true)\n",
            " |-- ArrTime: double (nullable = true)\n",
            " |-- ArrDelayMinutes: double (nullable = true)\n",
            " |-- AirTime: double (nullable = true)\n",
            " |-- CRSElapsedTime: double (nullable = true)\n",
            " |-- ActualElapsedTime: double (nullable = true)\n",
            " |-- Distance: double (nullable = true)\n",
            " |-- Year: long (nullable = true)\n",
            " |-- Quarter: long (nullable = true)\n",
            " |-- Month: long (nullable = true)\n",
            " |-- DayofMonth: long (nullable = true)\n",
            " |-- DayOfWeek: long (nullable = true)\n",
            " |-- Marketing_Airline_Network: string (nullable = true)\n",
            " |-- Operated_or_Branded_Code_Share_Partners: string (nullable = true)\n",
            " |-- DOT_ID_Marketing_Airline: long (nullable = true)\n",
            " |-- IATA_Code_Marketing_Airline: string (nullable = true)\n",
            " |-- Flight_Number_Marketing_Airline: long (nullable = true)\n",
            " |-- Operating_Airline: string (nullable = true)\n",
            " |-- DOT_ID_Operating_Airline: long (nullable = true)\n",
            " |-- IATA_Code_Operating_Airline: string (nullable = true)\n",
            " |-- Tail_Number: string (nullable = true)\n",
            " |-- Flight_Number_Operating_Airline: long (nullable = true)\n",
            " |-- OriginAirportID: long (nullable = true)\n",
            " |-- OriginAirportSeqID: long (nullable = true)\n",
            " |-- OriginCityMarketID: long (nullable = true)\n",
            " |-- OriginCityName: string (nullable = true)\n",
            " |-- OriginState: string (nullable = true)\n",
            " |-- OriginStateFips: long (nullable = true)\n",
            " |-- OriginStateName: string (nullable = true)\n",
            " |-- OriginWac: long (nullable = true)\n",
            " |-- DestAirportID: long (nullable = true)\n",
            " |-- DestAirportSeqID: long (nullable = true)\n",
            " |-- DestCityMarketID: long (nullable = true)\n",
            " |-- DestCityName: string (nullable = true)\n",
            " |-- DestState: string (nullable = true)\n",
            " |-- DestStateFips: long (nullable = true)\n",
            " |-- DestStateName: string (nullable = true)\n",
            " |-- DestWac: long (nullable = true)\n",
            " |-- DepDel15: double (nullable = true)\n",
            " |-- DepartureDelayGroups: double (nullable = true)\n",
            " |-- DepTimeBlk: string (nullable = true)\n",
            " |-- TaxiOut: double (nullable = true)\n",
            " |-- WheelsOff: double (nullable = true)\n",
            " |-- WheelsOn: double (nullable = true)\n",
            " |-- TaxiIn: double (nullable = true)\n",
            " |-- CRSArrTime: long (nullable = true)\n",
            " |-- ArrDelay: double (nullable = true)\n",
            " |-- ArrDel15: double (nullable = true)\n",
            " |-- ArrivalDelayGroups: double (nullable = true)\n",
            " |-- ArrTimeBlk: string (nullable = true)\n",
            " |-- DistanceGroup: long (nullable = true)\n",
            " |-- DivAirportLandings: double (nullable = true)\n",
            " |-- __index_level_0__: long (nullable = true)\n",
            "\n"
          ]
        }
      ],
      "source": [
        "data.printSchema()"
      ]
    },
    {
      "cell_type": "markdown",
      "metadata": {
        "id": "hd6hRe0_aWU0"
      },
      "source": [
        "# EDA"
      ]
    },
    {
      "cell_type": "code",
      "execution_count": 14,
      "metadata": {
        "colab": {
          "base_uri": "https://localhost:8080/"
        },
        "id": "_daIhykgiA8N",
        "outputId": "c4154abc-cc4d-4db9-acf3-d09c5923828f"
      },
      "outputs": [
        {
          "data": {
            "text/plain": [
              "(29193782, 62)"
            ]
          },
          "execution_count": 14,
          "metadata": {},
          "output_type": "execute_result"
        }
      ],
      "source": [
        "data.count(), len(data.columns)"
      ]
    },
    {
      "cell_type": "code",
      "execution_count": 15,
      "metadata": {
        "colab": {
          "base_uri": "https://localhost:8080/"
        },
        "id": "_1qDbHJsZYSd",
        "outputId": "0a6e9c88-1a73-4372-a861-881ccfd5b829"
      },
      "outputs": [
        {
          "name": "stdout",
          "output_type": "stream",
          "text": [
            "+-------------------+-----------------+------+----+---------+--------+----------+-------+---------------+--------+-------+---------------+-------+--------------+-----------------+--------+----+-------+-----+----------+---------+-------------------------+---------------------------------------+------------------------+---------------------------+-------------------------------+-----------------+------------------------+---------------------------+-----------+-------------------------------+---------------+------------------+------------------+--------------+-----------+---------------+---------------+---------+-------------+----------------+----------------+------------+---------+-------------+-------------+-------+--------+--------------------+----------+-------+---------+--------+------+----------+--------+--------+------------------+----------+-------------+------------------+-----------------+\n",
            "|         FlightDate|          Airline|Origin|Dest|Cancelled|Diverted|CRSDepTime|DepTime|DepDelayMinutes|DepDelay|ArrTime|ArrDelayMinutes|AirTime|CRSElapsedTime|ActualElapsedTime|Distance|Year|Quarter|Month|DayofMonth|DayOfWeek|Marketing_Airline_Network|Operated_or_Branded_Code_Share_Partners|DOT_ID_Marketing_Airline|IATA_Code_Marketing_Airline|Flight_Number_Marketing_Airline|Operating_Airline|DOT_ID_Operating_Airline|IATA_Code_Operating_Airline|Tail_Number|Flight_Number_Operating_Airline|OriginAirportID|OriginAirportSeqID|OriginCityMarketID|OriginCityName|OriginState|OriginStateFips|OriginStateName|OriginWac|DestAirportID|DestAirportSeqID|DestCityMarketID|DestCityName|DestState|DestStateFips|DestStateName|DestWac|DepDel15|DepartureDelayGroups|DepTimeBlk|TaxiOut|WheelsOff|WheelsOn|TaxiIn|CRSArrTime|ArrDelay|ArrDel15|ArrivalDelayGroups|ArrTimeBlk|DistanceGroup|DivAirportLandings|__index_level_0__|\n",
            "+-------------------+-----------------+------+----+---------+--------+----------+-------+---------------+--------+-------+---------------+-------+--------------+-----------------+--------+----+-------+-----+----------+---------+-------------------------+---------------------------------------+------------------------+---------------------------+-------------------------------+-----------------+------------------------+---------------------------+-----------+-------------------------------+---------------+------------------+------------------+--------------+-----------+---------------+---------------+---------+-------------+----------------+----------------+------------+---------+-------------+-------------+-------+--------+--------------------+----------+-------+---------+--------+------+----------+--------+--------+------------------+----------+-------------+------------------+-----------------+\n",
            "|2018-01-22 18:00:00|Endeavor Air Inc.|   ABY| ATL|    false|   false|      1202| 1157.0|            0.0|    -5.0| 1256.0|            0.0|   38.0|          62.0|             59.0|   145.0|2018|      1|    1|        23|        2|                       DL|                           DL_CODESHARE|                   19790|                         DL|                           3298|               9E|                   20363|                         9E|     N8928A|                           3298|          10146|           1014602|             30146|    Albany, GA|         GA|             13|        Georgia|       34|        10397|         1039707|           30397| Atlanta, GA|       GA|           13|      Georgia|     34|     0.0|                -1.0| 1200-1259|   14.0|   1211.0|  1249.0|   7.0|      1304|    -8.0|     0.0|              -1.0| 1300-1359|            1|               0.0|                0|\n",
            "|2018-01-23 18:00:00|Endeavor Air Inc.|   ABY| ATL|    false|   false|      1202| 1157.0|            0.0|    -5.0| 1258.0|            0.0|   36.0|          62.0|             61.0|   145.0|2018|      1|    1|        24|        3|                       DL|                           DL_CODESHARE|                   19790|                         DL|                           3298|               9E|                   20363|                         9E|     N800AY|                           3298|          10146|           1014602|             30146|    Albany, GA|         GA|             13|        Georgia|       34|        10397|         1039707|           30397| Atlanta, GA|       GA|           13|      Georgia|     34|     0.0|                -1.0| 1200-1259|   13.0|   1210.0|  1246.0|  12.0|      1304|    -6.0|     0.0|              -1.0| 1300-1359|            1|               0.0|                1|\n",
            "|2018-01-24 18:00:00|Endeavor Air Inc.|   ABY| ATL|    false|   false|      1202| 1153.0|            0.0|    -9.0| 1302.0|            0.0|   40.0|          62.0|             69.0|   145.0|2018|      1|    1|        25|        4|                       DL|                           DL_CODESHARE|                   19790|                         DL|                           3298|               9E|                   20363|                         9E|     N8836A|                           3298|          10146|           1014602|             30146|    Albany, GA|         GA|             13|        Georgia|       34|        10397|         1039707|           30397| Atlanta, GA|       GA|           13|      Georgia|     34|     0.0|                -1.0| 1200-1259|   18.0|   1211.0|  1251.0|  11.0|      1304|    -2.0|     0.0|              -1.0| 1300-1359|            1|               0.0|                2|\n",
            "|2018-01-25 18:00:00|Endeavor Air Inc.|   ABY| ATL|    false|   false|      1202| 1150.0|            0.0|   -12.0| 1253.0|            0.0|   35.0|          62.0|             63.0|   145.0|2018|      1|    1|        26|        5|                       DL|                           DL_CODESHARE|                   19790|                         DL|                           3298|               9E|                   20363|                         9E|     N800AY|                           3298|          10146|           1014602|             30146|    Albany, GA|         GA|             13|        Georgia|       34|        10397|         1039707|           30397| Atlanta, GA|       GA|           13|      Georgia|     34|     0.0|                -1.0| 1200-1259|   17.0|   1207.0|  1242.0|  11.0|      1304|   -11.0|     0.0|              -1.0| 1300-1359|            1|               0.0|                3|\n",
            "|2018-01-26 18:00:00|Endeavor Air Inc.|   ABY| ATL|    false|   false|      1400| 1355.0|            0.0|    -5.0| 1459.0|            0.0|   36.0|          60.0|             64.0|   145.0|2018|      1|    1|        27|        6|                       DL|                           DL_CODESHARE|                   19790|                         DL|                           3298|               9E|                   20363|                         9E|     N8839E|                           3298|          10146|           1014602|             30146|    Albany, GA|         GA|             13|        Georgia|       34|        10397|         1039707|           30397| Atlanta, GA|       GA|           13|      Georgia|     34|     0.0|                -1.0| 1400-1459|   17.0|   1412.0|  1448.0|  11.0|      1500|    -1.0|     0.0|              -1.0| 1500-1559|            1|               0.0|                4|\n",
            "+-------------------+-----------------+------+----+---------+--------+----------+-------+---------------+--------+-------+---------------+-------+--------------+-----------------+--------+----+-------+-----+----------+---------+-------------------------+---------------------------------------+------------------------+---------------------------+-------------------------------+-----------------+------------------------+---------------------------+-----------+-------------------------------+---------------+------------------+------------------+--------------+-----------+---------------+---------------+---------+-------------+----------------+----------------+------------+---------+-------------+-------------+-------+--------+--------------------+----------+-------+---------+--------+------+----------+--------+--------+------------------+----------+-------------+------------------+-----------------+\n",
            "only showing top 5 rows\n",
            "\n"
          ]
        }
      ],
      "source": [
        "data.show(5)"
      ]
    },
    {
      "cell_type": "markdown",
      "metadata": {
        "id": "oeaIZNcCgTup"
      },
      "source": [
        "## Data types exploration\n",
        "Handling categorical values to train model"
      ]
    },
    {
      "cell_type": "code",
      "execution_count": 16,
      "metadata": {
        "id": "S2C5wYPrmboB"
      },
      "outputs": [],
      "source": [
        "data = data.drop(data.__index_level_0__)"
      ]
    },
    {
      "cell_type": "code",
      "execution_count": 17,
      "metadata": {
        "colab": {
          "base_uri": "https://localhost:8080/"
        },
        "id": "pz0F-87ndtVn",
        "outputId": "8ad7a1c7-27ee-4190-b5d2-00a66566668f"
      },
      "outputs": [
        {
          "data": {
            "text/plain": [
              "{'bigint', 'boolean', 'double', 'string', 'timestamp'}"
            ]
          },
          "execution_count": 17,
          "metadata": {},
          "output_type": "execute_result"
        }
      ],
      "source": [
        "dtypes = set()\n",
        "[dtypes.add(item[1]) for item in data.dtypes]\n",
        "dtypes"
      ]
    },
    {
      "cell_type": "markdown",
      "metadata": {
        "id": "v1O3E8vh0NjO"
      },
      "source": [
        "### Boolean exploration"
      ]
    },
    {
      "cell_type": "code",
      "execution_count": 18,
      "metadata": {
        "colab": {
          "base_uri": "https://localhost:8080/"
        },
        "id": "ImLhGtsSbqCk",
        "outputId": "db1073d5-8308-45b2-fc16-58f424c42ae0"
      },
      "outputs": [
        {
          "data": {
            "text/plain": [
              "['Cancelled', 'Diverted']"
            ]
          },
          "execution_count": 18,
          "metadata": {},
          "output_type": "execute_result"
        }
      ],
      "source": [
        "[item[0] for item in data.dtypes if item[1] == 'boolean']"
      ]
    },
    {
      "cell_type": "code",
      "execution_count": 19,
      "metadata": {
        "colab": {
          "base_uri": "https://localhost:8080/"
        },
        "id": "PTJnZqO40Mge",
        "outputId": "850c6020-4787-4e99-86a1-9274ce80375f"
      },
      "outputs": [
        {
          "data": {
            "text/plain": [
              "[Row(Cancelled=True, count=777267), Row(Cancelled=False, count=28416515)]"
            ]
          },
          "execution_count": 19,
          "metadata": {},
          "output_type": "execute_result"
        }
      ],
      "source": [
        "data.groupBy('Cancelled').count().orderBy('count').collect()"
      ]
    },
    {
      "cell_type": "code",
      "execution_count": 20,
      "metadata": {
        "colab": {
          "base_uri": "https://localhost:8080/"
        },
        "id": "7Yrdj3IY1Dei",
        "outputId": "765ad4cb-8535-4b2c-aada-c3dde51bc266"
      },
      "outputs": [
        {
          "data": {
            "text/plain": [
              "[Row(Diverted=True, count=68349), Row(Diverted=False, count=29125433)]"
            ]
          },
          "execution_count": 20,
          "metadata": {},
          "output_type": "execute_result"
        }
      ],
      "source": [
        "data.groupBy('Diverted').count().orderBy('count').collect()"
      ]
    },
    {
      "cell_type": "markdown",
      "metadata": {
        "id": "UXdpobxf1OnW"
      },
      "source": [
        "### String exploration"
      ]
    },
    {
      "cell_type": "code",
      "execution_count": 21,
      "metadata": {
        "id": "ZVZekqmC1Spq"
      },
      "outputs": [],
      "source": [
        "str_columns = [item[0] for item in data.dtypes if item[1] == 'string']"
      ]
    },
    {
      "cell_type": "code",
      "execution_count": 22,
      "metadata": {
        "colab": {
          "base_uri": "https://localhost:8080/"
        },
        "id": "UQ7KVqzE1wtb",
        "outputId": "30c4f8a5-b1c1-4e4c-daba-36ced26ac2fd"
      },
      "outputs": [
        {
          "name": "stdout",
          "output_type": "stream",
          "text": [
            "+-----------------+------+----+-------------------------+---------------------------------------+---------------------------+-----------------+---------------------------+-----------+--------------+-----------+---------------+------------+---------+-------------+----------+----------+\n",
            "|          Airline|Origin|Dest|Marketing_Airline_Network|Operated_or_Branded_Code_Share_Partners|IATA_Code_Marketing_Airline|Operating_Airline|IATA_Code_Operating_Airline|Tail_Number|OriginCityName|OriginState|OriginStateName|DestCityName|DestState|DestStateName|DepTimeBlk|ArrTimeBlk|\n",
            "+-----------------+------+----+-------------------------+---------------------------------------+---------------------------+-----------------+---------------------------+-----------+--------------+-----------+---------------+------------+---------+-------------+----------+----------+\n",
            "|Endeavor Air Inc.|   ABY| ATL|                       DL|                           DL_CODESHARE|                         DL|               9E|                         9E|     N8928A|    Albany, GA|         GA|        Georgia| Atlanta, GA|       GA|      Georgia| 1200-1259| 1300-1359|\n",
            "|Endeavor Air Inc.|   ABY| ATL|                       DL|                           DL_CODESHARE|                         DL|               9E|                         9E|     N800AY|    Albany, GA|         GA|        Georgia| Atlanta, GA|       GA|      Georgia| 1200-1259| 1300-1359|\n",
            "|Endeavor Air Inc.|   ABY| ATL|                       DL|                           DL_CODESHARE|                         DL|               9E|                         9E|     N8836A|    Albany, GA|         GA|        Georgia| Atlanta, GA|       GA|      Georgia| 1200-1259| 1300-1359|\n",
            "|Endeavor Air Inc.|   ABY| ATL|                       DL|                           DL_CODESHARE|                         DL|               9E|                         9E|     N800AY|    Albany, GA|         GA|        Georgia| Atlanta, GA|       GA|      Georgia| 1200-1259| 1300-1359|\n",
            "|Endeavor Air Inc.|   ABY| ATL|                       DL|                           DL_CODESHARE|                         DL|               9E|                         9E|     N8839E|    Albany, GA|         GA|        Georgia| Atlanta, GA|       GA|      Georgia| 1400-1459| 1500-1559|\n",
            "+-----------------+------+----+-------------------------+---------------------------------------+---------------------------+-----------------+---------------------------+-----------+--------------+-----------+---------------+------------+---------+-------------+----------+----------+\n",
            "only showing top 5 rows\n",
            "\n"
          ]
        }
      ],
      "source": [
        "data.select(str_columns).show(5)"
      ]
    },
    {
      "cell_type": "markdown",
      "metadata": {
        "id": "NPLaqdl42tw5"
      },
      "source": [
        "### Timestamp exploration"
      ]
    },
    {
      "cell_type": "code",
      "execution_count": 23,
      "metadata": {
        "id": "lnAig1h82tw5"
      },
      "outputs": [],
      "source": [
        "timestamp_columns = [item[0] for item in data.dtypes if item[1] == 'timestamp']"
      ]
    },
    {
      "cell_type": "code",
      "execution_count": 24,
      "metadata": {
        "colab": {
          "base_uri": "https://localhost:8080/"
        },
        "id": "gDk6chYk2tw6",
        "outputId": "a93516fe-4d93-4947-8d72-d7af48831049"
      },
      "outputs": [
        {
          "name": "stdout",
          "output_type": "stream",
          "text": [
            "+-------------------+\n",
            "|         FlightDate|\n",
            "+-------------------+\n",
            "|2018-01-22 18:00:00|\n",
            "|2018-01-23 18:00:00|\n",
            "|2018-01-24 18:00:00|\n",
            "|2018-01-25 18:00:00|\n",
            "|2018-01-26 18:00:00|\n",
            "+-------------------+\n",
            "only showing top 5 rows\n",
            "\n"
          ]
        }
      ],
      "source": [
        "data.select(timestamp_columns).show(5)"
      ]
    },
    {
      "cell_type": "markdown",
      "metadata": {
        "id": "Ut_13ayUgO2B"
      },
      "source": [
        "## Null values handling"
      ]
    },
    {
      "cell_type": "code",
      "execution_count": 25,
      "metadata": {
        "colab": {
          "base_uri": "https://localhost:8080/"
        },
        "id": "koe30nMYgSwk",
        "outputId": "8acef72f-d7ee-4c6a-ebba-15b2bd66cef5"
      },
      "outputs": [
        {
          "name": "stdout",
          "output_type": "stream",
          "text": [
            "+----------+-------+------+----+---------+--------+----------+-------+---------------+--------+-------+---------------+-------+--------------+-----------------+--------+----+-------+-----+----------+---------+-------------------------+---------------------------------------+------------------------+---------------------------+-------------------------------+-----------------+------------------------+---------------------------+-----------+-------------------------------+---------------+------------------+------------------+--------------+-----------+---------------+---------------+---------+-------------+----------------+----------------+------------+---------+-------------+-------------+-------+--------+--------------------+----------+-------+---------+--------+------+----------+--------+--------+------------------+----------+-------------+------------------+\n",
            "|FlightDate|Airline|Origin|Dest|Cancelled|Diverted|CRSDepTime|DepTime|DepDelayMinutes|DepDelay|ArrTime|ArrDelayMinutes|AirTime|CRSElapsedTime|ActualElapsedTime|Distance|Year|Quarter|Month|DayofMonth|DayOfWeek|Marketing_Airline_Network|Operated_or_Branded_Code_Share_Partners|DOT_ID_Marketing_Airline|IATA_Code_Marketing_Airline|Flight_Number_Marketing_Airline|Operating_Airline|DOT_ID_Operating_Airline|IATA_Code_Operating_Airline|Tail_Number|Flight_Number_Operating_Airline|OriginAirportID|OriginAirportSeqID|OriginCityMarketID|OriginCityName|OriginState|OriginStateFips|OriginStateName|OriginWac|DestAirportID|DestAirportSeqID|DestCityMarketID|DestCityName|DestState|DestStateFips|DestStateName|DestWac|DepDel15|DepartureDelayGroups|DepTimeBlk|TaxiOut|WheelsOff|WheelsOn|TaxiIn|CRSArrTime|ArrDelay|ArrDel15|ArrivalDelayGroups|ArrTimeBlk|DistanceGroup|DivAirportLandings|\n",
            "+----------+-------+------+----+---------+--------+----------+-------+---------------+--------+-------+---------------+-------+--------------+-----------------+--------+----+-------+-----+----------+---------+-------------------------+---------------------------------------+------------------------+---------------------------+-------------------------------+-----------------+------------------------+---------------------------+-----------+-------------------------------+---------------+------------------+------------------+--------------+-----------+---------------+---------------+---------+-------------+----------------+----------------+------------+---------+-------------+-------------+-------+--------+--------------------+----------+-------+---------+--------+------+----------+--------+--------+------------------+----------+-------------+------------------+\n",
            "|         0|      0|     0|   0|        0|       0|         0| 761652|         763084|  763084| 786177|         846183| 852561|            22|           845637|       0|   0|      0|    0|         0|        0|                        0|                                      0|                       0|                          0|                              0|                0|                       0|                          0|     267613|                              0|              0|                 0|                 0|             0|          0|              0|              0|        0|            0|               0|               0|           0|        0|            0|            0|      0|  763084|              763084|         0| 780561|   780551|  793133|793143|         0|  846183|  846183|            846183|         0|            0|                90|\n",
            "+----------+-------+------+----+---------+--------+----------+-------+---------------+--------+-------+---------------+-------+--------------+-----------------+--------+----+-------+-----+----------+---------+-------------------------+---------------------------------------+------------------------+---------------------------+-------------------------------+-----------------+------------------------+---------------------------+-----------+-------------------------------+---------------+------------------+------------------+--------------+-----------+---------------+---------------+---------+-------------+----------------+----------------+------------+---------+-------------+-------------+-------+--------+--------------------+----------+-------+---------+--------+------+----------+--------+--------+------------------+----------+-------------+------------------+\n",
            "\n"
          ]
        }
      ],
      "source": [
        "null_count = data.select([count(when(col(c).isNull(), c)).alias(c) for c in data.columns])\n",
        "null_count.show()"
      ]
    },
    {
      "cell_type": "code",
      "execution_count": 26,
      "metadata": {
        "id": "INq2CP3TqBuz"
      },
      "outputs": [],
      "source": [
        "null_values = null_count.collect()[0].asDict()"
      ]
    },
    {
      "cell_type": "code",
      "execution_count": 27,
      "metadata": {
        "colab": {
          "base_uri": "https://localhost:8080/"
        },
        "id": "az_gBpqsn63k",
        "outputId": "a4eb3af0-72f1-4b18-aa63-c27e236e134e"
      },
      "outputs": [
        {
          "name": "stdout",
          "output_type": "stream",
          "text": [
            "+-------+---------------+--------+-------+---------------+-------+--------------+-----------------+-----------+--------+--------------------+-------+---------+--------+------+--------+--------+------------------+------------------+\n",
            "|DepTime|DepDelayMinutes|DepDelay|ArrTime|ArrDelayMinutes|AirTime|CRSElapsedTime|ActualElapsedTime|Tail_Number|DepDel15|DepartureDelayGroups|TaxiOut|WheelsOff|WheelsOn|TaxiIn|ArrDelay|ArrDel15|ArrivalDelayGroups|DivAirportLandings|\n",
            "+-------+---------------+--------+-------+---------------+-------+--------------+-----------------+-----------+--------+--------------------+-------+---------+--------+------+--------+--------+------------------+------------------+\n",
            "| 761652|         763084|  763084| 786177|         846183| 852561|            22|           845637|     267613|  763084|              763084| 780561|   780551|  793133|793143|  846183|  846183|            846183|                90|\n",
            "+-------+---------------+--------+-------+---------------+-------+--------------+-----------------+-----------+--------+--------------------+-------+---------+--------+------+--------+--------+------------------+------------------+\n",
            "\n"
          ]
        }
      ],
      "source": [
        "only_nulls = null_count.select([key for key in null_values if null_values[key] != 0])\n",
        "only_nulls.show()"
      ]
    },
    {
      "cell_type": "markdown",
      "metadata": {
        "id": "0fjhj7OO2tw7"
      },
      "source": [
        "## Drop all null values"
      ]
    },
    {
      "cell_type": "code",
      "execution_count": 28,
      "metadata": {
        "id": "hR4e6GgJ2tw7"
      },
      "outputs": [],
      "source": [
        "data_no_na = data.dropna()"
      ]
    },
    {
      "cell_type": "markdown",
      "metadata": {
        "id": "JqXNGIOd2tw8"
      },
      "source": [
        "# Feature selection"
      ]
    },
    {
      "cell_type": "code",
      "execution_count": 29,
      "metadata": {
        "id": "_A4q6Ayu2tw8"
      },
      "outputs": [],
      "source": [
        "#Drop timestamp data\n",
        "data_no_na = data_no_na.drop('FlightDate')"
      ]
    },
    {
      "cell_type": "code",
      "execution_count": 30,
      "metadata": {
        "colab": {
          "base_uri": "https://localhost:8080/"
        },
        "id": "pnnFs3302tw8",
        "outputId": "f140b892-a184-48a1-a271-65b17c7dad79"
      },
      "outputs": [
        {
          "data": {
            "text/plain": [
              "(28339510, 60)"
            ]
          },
          "execution_count": 30,
          "metadata": {},
          "output_type": "execute_result"
        }
      ],
      "source": [
        "data_no_na.count(), len(data_no_na.columns)"
      ]
    },
    {
      "cell_type": "code",
      "execution_count": 31,
      "metadata": {
        "id": "b9Qg893a2tw9"
      },
      "outputs": [],
      "source": [
        "cols_to_encode = ['Airline', 'Origin', 'Dest']\n",
        "[str_columns.remove(x) for x in cols_to_encode]\n",
        "None"
      ]
    },
    {
      "cell_type": "code",
      "execution_count": 32,
      "metadata": {
        "colab": {
          "base_uri": "https://localhost:8080/"
        },
        "id": "Y3ZPMw0r2tw9",
        "outputId": "d6052c2e-5e31-4537-cb43-d785ad8e90db"
      },
      "outputs": [
        {
          "data": {
            "text/plain": [
              "(28339510, 46)"
            ]
          },
          "execution_count": 32,
          "metadata": {},
          "output_type": "execute_result"
        }
      ],
      "source": [
        "data_no_na = data_no_na.drop(*str_columns)\n",
        "data_no_na.count(), len(data_no_na.columns)"
      ]
    },
    {
      "cell_type": "code",
      "execution_count": 33,
      "metadata": {
        "colab": {
          "base_uri": "https://localhost:8080/"
        },
        "id": "Xobj-_MtqJw5",
        "outputId": "b40ac784-a550-4398-dab6-93a53d139fc1"
      },
      "outputs": [
        {
          "name": "stdout",
          "output_type": "stream",
          "text": [
            "root\n",
            " |-- Airline: string (nullable = true)\n",
            " |-- Origin: string (nullable = true)\n",
            " |-- Dest: string (nullable = true)\n",
            " |-- Cancelled: boolean (nullable = true)\n",
            " |-- Diverted: boolean (nullable = true)\n",
            " |-- CRSDepTime: long (nullable = true)\n",
            " |-- DepTime: double (nullable = true)\n",
            " |-- DepDelayMinutes: double (nullable = true)\n",
            " |-- DepDelay: double (nullable = true)\n",
            " |-- ArrTime: double (nullable = true)\n",
            " |-- ArrDelayMinutes: double (nullable = true)\n",
            " |-- AirTime: double (nullable = true)\n",
            " |-- CRSElapsedTime: double (nullable = true)\n",
            " |-- ActualElapsedTime: double (nullable = true)\n",
            " |-- Distance: double (nullable = true)\n",
            " |-- Year: long (nullable = true)\n",
            " |-- Quarter: long (nullable = true)\n",
            " |-- Month: long (nullable = true)\n",
            " |-- DayofMonth: long (nullable = true)\n",
            " |-- DayOfWeek: long (nullable = true)\n",
            " |-- DOT_ID_Marketing_Airline: long (nullable = true)\n",
            " |-- Flight_Number_Marketing_Airline: long (nullable = true)\n",
            " |-- DOT_ID_Operating_Airline: long (nullable = true)\n",
            " |-- Flight_Number_Operating_Airline: long (nullable = true)\n",
            " |-- OriginAirportID: long (nullable = true)\n",
            " |-- OriginAirportSeqID: long (nullable = true)\n",
            " |-- OriginCityMarketID: long (nullable = true)\n",
            " |-- OriginStateFips: long (nullable = true)\n",
            " |-- OriginWac: long (nullable = true)\n",
            " |-- DestAirportID: long (nullable = true)\n",
            " |-- DestAirportSeqID: long (nullable = true)\n",
            " |-- DestCityMarketID: long (nullable = true)\n",
            " |-- DestStateFips: long (nullable = true)\n",
            " |-- DestWac: long (nullable = true)\n",
            " |-- DepDel15: double (nullable = true)\n",
            " |-- DepartureDelayGroups: double (nullable = true)\n",
            " |-- TaxiOut: double (nullable = true)\n",
            " |-- WheelsOff: double (nullable = true)\n",
            " |-- WheelsOn: double (nullable = true)\n",
            " |-- TaxiIn: double (nullable = true)\n",
            " |-- CRSArrTime: long (nullable = true)\n",
            " |-- ArrDelay: double (nullable = true)\n",
            " |-- ArrDel15: double (nullable = true)\n",
            " |-- ArrivalDelayGroups: double (nullable = true)\n",
            " |-- DistanceGroup: long (nullable = true)\n",
            " |-- DivAirportLandings: double (nullable = true)\n",
            "\n"
          ]
        }
      ],
      "source": [
        "data_no_na.printSchema()"
      ]
    },
    {
      "cell_type": "code",
      "execution_count": 34,
      "metadata": {
        "id": "UEvoN0cO2tw9"
      },
      "outputs": [],
      "source": [
        "dep_cols = [x for x in data_no_na.columns if \"Dep\" in x]\n",
        "arr_cols = [x for x in data_no_na.columns if \"Arr\" in x]"
      ]
    },
    {
      "cell_type": "code",
      "execution_count": 35,
      "metadata": {
        "colab": {
          "base_uri": "https://localhost:8080/"
        },
        "id": "-aAfrA8s2tw-",
        "outputId": "221a7a77-2f81-4299-8994-6b56b07cac4c"
      },
      "outputs": [
        {
          "data": {
            "text/plain": [
              "['CRSDepTime',\n",
              " 'DepTime',\n",
              " 'DepDelayMinutes',\n",
              " 'DepDelay',\n",
              " 'DepDel15',\n",
              " 'DepartureDelayGroups',\n",
              " 'ArrTime',\n",
              " 'ArrDelayMinutes',\n",
              " 'CRSArrTime',\n",
              " 'ArrDelay',\n",
              " 'ArrDel15',\n",
              " 'ArrivalDelayGroups']"
            ]
          },
          "execution_count": 35,
          "metadata": {},
          "output_type": "execute_result"
        }
      ],
      "source": [
        "time_columns = dep_cols + arr_cols\n",
        "time_columns"
      ]
    },
    {
      "cell_type": "code",
      "execution_count": 36,
      "metadata": {
        "colab": {
          "base_uri": "https://localhost:8080/"
        },
        "id": "isbLho152tw-",
        "outputId": "64b80ef1-2fad-4a3f-cc6d-06ef3174c3ac"
      },
      "outputs": [
        {
          "data": {
            "text/plain": [
              "['CRSDepTime',\n",
              " 'DepTime',\n",
              " 'DepDelayMinutes',\n",
              " 'DepDel15',\n",
              " 'DepartureDelayGroups',\n",
              " 'ArrTime',\n",
              " 'ArrDelayMinutes',\n",
              " 'CRSArrTime',\n",
              " 'ArrDelay',\n",
              " 'ArrDel15',\n",
              " 'ArrivalDelayGroups']"
            ]
          },
          "execution_count": 36,
          "metadata": {},
          "output_type": "execute_result"
        }
      ],
      "source": [
        "time_columns.remove('DepDelay')\n",
        "# time_columns.remove('ArrTime')\n",
        "time_columns"
      ]
    },
    {
      "cell_type": "code",
      "execution_count": 37,
      "metadata": {
        "colab": {
          "base_uri": "https://localhost:8080/"
        },
        "id": "vLGrYPqy2tw-",
        "outputId": "fb9c201d-54cc-49e8-cfbb-16d644a34c7e"
      },
      "outputs": [
        {
          "name": "stdout",
          "output_type": "stream",
          "text": [
            "+-------+-----------------+\n",
            "|summary|         DepDelay|\n",
            "+-------+-----------------+\n",
            "|  count|         28339510|\n",
            "|   mean| 9.23847367156313|\n",
            "| stddev|47.10140749050439|\n",
            "|    min|          -1280.0|\n",
            "|    max|           7223.0|\n",
            "+-------+-----------------+\n",
            "\n"
          ]
        }
      ],
      "source": [
        "data_no_na.select('DepDelay').describe().show()"
      ]
    },
    {
      "cell_type": "code",
      "execution_count": 38,
      "metadata": {
        "colab": {
          "base_uri": "https://localhost:8080/"
        },
        "id": "7IiD7cPX2tw-",
        "outputId": "46b1fdfb-931c-4c5e-f7b0-12988eece2dc"
      },
      "outputs": [
        {
          "name": "stdout",
          "output_type": "stream",
          "text": [
            "+-------+------------------+\n",
            "|summary|          ArrDelay|\n",
            "+-------+------------------+\n",
            "|  count|          28339510|\n",
            "|   mean|3.6081859213514984|\n",
            "| stddev| 49.28063347282263|\n",
            "|    min|           -1290.0|\n",
            "|    max|            7232.0|\n",
            "+-------+------------------+\n",
            "\n"
          ]
        }
      ],
      "source": [
        "data_no_na.select('ArrDelay').describe().show()"
      ]
    },
    {
      "cell_type": "code",
      "execution_count": 39,
      "metadata": {
        "id": "RxdslggM2tw_"
      },
      "outputs": [],
      "source": [
        "data_no_na = data_no_na.drop(*time_columns)"
      ]
    },
    {
      "cell_type": "code",
      "execution_count": 40,
      "metadata": {
        "colab": {
          "base_uri": "https://localhost:8080/"
        },
        "id": "LVqH06z42tw_",
        "outputId": "3b044ac6-6b79-4599-e9e2-2a9ef682095f"
      },
      "outputs": [
        {
          "name": "stdout",
          "output_type": "stream",
          "text": [
            "root\n",
            " |-- Airline: string (nullable = true)\n",
            " |-- Origin: string (nullable = true)\n",
            " |-- Dest: string (nullable = true)\n",
            " |-- Cancelled: boolean (nullable = true)\n",
            " |-- Diverted: boolean (nullable = true)\n",
            " |-- DepDelay: double (nullable = true)\n",
            " |-- AirTime: double (nullable = true)\n",
            " |-- CRSElapsedTime: double (nullable = true)\n",
            " |-- ActualElapsedTime: double (nullable = true)\n",
            " |-- Distance: double (nullable = true)\n",
            " |-- Year: long (nullable = true)\n",
            " |-- Quarter: long (nullable = true)\n",
            " |-- Month: long (nullable = true)\n",
            " |-- DayofMonth: long (nullable = true)\n",
            " |-- DayOfWeek: long (nullable = true)\n",
            " |-- DOT_ID_Marketing_Airline: long (nullable = true)\n",
            " |-- Flight_Number_Marketing_Airline: long (nullable = true)\n",
            " |-- DOT_ID_Operating_Airline: long (nullable = true)\n",
            " |-- Flight_Number_Operating_Airline: long (nullable = true)\n",
            " |-- OriginAirportID: long (nullable = true)\n",
            " |-- OriginAirportSeqID: long (nullable = true)\n",
            " |-- OriginCityMarketID: long (nullable = true)\n",
            " |-- OriginStateFips: long (nullable = true)\n",
            " |-- OriginWac: long (nullable = true)\n",
            " |-- DestAirportID: long (nullable = true)\n",
            " |-- DestAirportSeqID: long (nullable = true)\n",
            " |-- DestCityMarketID: long (nullable = true)\n",
            " |-- DestStateFips: long (nullable = true)\n",
            " |-- DestWac: long (nullable = true)\n",
            " |-- TaxiOut: double (nullable = true)\n",
            " |-- WheelsOff: double (nullable = true)\n",
            " |-- WheelsOn: double (nullable = true)\n",
            " |-- TaxiIn: double (nullable = true)\n",
            " |-- DistanceGroup: long (nullable = true)\n",
            " |-- DivAirportLandings: double (nullable = true)\n",
            "\n"
          ]
        }
      ],
      "source": [
        "data_no_na.printSchema()"
      ]
    },
    {
      "cell_type": "markdown",
      "metadata": {
        "id": "DujWKAMq2tw_"
      },
      "source": [
        "## One hot enconding"
      ]
    },
    {
      "cell_type": "code",
      "execution_count": 41,
      "metadata": {
        "id": "gwL7mNk02tw_"
      },
      "outputs": [],
      "source": [
        "from pyspark.ml.feature import StringIndexer, OneHotEncoder, StandardScaler, VectorAssembler\n",
        "from pyspark.ml import Pipeline"
      ]
    },
    {
      "cell_type": "markdown",
      "metadata": {
        "id": "o3_P0iR12tw_"
      },
      "source": [
        "### Vectorized implementation of one hot encoding"
      ]
    },
    {
      "cell_type": "code",
      "execution_count": 42,
      "metadata": {
        "id": "4NIqYdU52txA"
      },
      "outputs": [],
      "source": [
        "numerical_cols = [item[0] for item in data_no_na.dtypes if item[1] not in ['string', 'boolean']]"
      ]
    },
    {
      "cell_type": "markdown",
      "metadata": {
        "id": "6uWm4uM12txA"
      },
      "source": [
        "bigint represented as long by spark"
      ]
    },
    {
      "cell_type": "code",
      "execution_count": 43,
      "metadata": {
        "colab": {
          "base_uri": "https://localhost:8080/"
        },
        "id": "47Vvcpie2txA",
        "outputId": "df21f22b-1543-489f-bd8b-f2f0b4c2f95c"
      },
      "outputs": [
        {
          "data": {
            "text/plain": [
              "[('bigint', 20), ('double', 10), ('string', 3), ('boolean', 2)]"
            ]
          },
          "execution_count": 43,
          "metadata": {},
          "output_type": "execute_result"
        }
      ],
      "source": [
        "count_dtypes(data_no_na)"
      ]
    },
    {
      "cell_type": "code",
      "execution_count": 44,
      "metadata": {
        "id": "4-YAg29Q2txA"
      },
      "outputs": [],
      "source": [
        "indexed_out_names = [x + '_num' for x in cols_to_encode]\n",
        "vector_out_names = [x + '_vec' for x in cols_to_encode]"
      ]
    },
    {
      "cell_type": "code",
      "execution_count": 45,
      "metadata": {
        "id": "jzJD9Bkm2txA"
      },
      "outputs": [],
      "source": [
        "idxer = StringIndexer(inputCols=cols_to_encode, outputCols=indexed_out_names)\n",
        "enconder = OneHotEncoder(inputCols=idxer.getOutputCols(), outputCols=vector_out_names)"
      ]
    },
    {
      "cell_type": "code",
      "execution_count": 46,
      "metadata": {
        "id": "Pq2pGPcl2txA"
      },
      "outputs": [],
      "source": [
        "# TODO: Design Transformer to convert vectorized columns to one hot encoded columns"
      ]
    },
    {
      "cell_type": "code",
      "execution_count": 47,
      "metadata": {
        "id": "ePsQdu3A2txA"
      },
      "outputs": [],
      "source": [
        "pipeline = Pipeline(stages=[idxer, enconder])"
      ]
    },
    {
      "cell_type": "code",
      "execution_count": 48,
      "metadata": {
        "id": "BszxMXs32txA"
      },
      "outputs": [],
      "source": [
        "preprocess = pipeline.fit(data_no_na)"
      ]
    },
    {
      "cell_type": "code",
      "execution_count": 49,
      "metadata": {
        "colab": {
          "base_uri": "https://localhost:8080/"
        },
        "id": "u6pdi_df2txA",
        "outputId": "2c3a1ce0-67ad-4f16-b4c6-574533fc3126"
      },
      "outputs": [
        {
          "data": {
            "text/plain": [
              "Row(Airline='Endeavor Air Inc.', Origin='ABY', Dest='ATL', Cancelled=False, Diverted=False, DepDelay=-5.0, AirTime=38.0, CRSElapsedTime=62.0, ActualElapsedTime=59.0, Distance=145.0, Year=2018, Quarter=1, Month=1, DayofMonth=23, DayOfWeek=2, DOT_ID_Marketing_Airline=19790, Flight_Number_Marketing_Airline=3298, DOT_ID_Operating_Airline=20363, Flight_Number_Operating_Airline=3298, OriginAirportID=10146, OriginAirportSeqID=1014602, OriginCityMarketID=30146, OriginStateFips=13, OriginWac=34, DestAirportID=10397, DestAirportSeqID=1039707, DestCityMarketID=30397, DestStateFips=13, DestWac=34, TaxiOut=14.0, WheelsOff=1211.0, WheelsOn=1249.0, TaxiIn=7.0, DistanceGroup=1, DivAirportLandings=0.0, Airline_num=8.0, Origin_num=271.0, Dest_num=0.0, Airline_vec=SparseVector(27, {8: 1.0}), Origin_vec=SparseVector(387, {271: 1.0}), Dest_vec=SparseVector(387, {0: 1.0}))"
            ]
          },
          "execution_count": 49,
          "metadata": {},
          "output_type": "execute_result"
        }
      ],
      "source": [
        "df_transformed = preprocess.transform(data_no_na)\n",
        "df_transformed.first()"
      ]
    },
    {
      "cell_type": "code",
      "execution_count": 50,
      "metadata": {
        "colab": {
          "base_uri": "https://localhost:8080/"
        },
        "id": "SZnMz0Hb2txA",
        "outputId": "1718311d-56be-4952-8433-9a5f7e7627df"
      },
      "outputs": [
        {
          "data": {
            "text/plain": [
              "[('bigint', 20), ('double', 13), ('string', 3), ('vector', 3), ('boolean', 2)]"
            ]
          },
          "execution_count": 50,
          "metadata": {},
          "output_type": "execute_result"
        }
      ],
      "source": [
        "count_dtypes(df_transformed)"
      ]
    },
    {
      "cell_type": "code",
      "execution_count": 51,
      "metadata": {
        "id": "ZJj3kXlz2txA"
      },
      "outputs": [],
      "source": [
        "from pyspark.ml.functions import vector_to_array"
      ]
    },
    {
      "cell_type": "code",
      "execution_count": 52,
      "metadata": {
        "colab": {
          "base_uri": "https://localhost:8080/"
        },
        "id": "6ngTwap42txB",
        "outputId": "f1058fc0-d2a4-46d2-d2b1-b1b5f167bbcf"
      },
      "outputs": [
        {
          "data": {
            "text/plain": [
              "Row(Airline='Endeavor Air Inc.', Origin='ABY', Dest='ATL', Cancelled=False, Diverted=False, DepDelay=-5.0, AirTime=38.0, CRSElapsedTime=62.0, ActualElapsedTime=59.0, Distance=145.0, Year=2018, Quarter=1, Month=1, DayofMonth=23, DayOfWeek=2, DOT_ID_Marketing_Airline=19790, Flight_Number_Marketing_Airline=3298, DOT_ID_Operating_Airline=20363, Flight_Number_Operating_Airline=3298, OriginAirportID=10146, OriginAirportSeqID=1014602, OriginCityMarketID=30146, OriginStateFips=13, OriginWac=34, DestAirportID=10397, DestAirportSeqID=1039707, DestCityMarketID=30397, DestStateFips=13, DestWac=34, TaxiOut=14.0, WheelsOff=1211.0, WheelsOn=1249.0, TaxiIn=7.0, DistanceGroup=1, DivAirportLandings=0.0, Airline_num=8.0, Origin_num=271.0, Dest_num=0.0, Airline_vec=SparseVector(27, {8: 1.0}), Origin_vec=SparseVector(387, {271: 1.0}), Dest_vec=SparseVector(387, {0: 1.0}))"
            ]
          },
          "execution_count": 52,
          "metadata": {},
          "output_type": "execute_result"
        }
      ],
      "source": [
        "df_transformed.first()"
      ]
    },
    {
      "cell_type": "code",
      "execution_count": 53,
      "metadata": {
        "colab": {
          "base_uri": "https://localhost:8080/"
        },
        "id": "XsSMXtti2txB",
        "outputId": "b056f113-b76f-407d-8f4f-27e14ceb6f36"
      },
      "outputs": [
        {
          "name": "stdout",
          "output_type": "stream",
          "text": [
            "+-----------+\n",
            "|Airline_num|\n",
            "+-----------+\n",
            "|        0.0|\n",
            "+-----------+\n",
            "only showing top 1 row\n",
            "\n"
          ]
        }
      ],
      "source": [
        "df_transformed.select('Airline_num').filter(col('Airline_num') == 0).show(1)"
      ]
    },
    {
      "cell_type": "code",
      "execution_count": 54,
      "metadata": {
        "colab": {
          "base_uri": "https://localhost:8080/"
        },
        "id": "KbF8jbnQ2txB",
        "outputId": "4c0a62dd-3e54-4655-d776-3beae85126ba"
      },
      "outputs": [
        {
          "data": {
            "text/plain": [
              "Row(Airline='Endeavor Air Inc.', Origin='ABY', Dest='ATL', Cancelled=False, Diverted=False, DepDelay=-5.0, AirTime=38.0, CRSElapsedTime=62.0, ActualElapsedTime=59.0, Distance=145.0, Year=2018, Quarter=1, Month=1, DayofMonth=23, DayOfWeek=2, DOT_ID_Marketing_Airline=19790, Flight_Number_Marketing_Airline=3298, DOT_ID_Operating_Airline=20363, Flight_Number_Operating_Airline=3298, OriginAirportID=10146, OriginAirportSeqID=1014602, OriginCityMarketID=30146, OriginStateFips=13, OriginWac=34, DestAirportID=10397, DestAirportSeqID=1039707, DestCityMarketID=30397, DestStateFips=13, DestWac=34, TaxiOut=14.0, WheelsOff=1211.0, WheelsOn=1249.0, TaxiIn=7.0, DistanceGroup=1, DivAirportLandings=0.0, Airline_num=8.0, Origin_num=271.0, Dest_num=0.0, Airline_vec=SparseVector(27, {8: 1.0}), Origin_vec=SparseVector(387, {271: 1.0}), Dest_vec=SparseVector(387, {0: 1.0}), airline_one_hot=[0.0, 0.0, 0.0, 0.0, 0.0, 0.0, 0.0, 0.0, 1.0, 0.0, 0.0, 0.0, 0.0, 0.0, 0.0, 0.0, 0.0, 0.0, 0.0, 0.0, 0.0, 0.0, 0.0, 0.0, 0.0, 0.0, 0.0], origin_one_hot=[0.0, 0.0, 0.0, 0.0, 0.0, 0.0, 0.0, 0.0, 0.0, 0.0, 0.0, 0.0, 0.0, 0.0, 0.0, 0.0, 0.0, 0.0, 0.0, 0.0, 0.0, 0.0, 0.0, 0.0, 0.0, 0.0, 0.0, 0.0, 0.0, 0.0, 0.0, 0.0, 0.0, 0.0, 0.0, 0.0, 0.0, 0.0, 0.0, 0.0, 0.0, 0.0, 0.0, 0.0, 0.0, 0.0, 0.0, 0.0, 0.0, 0.0, 0.0, 0.0, 0.0, 0.0, 0.0, 0.0, 0.0, 0.0, 0.0, 0.0, 0.0, 0.0, 0.0, 0.0, 0.0, 0.0, 0.0, 0.0, 0.0, 0.0, 0.0, 0.0, 0.0, 0.0, 0.0, 0.0, 0.0, 0.0, 0.0, 0.0, 0.0, 0.0, 0.0, 0.0, 0.0, 0.0, 0.0, 0.0, 0.0, 0.0, 0.0, 0.0, 0.0, 0.0, 0.0, 0.0, 0.0, 0.0, 0.0, 0.0, 0.0, 0.0, 0.0, 0.0, 0.0, 0.0, 0.0, 0.0, 0.0, 0.0, 0.0, 0.0, 0.0, 0.0, 0.0, 0.0, 0.0, 0.0, 0.0, 0.0, 0.0, 0.0, 0.0, 0.0, 0.0, 0.0, 0.0, 0.0, 0.0, 0.0, 0.0, 0.0, 0.0, 0.0, 0.0, 0.0, 0.0, 0.0, 0.0, 0.0, 0.0, 0.0, 0.0, 0.0, 0.0, 0.0, 0.0, 0.0, 0.0, 0.0, 0.0, 0.0, 0.0, 0.0, 0.0, 0.0, 0.0, 0.0, 0.0, 0.0, 0.0, 0.0, 0.0, 0.0, 0.0, 0.0, 0.0, 0.0, 0.0, 0.0, 0.0, 0.0, 0.0, 0.0, 0.0, 0.0, 0.0, 0.0, 0.0, 0.0, 0.0, 0.0, 0.0, 0.0, 0.0, 0.0, 0.0, 0.0, 0.0, 0.0, 0.0, 0.0, 0.0, 0.0, 0.0, 0.0, 0.0, 0.0, 0.0, 0.0, 0.0, 0.0, 0.0, 0.0, 0.0, 0.0, 0.0, 0.0, 0.0, 0.0, 0.0, 0.0, 0.0, 0.0, 0.0, 0.0, 0.0, 0.0, 0.0, 0.0, 0.0, 0.0, 0.0, 0.0, 0.0, 0.0, 0.0, 0.0, 0.0, 0.0, 0.0, 0.0, 0.0, 0.0, 0.0, 0.0, 0.0, 0.0, 0.0, 0.0, 0.0, 0.0, 0.0, 0.0, 0.0, 0.0, 0.0, 0.0, 0.0, 0.0, 0.0, 0.0, 0.0, 0.0, 0.0, 0.0, 0.0, 0.0, 0.0, 0.0, 0.0, 0.0, 0.0, 0.0, 0.0, 0.0, 0.0, 0.0, 0.0, 0.0, 0.0, 1.0, 0.0, 0.0, 0.0, 0.0, 0.0, 0.0, 0.0, 0.0, 0.0, 0.0, 0.0, 0.0, 0.0, 0.0, 0.0, 0.0, 0.0, 0.0, 0.0, 0.0, 0.0, 0.0, 0.0, 0.0, 0.0, 0.0, 0.0, 0.0, 0.0, 0.0, 0.0, 0.0, 0.0, 0.0, 0.0, 0.0, 0.0, 0.0, 0.0, 0.0, 0.0, 0.0, 0.0, 0.0, 0.0, 0.0, 0.0, 0.0, 0.0, 0.0, 0.0, 0.0, 0.0, 0.0, 0.0, 0.0, 0.0, 0.0, 0.0, 0.0, 0.0, 0.0, 0.0, 0.0, 0.0, 0.0, 0.0, 0.0, 0.0, 0.0, 0.0, 0.0, 0.0, 0.0, 0.0, 0.0, 0.0, 0.0, 0.0, 0.0, 0.0, 0.0, 0.0, 0.0, 0.0, 0.0, 0.0, 0.0, 0.0, 0.0, 0.0, 0.0, 0.0, 0.0, 0.0, 0.0, 0.0, 0.0, 0.0, 0.0, 0.0, 0.0, 0.0, 0.0, 0.0, 0.0, 0.0, 0.0, 0.0, 0.0, 0.0, 0.0, 0.0, 0.0, 0.0], dest_one_hot=[1.0, 0.0, 0.0, 0.0, 0.0, 0.0, 0.0, 0.0, 0.0, 0.0, 0.0, 0.0, 0.0, 0.0, 0.0, 0.0, 0.0, 0.0, 0.0, 0.0, 0.0, 0.0, 0.0, 0.0, 0.0, 0.0, 0.0, 0.0, 0.0, 0.0, 0.0, 0.0, 0.0, 0.0, 0.0, 0.0, 0.0, 0.0, 0.0, 0.0, 0.0, 0.0, 0.0, 0.0, 0.0, 0.0, 0.0, 0.0, 0.0, 0.0, 0.0, 0.0, 0.0, 0.0, 0.0, 0.0, 0.0, 0.0, 0.0, 0.0, 0.0, 0.0, 0.0, 0.0, 0.0, 0.0, 0.0, 0.0, 0.0, 0.0, 0.0, 0.0, 0.0, 0.0, 0.0, 0.0, 0.0, 0.0, 0.0, 0.0, 0.0, 0.0, 0.0, 0.0, 0.0, 0.0, 0.0, 0.0, 0.0, 0.0, 0.0, 0.0, 0.0, 0.0, 0.0, 0.0, 0.0, 0.0, 0.0, 0.0, 0.0, 0.0, 0.0, 0.0, 0.0, 0.0, 0.0, 0.0, 0.0, 0.0, 0.0, 0.0, 0.0, 0.0, 0.0, 0.0, 0.0, 0.0, 0.0, 0.0, 0.0, 0.0, 0.0, 0.0, 0.0, 0.0, 0.0, 0.0, 0.0, 0.0, 0.0, 0.0, 0.0, 0.0, 0.0, 0.0, 0.0, 0.0, 0.0, 0.0, 0.0, 0.0, 0.0, 0.0, 0.0, 0.0, 0.0, 0.0, 0.0, 0.0, 0.0, 0.0, 0.0, 0.0, 0.0, 0.0, 0.0, 0.0, 0.0, 0.0, 0.0, 0.0, 0.0, 0.0, 0.0, 0.0, 0.0, 0.0, 0.0, 0.0, 0.0, 0.0, 0.0, 0.0, 0.0, 0.0, 0.0, 0.0, 0.0, 0.0, 0.0, 0.0, 0.0, 0.0, 0.0, 0.0, 0.0, 0.0, 0.0, 0.0, 0.0, 0.0, 0.0, 0.0, 0.0, 0.0, 0.0, 0.0, 0.0, 0.0, 0.0, 0.0, 0.0, 0.0, 0.0, 0.0, 0.0, 0.0, 0.0, 0.0, 0.0, 0.0, 0.0, 0.0, 0.0, 0.0, 0.0, 0.0, 0.0, 0.0, 0.0, 0.0, 0.0, 0.0, 0.0, 0.0, 0.0, 0.0, 0.0, 0.0, 0.0, 0.0, 0.0, 0.0, 0.0, 0.0, 0.0, 0.0, 0.0, 0.0, 0.0, 0.0, 0.0, 0.0, 0.0, 0.0, 0.0, 0.0, 0.0, 0.0, 0.0, 0.0, 0.0, 0.0, 0.0, 0.0, 0.0, 0.0, 0.0, 0.0, 0.0, 0.0, 0.0, 0.0, 0.0, 0.0, 0.0, 0.0, 0.0, 0.0, 0.0, 0.0, 0.0, 0.0, 0.0, 0.0, 0.0, 0.0, 0.0, 0.0, 0.0, 0.0, 0.0, 0.0, 0.0, 0.0, 0.0, 0.0, 0.0, 0.0, 0.0, 0.0, 0.0, 0.0, 0.0, 0.0, 0.0, 0.0, 0.0, 0.0, 0.0, 0.0, 0.0, 0.0, 0.0, 0.0, 0.0, 0.0, 0.0, 0.0, 0.0, 0.0, 0.0, 0.0, 0.0, 0.0, 0.0, 0.0, 0.0, 0.0, 0.0, 0.0, 0.0, 0.0, 0.0, 0.0, 0.0, 0.0, 0.0, 0.0, 0.0, 0.0, 0.0, 0.0, 0.0, 0.0, 0.0, 0.0, 0.0, 0.0, 0.0, 0.0, 0.0, 0.0, 0.0, 0.0, 0.0, 0.0, 0.0, 0.0, 0.0, 0.0, 0.0, 0.0, 0.0, 0.0, 0.0, 0.0, 0.0, 0.0, 0.0, 0.0, 0.0, 0.0, 0.0, 0.0, 0.0, 0.0, 0.0, 0.0, 0.0, 0.0, 0.0, 0.0, 0.0, 0.0, 0.0, 0.0, 0.0, 0.0, 0.0, 0.0, 0.0, 0.0, 0.0, 0.0, 0.0])"
            ]
          },
          "execution_count": 54,
          "metadata": {},
          "output_type": "execute_result"
        }
      ],
      "source": [
        "df_col_onehot = df_transformed.select('*', vector_to_array('Airline_vec').alias('airline_one_hot'), vector_to_array('Origin_vec').alias('origin_one_hot'), vector_to_array('Dest_vec').alias('dest_one_hot'))\n",
        "df_col_onehot.first()"
      ]
    },
    {
      "cell_type": "code",
      "execution_count": 55,
      "metadata": {
        "id": "RfFOafYz2txB"
      },
      "outputs": [],
      "source": [
        "# vecs_to_encode_lens = [len(df_col_onehot.first()[\"airline_one_hot\"]), len(df_col_onehot.first()[\"origin_one_hot\"]), len(df_col_onehot.first()[\"dest_one_hot\"])]\n",
        "vecs_to_encode= [\"airline_one_hot\", \"origin_one_hot\", \"dest_one_hot\"]\n",
        "cols_expanded = [(col(col_name)[i].alias(f'{col_name.split(\"_\")[0] + preprocess.stages[0].labelsArray[idx][i].replace(\" \", \"\").replace(\".\", \"\")}')) for idx, col_name in enumerate(vecs_to_encode) for i in range(len(df_col_onehot.first()[col_name]))]\n",
        "df_transformed =  df_col_onehot.select('*', *cols_expanded)\n",
        "df_transformed = df_transformed.drop(*vecs_to_encode + vector_out_names + cols_to_encode + indexed_out_names)"
      ]
    },
    {
      "cell_type": "code",
      "execution_count": 56,
      "metadata": {
        "colab": {
          "base_uri": "https://localhost:8080/"
        },
        "id": "eEpMB9_V2txB",
        "outputId": "48d2b8e7-5198-45f4-bfd7-3c33f1546cb9"
      },
      "outputs": [
        {
          "name": "stdout",
          "output_type": "stream",
          "text": [
            "root\n",
            " |-- Cancelled: boolean (nullable = true)\n",
            " |-- Diverted: boolean (nullable = true)\n",
            " |-- DepDelay: double (nullable = true)\n",
            " |-- AirTime: double (nullable = true)\n",
            " |-- CRSElapsedTime: double (nullable = true)\n",
            " |-- ActualElapsedTime: double (nullable = true)\n",
            " |-- Distance: double (nullable = true)\n",
            " |-- Year: long (nullable = true)\n",
            " |-- Quarter: long (nullable = true)\n",
            " |-- Month: long (nullable = true)\n",
            " |-- DayofMonth: long (nullable = true)\n",
            " |-- DayOfWeek: long (nullable = true)\n",
            " |-- DOT_ID_Marketing_Airline: long (nullable = true)\n",
            " |-- Flight_Number_Marketing_Airline: long (nullable = true)\n",
            " |-- DOT_ID_Operating_Airline: long (nullable = true)\n",
            " |-- Flight_Number_Operating_Airline: long (nullable = true)\n",
            " |-- OriginAirportID: long (nullable = true)\n",
            " |-- OriginAirportSeqID: long (nullable = true)\n",
            " |-- OriginCityMarketID: long (nullable = true)\n",
            " |-- OriginStateFips: long (nullable = true)\n",
            " |-- OriginWac: long (nullable = true)\n",
            " |-- DestAirportID: long (nullable = true)\n",
            " |-- DestAirportSeqID: long (nullable = true)\n",
            " |-- DestCityMarketID: long (nullable = true)\n",
            " |-- DestStateFips: long (nullable = true)\n",
            " |-- DestWac: long (nullable = true)\n",
            " |-- TaxiOut: double (nullable = true)\n",
            " |-- WheelsOff: double (nullable = true)\n",
            " |-- WheelsOn: double (nullable = true)\n",
            " |-- TaxiIn: double (nullable = true)\n",
            " |-- DistanceGroup: long (nullable = true)\n",
            " |-- DivAirportLandings: double (nullable = true)\n",
            " |-- airlineSouthwestAirlinesCo: double (nullable = true)\n",
            " |-- airlineDeltaAirLinesInc: double (nullable = true)\n",
            " |-- airlineSkyWestAirlinesInc: double (nullable = true)\n",
            " |-- airlineAmericanAirlinesInc: double (nullable = true)\n",
            " |-- airlineUnitedAirLinesInc: double (nullable = true)\n",
            " |-- airlineRepublicAirlines: double (nullable = true)\n",
            " |-- airlineJetBlueAirways: double (nullable = true)\n",
            " |-- airlineEnvoyAir: double (nullable = true)\n",
            " |-- airlineEndeavorAirInc: double (nullable = true)\n",
            " |-- airlineComairInc: double (nullable = true)\n",
            " |-- airlineAlaskaAirlinesInc: double (nullable = true)\n",
            " |-- airlineSpiritAirLines: double (nullable = true)\n",
            " |-- airlineMesaAirlinesInc: double (nullable = true)\n",
            " |-- airlineFrontierAirlinesInc: double (nullable = true)\n",
            " |-- airlineAllegiantAir: double (nullable = true)\n",
            " |-- airlineHorizonAir: double (nullable = true)\n",
            " |-- airlineCapitalCargoInternational: double (nullable = true)\n",
            " |-- airlineAirWisconsinAirlinesCorp: double (nullable = true)\n",
            " |-- airlineExpressJetAirlinesInc: double (nullable = true)\n",
            " |-- airlineHawaiianAirlinesInc: double (nullable = true)\n",
            " |-- airlineGoJetAirlines,LLCd/b/aUnitedExpress: double (nullable = true)\n",
            " |-- airlineCommutairAkaChamplainEnterprises,Inc: double (nullable = true)\n",
            " |-- airlineTransStatesAirlines: double (nullable = true)\n",
            " |-- airlineCompassAirlines: double (nullable = true)\n",
            " |-- airlineVirginAmerica: double (nullable = true)\n",
            " |-- airlineEmpireAirlinesInc: double (nullable = true)\n",
            " |-- airlinePeninsulaAirwaysInc: double (nullable = true)\n",
            " |-- originATL: double (nullable = true)\n",
            " |-- originORD: double (nullable = true)\n",
            " |-- originDEN: double (nullable = true)\n",
            " |-- originDFW: double (nullable = true)\n",
            " |-- originCLT: double (nullable = true)\n",
            " |-- originLAX: double (nullable = true)\n",
            " |-- originSEA: double (nullable = true)\n",
            " |-- originIAH: double (nullable = true)\n",
            " |-- originPHX: double (nullable = true)\n",
            " |-- originLAS: double (nullable = true)\n",
            " |-- originSFO: double (nullable = true)\n",
            " |-- originDTW: double (nullable = true)\n",
            " |-- originMCO: double (nullable = true)\n",
            " |-- originEWR: double (nullable = true)\n",
            " |-- originMSP: double (nullable = true)\n",
            " |-- originLGA: double (nullable = true)\n",
            " |-- originBOS: double (nullable = true)\n",
            " |-- originPHL: double (nullable = true)\n",
            " |-- originSLC: double (nullable = true)\n",
            " |-- originDCA: double (nullable = true)\n",
            " |-- originJFK: double (nullable = true)\n",
            " |-- originBWI: double (nullable = true)\n",
            " |-- originFLL: double (nullable = true)\n",
            " |-- originIAD: double (nullable = true)\n",
            " |-- originSAN: double (nullable = true)\n",
            " |-- originMIA: double (nullable = true)\n",
            " |-- originMDW: double (nullable = true)\n",
            " |-- originBNA: double (nullable = true)\n",
            " |-- originTPA: double (nullable = true)\n",
            " |-- originPDX: double (nullable = true)\n",
            " |-- originDAL: double (nullable = true)\n",
            " |-- originAUS: double (nullable = true)\n",
            " |-- originSTL: double (nullable = true)\n",
            " |-- originHOU: double (nullable = true)\n",
            " |-- originSJC: double (nullable = true)\n",
            " |-- originRDU: double (nullable = true)\n",
            " |-- originHNL: double (nullable = true)\n",
            " |-- originSMF: double (nullable = true)\n",
            " |-- originMSY: double (nullable = true)\n",
            " |-- originOAK: double (nullable = true)\n",
            " |-- originMCI: double (nullable = true)\n",
            " |-- originIND: double (nullable = true)\n",
            " |-- originCLE: double (nullable = true)\n",
            " |-- originPIT: double (nullable = true)\n",
            " |-- originCVG: double (nullable = true)\n",
            " |-- originSNA: double (nullable = true)\n",
            " |-- originCMH: double (nullable = true)\n",
            " |-- originRSW: double (nullable = true)\n",
            " |-- originSAT: double (nullable = true)\n",
            " |-- originMKE: double (nullable = true)\n",
            " |-- originJAX: double (nullable = true)\n",
            " |-- originSJU: double (nullable = true)\n",
            " |-- originBUR: double (nullable = true)\n",
            " |-- originOGG: double (nullable = true)\n",
            " |-- originBOI: double (nullable = true)\n",
            " |-- originBDL: double (nullable = true)\n",
            " |-- originCHS: double (nullable = true)\n",
            " |-- originOMA: double (nullable = true)\n",
            " |-- originPBI: double (nullable = true)\n",
            " |-- originSDF: double (nullable = true)\n",
            " |-- originRIC: double (nullable = true)\n",
            " |-- originABQ: double (nullable = true)\n",
            " |-- originBUF: double (nullable = true)\n",
            " |-- originMEM: double (nullable = true)\n",
            " |-- originOKC: double (nullable = true)\n",
            " |-- originONT: double (nullable = true)\n",
            " |-- originORF: double (nullable = true)\n",
            " |-- originRNO: double (nullable = true)\n",
            " |-- originGEG: double (nullable = true)\n",
            " |-- originANC: double (nullable = true)\n",
            " |-- originGRR: double (nullable = true)\n",
            " |-- originTUS: double (nullable = true)\n",
            " |-- originTYS: double (nullable = true)\n",
            " |-- originSAV: double (nullable = true)\n",
            " |-- originELP: double (nullable = true)\n",
            " |-- originBHM: double (nullable = true)\n",
            " |-- originTUL: double (nullable = true)\n",
            " |-- originPVD: double (nullable = true)\n",
            " |-- originDSM: double (nullable = true)\n",
            " |-- originKOA: double (nullable = true)\n",
            " |-- originLGB: double (nullable = true)\n",
            " |-- originROC: double (nullable = true)\n",
            " |-- originGSP: double (nullable = true)\n",
            " |-- originALB: double (nullable = true)\n",
            " |-- originSYR: double (nullable = true)\n",
            " |-- originGSO: double (nullable = true)\n",
            " |-- originMYR: double (nullable = true)\n",
            " |-- originLIH: double (nullable = true)\n",
            " |-- originLIT: double (nullable = true)\n",
            " |-- originDAY: double (nullable = true)\n",
            " |-- originMSN: double (nullable = true)\n",
            " |-- originPSP: double (nullable = true)\n",
            " |-- originPNS: double (nullable = true)\n",
            " |-- originXNA: double (nullable = true)\n",
            " |-- originPWM: double (nullable = true)\n",
            " |-- originFAT: double (nullable = true)\n",
            " |-- originSRQ: double (nullable = true)\n",
            " |-- originCOS: double (nullable = true)\n",
            " |-- originICT: double (nullable = true)\n",
            " |-- originSFB: double (nullable = true)\n",
            " |-- originLEX: double (nullable = true)\n",
            " |-- originBZN: double (nullable = true)\n",
            " |-- originMDT: double (nullable = true)\n",
            " |-- originAVL: double (nullable = true)\n",
            " |-- originVPS: double (nullable = true)\n",
            " |-- originHPN: double (nullable = true)\n",
            " |-- originSGF: double (nullable = true)\n",
            " |-- originCID: double (nullable = true)\n",
            " |-- originHSV: double (nullable = true)\n",
            " |-- originBTV: double (nullable = true)\n",
            " |-- originCAE: double (nullable = true)\n",
            " |-- originMAF: double (nullable = true)\n",
            " |-- originEUG: double (nullable = true)\n",
            " |-- originMHT: double (nullable = true)\n",
            " |-- originMFR: double (nullable = true)\n",
            " |-- originRDM: double (nullable = true)\n",
            " |-- originPIE: double (nullable = true)\n",
            " |-- originFSD: double (nullable = true)\n",
            " |-- originCHA: double (nullable = true)\n",
            " |-- originECP: double (nullable = true)\n",
            " |-- originJAN: double (nullable = true)\n",
            " |-- originILM: double (nullable = true)\n",
            " |-- originSBA: double (nullable = true)\n",
            " |-- originEYW: double (nullable = true)\n",
            " |-- originFAR: double (nullable = true)\n",
            " |-- originFWA: double (nullable = true)\n",
            " |-- originSBN: double (nullable = true)\n",
            " |-- originLBB: double (nullable = true)\n",
            " |-- originATW: double (nullable = true)\n",
            " |-- originCHO: double (nullable = true)\n",
            " |-- originPGD: double (nullable = true)\n",
            " |-- originBTR: double (nullable = true)\n",
            " |-- originAZA: double (nullable = true)\n",
            " |-- originPSC: double (nullable = true)\n",
            " |-- originITO: double (nullable = true)\n",
            " |-- originASE: double (nullable = true)\n",
            " |-- originROA: double (nullable = true)\n",
            " |-- originISP: double (nullable = true)\n",
            " |-- originSHV: double (nullable = true)\n",
            " |-- originMSO: double (nullable = true)\n",
            " |-- originMOB: double (nullable = true)\n",
            " |-- originRAP: double (nullable = true)\n",
            " |-- originCAK: double (nullable = true)\n",
            " |-- originABE: double (nullable = true)\n",
            " |-- originGRB: double (nullable = true)\n",
            " |-- originCRP: double (nullable = true)\n",
            " |-- originTLH: double (nullable = true)\n",
            " |-- originMLI: double (nullable = true)\n",
            " |-- originAMA: double (nullable = true)\n",
            " |-- originBIL: double (nullable = true)\n",
            " |-- originJAC: double (nullable = true)\n",
            " |-- originFCA: double (nullable = true)\n",
            " |-- originTVC: double (nullable = true)\n",
            " |-- originSBP: double (nullable = true)\n",
            " |-- originBGR: double (nullable = true)\n",
            " |-- originMFE: double (nullable = true)\n",
            " |-- originLFT: double (nullable = true)\n",
            " |-- originPIA: double (nullable = true)\n",
            " |-- originSTT: double (nullable = true)\n",
            " |-- originAGS: double (nullable = true)\n",
            " |-- originGJT: double (nullable = true)\n",
            " |-- originBIS: double (nullable = true)\n",
            " |-- originFAI: double (nullable = true)\n",
            " |-- originEVV: double (nullable = true)\n",
            " |-- originJNU: double (nullable = true)\n",
            " |-- originHRL: double (nullable = true)\n",
            " |-- originCRW: double (nullable = true)\n",
            " |-- originGPT: double (nullable = true)\n",
            " |-- originMRY: double (nullable = true)\n",
            " |-- originFNT: double (nullable = true)\n",
            " |-- originAVP: double (nullable = true)\n",
            " |-- originGNV: double (nullable = true)\n",
            " |-- originDRO: double (nullable = true)\n",
            " |-- originSTS: double (nullable = true)\n",
            " |-- originSCE: double (nullable = true)\n",
            " |-- originMGM: double (nullable = true)\n",
            " |-- originTRI: double (nullable = true)\n",
            " |-- originFAY: double (nullable = true)\n",
            " |-- originPAE: double (nullable = true)\n",
            " |-- originIDA: double (nullable = true)\n",
            " |-- originACY: double (nullable = true)\n",
            " |-- originSGU: double (nullable = true)\n",
            " |-- originRST: double (nullable = true)\n",
            " |-- originDAB: double (nullable = true)\n",
            " |-- originBLI: double (nullable = true)\n",
            " |-- originLAN: double (nullable = true)\n",
            " |-- originGTF: double (nullable = true)\n",
            " |-- originMTJ: double (nullable = true)\n",
            " |-- originAEX: double (nullable = true)\n",
            " |-- originOAJ: double (nullable = true)\n",
            " |-- originLNK: double (nullable = true)\n",
            " |-- originGRK: double (nullable = true)\n",
            " |-- originAZO: double (nullable = true)\n",
            " |-- originCWA: double (nullable = true)\n",
            " |-- originDLH: double (nullable = true)\n",
            " |-- originMOT: double (nullable = true)\n",
            " |-- originPHF: double (nullable = true)\n",
            " |-- originBMI: double (nullable = true)\n",
            " |-- originMLU: double (nullable = true)\n",
            " |-- originEGE: double (nullable = true)\n",
            " |-- originBFL: double (nullable = true)\n",
            " |-- originBRO: double (nullable = true)\n",
            " |-- originTTN: double (nullable = true)\n",
            " |-- originHHH: double (nullable = true)\n",
            " |-- originMLB: double (nullable = true)\n",
            " |-- originMBS: double (nullable = true)\n",
            " |-- originSAF: double (nullable = true)\n",
            " |-- originLRD: double (nullable = true)\n",
            " |-- originCOU: double (nullable = true)\n",
            " |-- originKTN: double (nullable = true)\n",
            " |-- originHDN: double (nullable = true)\n",
            " |-- originFLG: double (nullable = true)\n",
            " |-- originCPR: double (nullable = true)\n",
            " |-- originCMI: double (nullable = true)\n",
            " |-- originITH: double (nullable = true)\n",
            " |-- originABI: double (nullable = true)\n",
            " |-- originHLN: double (nullable = true)\n",
            " |-- originCLL: double (nullable = true)\n",
            " |-- originERI: double (nullable = true)\n",
            " |-- originBQN: double (nullable = true)\n",
            " |-- originLSE: double (nullable = true)\n",
            " |-- originACV: double (nullable = true)\n",
            " |-- originLCH: double (nullable = true)\n",
            " |-- originEWN: double (nullable = true)\n",
            " |-- originELM: double (nullable = true)\n",
            " |-- originSUN: double (nullable = true)\n",
            " |-- originLYH: double (nullable = true)\n",
            " |-- originSWF: double (nullable = true)\n",
            " |-- originYUM: double (nullable = true)\n",
            " |-- originGFK: double (nullable = true)\n",
            " |-- originSJT: double (nullable = true)\n",
            " |-- originSPI: double (nullable = true)\n",
            " |-- originTOL: double (nullable = true)\n",
            " |-- originSBY: double (nullable = true)\n",
            " |-- originFSM: double (nullable = true)\n",
            " |-- originACT: double (nullable = true)\n",
            " |-- originMHK: double (nullable = true)\n",
            " |-- originACK: double (nullable = true)\n",
            " |-- originCSG: double (nullable = true)\n",
            " |-- originHTS: double (nullable = true)\n",
            " |-- originRDD: double (nullable = true)\n",
            " |-- originTYR: double (nullable = true)\n",
            " |-- originMQT: double (nullable = true)\n",
            " |-- originBLV: double (nullable = true)\n",
            " |-- originUSA: double (nullable = true)\n",
            " |-- originLCK: double (nullable = true)\n",
            " |-- originSIT: double (nullable = true)\n",
            " |-- originPUW: double (nullable = true)\n",
            " |-- originORH: double (nullable = true)\n",
            " |-- originDHN: double (nullable = true)\n",
            " |-- originPBG: double (nullable = true)\n",
            " |-- originROW: double (nullable = true)\n",
            " |-- originSTX: double (nullable = true)\n",
            " |-- originLBE: double (nullable = true)\n",
            " |-- originLAW: double (nullable = true)\n",
            " |-- originTXK: double (nullable = true)\n",
            " |-- originSPS: double (nullable = true)\n",
            " |-- originCOD: double (nullable = true)\n",
            " |-- originGTR: double (nullable = true)\n",
            " |-- originJMS: double (nullable = true)\n",
            " |-- originPGV: double (nullable = true)\n",
            " |-- originTWF: double (nullable = true)\n",
            " |-- originLWS: double (nullable = true)\n",
            " |-- originVLD: double (nullable = true)\n",
            " |-- originHYS: double (nullable = true)\n",
            " |-- originYKM: double (nullable = true)\n",
            " |-- originGRI: double (nullable = true)\n",
            " |-- originEAT: double (nullable = true)\n",
            " |-- originGUM: double (nullable = true)\n",
            " |-- originBQK: double (nullable = true)\n",
            " |-- originCKB: double (nullable = true)\n",
            " |-- originABY: double (nullable = true)\n",
            " |-- originSUX: double (nullable = true)\n",
            " |-- originPAH: double (nullable = true)\n",
            " |-- originPIH: double (nullable = true)\n",
            " |-- originGUC: double (nullable = true)\n",
            " |-- originJLN: double (nullable = true)\n",
            " |-- originPLN: double (nullable = true)\n",
            " |-- originFLO: double (nullable = true)\n",
            " |-- originPUB: double (nullable = true)\n",
            " |-- originBPT: double (nullable = true)\n",
            " |-- originPVU: double (nullable = true)\n",
            " |-- originSLN: double (nullable = true)\n",
            " |-- originSCK: double (nullable = true)\n",
            " |-- originLNY: double (nullable = true)\n",
            " |-- originRFD: double (nullable = true)\n",
            " |-- originALW: double (nullable = true)\n",
            " |-- originGGG: double (nullable = true)\n",
            " |-- originGCC: double (nullable = true)\n",
            " |-- originRHI: double (nullable = true)\n",
            " |-- originXWA: double (nullable = true)\n",
            " |-- originEAU: double (nullable = true)\n",
            " |-- originSHD: double (nullable = true)\n",
            " |-- originCMX: double (nullable = true)\n",
            " |-- originWRG: double (nullable = true)\n",
            " |-- originMEI: double (nullable = true)\n",
            " |-- originPSG: double (nullable = true)\n",
            " |-- originCDV: double (nullable = true)\n",
            " |-- originCGI: double (nullable = true)\n",
            " |-- originBET: double (nullable = true)\n",
            " |-- originISN: double (nullable = true)\n",
            " |-- originMKG: double (nullable = true)\n",
            " |-- originYAK: double (nullable = true)\n",
            " |-- originABR: double (nullable = true)\n",
            " |-- originADQ: double (nullable = true)\n",
            " |-- originSCC: double (nullable = true)\n",
            " |-- originBJI: double (nullable = true)\n",
            " |-- originPRC: double (nullable = true)\n",
            " |-- originEAR: double (nullable = true)\n",
            " |-- originBFF: double (nullable = true)\n",
            " |-- originIMT: double (nullable = true)\n",
            " |-- originCIU: double (nullable = true)\n",
            " |-- originLBF: double (nullable = true)\n",
            " |-- originDBQ: double (nullable = true)\n",
            " |-- originIAG: double (nullable = true)\n",
            " |-- originGCK: double (nullable = true)\n",
            " |-- originLWB: double (nullable = true)\n",
            " |-- originRKS: double (nullable = true)\n",
            " |-- originSWO: double (nullable = true)\n",
            " |-- originDVL: double (nullable = true)\n",
            " |-- originLAR: double (nullable = true)\n",
            " |-- originBTM: double (nullable = true)\n",
            " |-- originMVY: double (nullable = true)\n",
            " |-- originLBL: double (nullable = true)\n",
            " |-- originCNY: double (nullable = true)\n",
            " |-- originOME: double (nullable = true)\n",
            " |-- originESC: double (nullable = true)\n",
            " |-- originOTZ: double (nullable = true)\n",
            " |-- originPIB: double (nullable = true)\n",
            " |-- originDIK: double (nullable = true)\n",
            " |-- originHOB: double (nullable = true)\n",
            " |-- originBRD: double (nullable = true)\n",
            " |-- originART: double (nullable = true)\n",
            " |-- originHIB: double (nullable = true)\n",
            " |-- originINL: double (nullable = true)\n",
            " |-- originCDC: double (nullable = true)\n",
            " |-- originAPN: double (nullable = true)\n",
            " |-- originPSE: double (nullable = true)\n",
            " |-- originEKO: double (nullable = true)\n",
            " |-- originBGM: double (nullable = true)\n",
            " |-- originVEL: double (nullable = true)\n",
            " |-- originMKK: double (nullable = true)\n",
            " |-- originALO: double (nullable = true)\n",
            " |-- originDRT: double (nullable = true)\n",
            " |-- originBRW: double (nullable = true)\n",
            " |-- originSPN: double (nullable = true)\n",
            " |-- originPQI: double (nullable = true)\n",
            " |-- originOGS: double (nullable = true)\n",
            " |-- originHVN: double (nullable = true)\n",
            " |-- originPIR: double (nullable = true)\n",
            " |-- originJHM: double (nullable = true)\n",
            " |-- originATY: double (nullable = true)\n",
            " |-- originDEC: double (nullable = true)\n",
            " |-- originPSM: double (nullable = true)\n",
            " |-- originOTH: double (nullable = true)\n",
            " |-- originIPT: double (nullable = true)\n",
            " |-- originSHR: double (nullable = true)\n",
            " |-- originUIN: double (nullable = true)\n",
            " |-- originDDC: double (nullable = true)\n",
            " |-- originRIW: double (nullable = true)\n",
            " |-- originCYS: double (nullable = true)\n",
            " |-- originWYS: double (nullable = true)\n",
            " |-- originDUT: double (nullable = true)\n",
            " |-- originJST: double (nullable = true)\n",
            " |-- originAKN: double (nullable = true)\n",
            " |-- originMMH: double (nullable = true)\n",
            " |-- originVCT: double (nullable = true)\n",
            " |-- originDLG: double (nullable = true)\n",
            " |-- originALS: double (nullable = true)\n",
            " |-- originSMX: double (nullable = true)\n",
            " |-- originFOD: double (nullable = true)\n",
            " |-- originMCW: double (nullable = true)\n",
            " |-- originHGR: double (nullable = true)\n",
            " |-- originSTC: double (nullable = true)\n",
            " |-- originBKG: double (nullable = true)\n",
            " |-- originTBN: double (nullable = true)\n",
            " |-- originOWB: double (nullable = true)\n",
            " |-- originOGD: double (nullable = true)\n",
            " |-- originADK: double (nullable = true)\n",
            " |-- originHYA: double (nullable = true)\n",
            " |-- originGST: double (nullable = true)\n",
            " |-- originPPG: double (nullable = true)\n",
            " |-- originBIH: double (nullable = true)\n",
            " |-- originCDB: double (nullable = true)\n",
            " |-- originBFM: double (nullable = true)\n",
            " |-- originILG: double (nullable = true)\n",
            " |-- originROP: double (nullable = true)\n",
            " |-- destATL: double (nullable = true)\n",
            " |-- destORD: double (nullable = true)\n",
            " |-- destDEN: double (nullable = true)\n",
            " |-- destDFW: double (nullable = true)\n",
            " |-- destCLT: double (nullable = true)\n",
            " |-- destLAX: double (nullable = true)\n",
            " |-- destSEA: double (nullable = true)\n",
            " |-- destIAH: double (nullable = true)\n",
            " |-- destPHX: double (nullable = true)\n",
            " |-- destLAS: double (nullable = true)\n",
            " |-- destSFO: double (nullable = true)\n",
            " |-- destDTW: double (nullable = true)\n",
            " |-- destMCO: double (nullable = true)\n",
            " |-- destEWR: double (nullable = true)\n",
            " |-- destMSP: double (nullable = true)\n",
            " |-- destLGA: double (nullable = true)\n",
            " |-- destBOS: double (nullable = true)\n",
            " |-- destPHL: double (nullable = true)\n",
            " |-- destSLC: double (nullable = true)\n",
            " |-- destDCA: double (nullable = true)\n",
            " |-- destJFK: double (nullable = true)\n",
            " |-- destBWI: double (nullable = true)\n",
            " |-- destFLL: double (nullable = true)\n",
            " |-- destIAD: double (nullable = true)\n",
            " |-- destSAN: double (nullable = true)\n",
            " |-- destMIA: double (nullable = true)\n",
            " |-- destMDW: double (nullable = true)\n",
            " |-- destBNA: double (nullable = true)\n",
            " |-- destTPA: double (nullable = true)\n",
            " |-- destPDX: double (nullable = true)\n",
            " |-- destDAL: double (nullable = true)\n",
            " |-- destAUS: double (nullable = true)\n",
            " |-- destSTL: double (nullable = true)\n",
            " |-- destHOU: double (nullable = true)\n",
            " |-- destSJC: double (nullable = true)\n",
            " |-- destRDU: double (nullable = true)\n",
            " |-- destHNL: double (nullable = true)\n",
            " |-- destSMF: double (nullable = true)\n",
            " |-- destMSY: double (nullable = true)\n",
            " |-- destMCI: double (nullable = true)\n",
            " |-- destOAK: double (nullable = true)\n",
            " |-- destIND: double (nullable = true)\n",
            " |-- destCLE: double (nullable = true)\n",
            " |-- destPIT: double (nullable = true)\n",
            " |-- destCVG: double (nullable = true)\n",
            " |-- destSNA: double (nullable = true)\n",
            " |-- destCMH: double (nullable = true)\n",
            " |-- destRSW: double (nullable = true)\n",
            " |-- destSAT: double (nullable = true)\n",
            " |-- destMKE: double (nullable = true)\n",
            " |-- destJAX: double (nullable = true)\n",
            " |-- destSJU: double (nullable = true)\n",
            " |-- destBUR: double (nullable = true)\n",
            " |-- destOGG: double (nullable = true)\n",
            " |-- destBOI: double (nullable = true)\n",
            " |-- destBDL: double (nullable = true)\n",
            " |-- destCHS: double (nullable = true)\n",
            " |-- destOMA: double (nullable = true)\n",
            " |-- destPBI: double (nullable = true)\n",
            " |-- destSDF: double (nullable = true)\n",
            " |-- destRIC: double (nullable = true)\n",
            " |-- destABQ: double (nullable = true)\n",
            " |-- destBUF: double (nullable = true)\n",
            " |-- destMEM: double (nullable = true)\n",
            " |-- destOKC: double (nullable = true)\n",
            " |-- destONT: double (nullable = true)\n",
            " |-- destORF: double (nullable = true)\n",
            " |-- destRNO: double (nullable = true)\n",
            " |-- destGEG: double (nullable = true)\n",
            " |-- destANC: double (nullable = true)\n",
            " |-- destGRR: double (nullable = true)\n",
            " |-- destTUS: double (nullable = true)\n",
            " |-- destTYS: double (nullable = true)\n",
            " |-- destSAV: double (nullable = true)\n",
            " |-- destELP: double (nullable = true)\n",
            " |-- destBHM: double (nullable = true)\n",
            " |-- destTUL: double (nullable = true)\n",
            " |-- destPVD: double (nullable = true)\n",
            " |-- destDSM: double (nullable = true)\n",
            " |-- destKOA: double (nullable = true)\n",
            " |-- destLGB: double (nullable = true)\n",
            " |-- destROC: double (nullable = true)\n",
            " |-- destGSP: double (nullable = true)\n",
            " |-- destALB: double (nullable = true)\n",
            " |-- destSYR: double (nullable = true)\n",
            " |-- destGSO: double (nullable = true)\n",
            " |-- destMYR: double (nullable = true)\n",
            " |-- destLIH: double (nullable = true)\n",
            " |-- destLIT: double (nullable = true)\n",
            " |-- destDAY: double (nullable = true)\n",
            " |-- destMSN: double (nullable = true)\n",
            " |-- destPSP: double (nullable = true)\n",
            " |-- destPNS: double (nullable = true)\n",
            " |-- destXNA: double (nullable = true)\n",
            " |-- destPWM: double (nullable = true)\n",
            " |-- destFAT: double (nullable = true)\n",
            " |-- destSRQ: double (nullable = true)\n",
            " |-- destCOS: double (nullable = true)\n",
            " |-- destICT: double (nullable = true)\n",
            " |-- destSFB: double (nullable = true)\n",
            " |-- destLEX: double (nullable = true)\n",
            " |-- destBZN: double (nullable = true)\n",
            " |-- destMDT: double (nullable = true)\n",
            " |-- destAVL: double (nullable = true)\n",
            " |-- destVPS: double (nullable = true)\n",
            " |-- destSGF: double (nullable = true)\n",
            " |-- destCID: double (nullable = true)\n",
            " |-- destHPN: double (nullable = true)\n",
            " |-- destHSV: double (nullable = true)\n",
            " |-- destBTV: double (nullable = true)\n",
            " |-- destCAE: double (nullable = true)\n",
            " |-- destMAF: double (nullable = true)\n",
            " |-- destMHT: double (nullable = true)\n",
            " |-- destEUG: double (nullable = true)\n",
            " |-- destMFR: double (nullable = true)\n",
            " |-- destRDM: double (nullable = true)\n",
            " |-- destPIE: double (nullable = true)\n",
            " |-- destFSD: double (nullable = true)\n",
            " |-- destECP: double (nullable = true)\n",
            " |-- destCHA: double (nullable = true)\n",
            " |-- destJAN: double (nullable = true)\n",
            " |-- destILM: double (nullable = true)\n",
            " |-- destSBA: double (nullable = true)\n",
            " |-- destEYW: double (nullable = true)\n",
            " |-- destFAR: double (nullable = true)\n",
            " |-- destFWA: double (nullable = true)\n",
            " |-- destSBN: double (nullable = true)\n",
            " |-- destLBB: double (nullable = true)\n",
            " |-- destATW: double (nullable = true)\n",
            " |-- destCHO: double (nullable = true)\n",
            " |-- destPGD: double (nullable = true)\n",
            " |-- destBTR: double (nullable = true)\n",
            " |-- destAZA: double (nullable = true)\n",
            " |-- destITO: double (nullable = true)\n",
            " |-- destPSC: double (nullable = true)\n",
            " |-- destASE: double (nullable = true)\n",
            " |-- destROA: double (nullable = true)\n",
            " |-- destISP: double (nullable = true)\n",
            " |-- destSHV: double (nullable = true)\n",
            " |-- destMSO: double (nullable = true)\n",
            " |-- destMOB: double (nullable = true)\n",
            " |-- destRAP: double (nullable = true)\n",
            " |-- destCAK: double (nullable = true)\n",
            " |-- destABE: double (nullable = true)\n",
            " |-- destGRB: double (nullable = true)\n",
            " |-- destCRP: double (nullable = true)\n",
            " |-- destTLH: double (nullable = true)\n",
            " |-- destMLI: double (nullable = true)\n",
            " |-- destAMA: double (nullable = true)\n",
            " |-- destBIL: double (nullable = true)\n",
            " |-- destJAC: double (nullable = true)\n",
            " |-- destFCA: double (nullable = true)\n",
            " |-- destTVC: double (nullable = true)\n",
            " |-- destSBP: double (nullable = true)\n",
            " |-- destBGR: double (nullable = true)\n",
            " |-- destMFE: double (nullable = true)\n",
            " |-- destSTT: double (nullable = true)\n",
            " |-- destLFT: double (nullable = true)\n",
            " |-- destPIA: double (nullable = true)\n",
            " |-- destAGS: double (nullable = true)\n",
            " |-- destGJT: double (nullable = true)\n",
            " |-- destBIS: double (nullable = true)\n",
            " |-- destFAI: double (nullable = true)\n",
            " |-- destEVV: double (nullable = true)\n",
            " |-- destJNU: double (nullable = true)\n",
            " |-- destHRL: double (nullable = true)\n",
            " |-- destCRW: double (nullable = true)\n",
            " |-- destGPT: double (nullable = true)\n",
            " |-- destMRY: double (nullable = true)\n",
            " |-- destAVP: double (nullable = true)\n",
            " |-- destFNT: double (nullable = true)\n",
            " |-- destGNV: double (nullable = true)\n",
            " |-- destDRO: double (nullable = true)\n",
            " |-- destSTS: double (nullable = true)\n",
            " |-- destMGM: double (nullable = true)\n",
            " |-- destSCE: double (nullable = true)\n",
            " |-- destTRI: double (nullable = true)\n",
            " |-- destFAY: double (nullable = true)\n",
            " |-- destPAE: double (nullable = true)\n",
            " |-- destIDA: double (nullable = true)\n",
            " |-- destACY: double (nullable = true)\n",
            " |-- destSGU: double (nullable = true)\n",
            " |-- destRST: double (nullable = true)\n",
            " |-- destDAB: double (nullable = true)\n",
            " |-- destBLI: double (nullable = true)\n",
            " |-- destLAN: double (nullable = true)\n",
            " |-- destMTJ: double (nullable = true)\n",
            " |-- destGTF: double (nullable = true)\n",
            " |-- destAEX: double (nullable = true)\n",
            " |-- destOAJ: double (nullable = true)\n",
            " |-- destLNK: double (nullable = true)\n",
            " |-- destGRK: double (nullable = true)\n",
            " |-- destAZO: double (nullable = true)\n",
            " |-- destCWA: double (nullable = true)\n",
            " |-- destDLH: double (nullable = true)\n",
            " |-- destMOT: double (nullable = true)\n",
            " |-- destPHF: double (nullable = true)\n",
            " |-- destBMI: double (nullable = true)\n",
            " |-- destMLU: double (nullable = true)\n",
            " |-- destEGE: double (nullable = true)\n",
            " |-- destBFL: double (nullable = true)\n",
            " |-- destBRO: double (nullable = true)\n",
            " |-- destTTN: double (nullable = true)\n",
            " |-- destHHH: double (nullable = true)\n",
            " |-- destMLB: double (nullable = true)\n",
            " |-- destMBS: double (nullable = true)\n",
            " |-- destSAF: double (nullable = true)\n",
            " |-- destLRD: double (nullable = true)\n",
            " |-- destCOU: double (nullable = true)\n",
            " |-- destKTN: double (nullable = true)\n",
            " |-- destHDN: double (nullable = true)\n",
            " |-- destFLG: double (nullable = true)\n",
            " |-- destCPR: double (nullable = true)\n",
            " |-- destCMI: double (nullable = true)\n",
            " |-- destITH: double (nullable = true)\n",
            " |-- destABI: double (nullable = true)\n",
            " |-- destHLN: double (nullable = true)\n",
            " |-- destCLL: double (nullable = true)\n",
            " |-- destERI: double (nullable = true)\n",
            " |-- destBQN: double (nullable = true)\n",
            " |-- destLSE: double (nullable = true)\n",
            " |-- destACV: double (nullable = true)\n",
            " |-- destLCH: double (nullable = true)\n",
            " |-- destEWN: double (nullable = true)\n",
            " |-- destELM: double (nullable = true)\n",
            " |-- destSUN: double (nullable = true)\n",
            " |-- destLYH: double (nullable = true)\n",
            " |-- destSWF: double (nullable = true)\n",
            " |-- destYUM: double (nullable = true)\n",
            " |-- destGFK: double (nullable = true)\n",
            " |-- destSJT: double (nullable = true)\n",
            " |-- destSPI: double (nullable = true)\n",
            " |-- destTOL: double (nullable = true)\n",
            " |-- destSBY: double (nullable = true)\n",
            " |-- destFSM: double (nullable = true)\n",
            " |-- destACT: double (nullable = true)\n",
            " |-- destMHK: double (nullable = true)\n",
            " |-- destACK: double (nullable = true)\n",
            " |-- destHTS: double (nullable = true)\n",
            " |-- destRDD: double (nullable = true)\n",
            " |-- destCSG: double (nullable = true)\n",
            " |-- destTYR: double (nullable = true)\n",
            " |-- destMQT: double (nullable = true)\n",
            " |-- destBLV: double (nullable = true)\n",
            " |-- destUSA: double (nullable = true)\n",
            " |-- destSIT: double (nullable = true)\n",
            " |-- destLCK: double (nullable = true)\n",
            " |-- destPUW: double (nullable = true)\n",
            " |-- destORH: double (nullable = true)\n",
            " |-- destDHN: double (nullable = true)\n",
            " |-- destPBG: double (nullable = true)\n",
            " |-- destROW: double (nullable = true)\n",
            " |-- destSTX: double (nullable = true)\n",
            " |-- destLBE: double (nullable = true)\n",
            " |-- destLAW: double (nullable = true)\n",
            " |-- destTXK: double (nullable = true)\n",
            " |-- destSPS: double (nullable = true)\n",
            " |-- destCOD: double (nullable = true)\n",
            " |-- destJMS: double (nullable = true)\n",
            " |-- destGTR: double (nullable = true)\n",
            " |-- destPGV: double (nullable = true)\n",
            " |-- destLWS: double (nullable = true)\n",
            " |-- destVLD: double (nullable = true)\n",
            " |-- destHYS: double (nullable = true)\n",
            " |-- destYKM: double (nullable = true)\n",
            " |-- destGRI: double (nullable = true)\n",
            " |-- destEAT: double (nullable = true)\n",
            " |-- destGUM: double (nullable = true)\n",
            " |-- destBQK: double (nullable = true)\n",
            " |-- destCKB: double (nullable = true)\n",
            " |-- destABY: double (nullable = true)\n",
            " |-- destSUX: double (nullable = true)\n",
            " |-- destTWF: double (nullable = true)\n",
            " |-- destPAH: double (nullable = true)\n",
            " |-- destPIH: double (nullable = true)\n",
            " |-- destGUC: double (nullable = true)\n",
            " |-- destJLN: double (nullable = true)\n",
            " |-- destPLN: double (nullable = true)\n",
            " |-- destFLO: double (nullable = true)\n",
            " |-- destPUB: double (nullable = true)\n",
            " |-- destBPT: double (nullable = true)\n",
            " |-- destPVU: double (nullable = true)\n",
            " |-- destSLN: double (nullable = true)\n",
            " |-- destSCK: double (nullable = true)\n",
            " |-- destLNY: double (nullable = true)\n",
            " |-- destRFD: double (nullable = true)\n",
            " |-- destALW: double (nullable = true)\n",
            " |-- destGGG: double (nullable = true)\n",
            " |-- destGCC: double (nullable = true)\n",
            " |-- destRHI: double (nullable = true)\n",
            " |-- destXWA: double (nullable = true)\n",
            " |-- destSHD: double (nullable = true)\n",
            " |-- destEAU: double (nullable = true)\n",
            " |-- destPSG: double (nullable = true)\n",
            " |-- destWRG: double (nullable = true)\n",
            " |-- destMEI: double (nullable = true)\n",
            " |-- destCMX: double (nullable = true)\n",
            " |-- destCDV: double (nullable = true)\n",
            " |-- destISN: double (nullable = true)\n",
            " |-- destCGI: double (nullable = true)\n",
            " |-- destBET: double (nullable = true)\n",
            " |-- destMKG: double (nullable = true)\n",
            " |-- destYAK: double (nullable = true)\n",
            " |-- destSCC: double (nullable = true)\n",
            " |-- destABR: double (nullable = true)\n",
            " |-- destADQ: double (nullable = true)\n",
            " |-- destBJI: double (nullable = true)\n",
            " |-- destPRC: double (nullable = true)\n",
            " |-- destBFF: double (nullable = true)\n",
            " |-- destEAR: double (nullable = true)\n",
            " |-- destLBF: double (nullable = true)\n",
            " |-- destIMT: double (nullable = true)\n",
            " |-- destCIU: double (nullable = true)\n",
            " |-- destDBQ: double (nullable = true)\n",
            " |-- destLWB: double (nullable = true)\n",
            " |-- destGCK: double (nullable = true)\n",
            " |-- destIAG: double (nullable = true)\n",
            " |-- destDVL: double (nullable = true)\n",
            " |-- destRKS: double (nullable = true)\n",
            " |-- destLAR: double (nullable = true)\n",
            " |-- destSWO: double (nullable = true)\n",
            " |-- destMVY: double (nullable = true)\n",
            " |-- destBTM: double (nullable = true)\n",
            " |-- destLBL: double (nullable = true)\n",
            " |-- destCNY: double (nullable = true)\n",
            " |-- destOTZ: double (nullable = true)\n",
            " |-- destOME: double (nullable = true)\n",
            " |-- destESC: double (nullable = true)\n",
            " |-- destHOB: double (nullable = true)\n",
            " |-- destPIB: double (nullable = true)\n",
            " |-- destBRD: double (nullable = true)\n",
            " |-- destDIK: double (nullable = true)\n",
            " |-- destART: double (nullable = true)\n",
            " |-- destHIB: double (nullable = true)\n",
            " |-- destINL: double (nullable = true)\n",
            " |-- destCDC: double (nullable = true)\n",
            " |-- destAPN: double (nullable = true)\n",
            " |-- destPSE: double (nullable = true)\n",
            " |-- destEKO: double (nullable = true)\n",
            " |-- destVEL: double (nullable = true)\n",
            " |-- destBGM: double (nullable = true)\n",
            " |-- destMKK: double (nullable = true)\n",
            " |-- destALO: double (nullable = true)\n",
            " |-- destDRT: double (nullable = true)\n",
            " |-- destBRW: double (nullable = true)\n",
            " |-- destSPN: double (nullable = true)\n",
            " |-- destPQI: double (nullable = true)\n",
            " |-- destOGS: double (nullable = true)\n",
            " |-- destHVN: double (nullable = true)\n",
            " |-- destPIR: double (nullable = true)\n",
            " |-- destJHM: double (nullable = true)\n",
            " |-- destATY: double (nullable = true)\n",
            " |-- destDEC: double (nullable = true)\n",
            " |-- destPSM: double (nullable = true)\n",
            " |-- destIPT: double (nullable = true)\n",
            " |-- destOTH: double (nullable = true)\n",
            " |-- destSHR: double (nullable = true)\n",
            " |-- destUIN: double (nullable = true)\n",
            " |-- destDDC: double (nullable = true)\n",
            " |-- destRIW: double (nullable = true)\n",
            " |-- destCYS: double (nullable = true)\n",
            " |-- destWYS: double (nullable = true)\n",
            " |-- destDUT: double (nullable = true)\n",
            " |-- destJST: double (nullable = true)\n",
            " |-- destAKN: double (nullable = true)\n",
            " |-- destMMH: double (nullable = true)\n",
            " |-- destVCT: double (nullable = true)\n",
            " |-- destDLG: double (nullable = true)\n",
            " |-- destALS: double (nullable = true)\n",
            " |-- destSMX: double (nullable = true)\n",
            " |-- destFOD: double (nullable = true)\n",
            " |-- destMCW: double (nullable = true)\n",
            " |-- destHGR: double (nullable = true)\n",
            " |-- destSTC: double (nullable = true)\n",
            " |-- destBKG: double (nullable = true)\n",
            " |-- destTBN: double (nullable = true)\n",
            " |-- destOWB: double (nullable = true)\n",
            " |-- destOGD: double (nullable = true)\n",
            " |-- destADK: double (nullable = true)\n",
            " |-- destHYA: double (nullable = true)\n",
            " |-- destGST: double (nullable = true)\n",
            " |-- destPPG: double (nullable = true)\n",
            " |-- destBIH: double (nullable = true)\n",
            " |-- destCDB: double (nullable = true)\n",
            " |-- destBFM: double (nullable = true)\n",
            " |-- destILG: double (nullable = true)\n",
            " |-- destROP: double (nullable = true)\n",
            "\n"
          ]
        }
      ],
      "source": [
        "df_transformed.printSchema()"
      ]
    },
    {
      "cell_type": "code",
      "execution_count": 57,
      "metadata": {
        "colab": {
          "base_uri": "https://localhost:8080/"
        },
        "id": "CNR-5qz92txB",
        "outputId": "ed7c6953-2cd2-4f50-c663-85f0d6f89f55"
      },
      "outputs": [
        {
          "data": {
            "text/plain": [
              "[('double', 811), ('bigint', 20), ('boolean', 2)]"
            ]
          },
          "execution_count": 57,
          "metadata": {},
          "output_type": "execute_result"
        }
      ],
      "source": [
        "count_dtypes(df_transformed)"
      ]
    },
    {
      "cell_type": "markdown",
      "metadata": {
        "id": "GagFFq8m2txB"
      },
      "source": [
        "## Generate feature vector from columns"
      ]
    },
    {
      "cell_type": "code",
      "execution_count": 58,
      "metadata": {},
      "outputs": [
        {
          "data": {
            "text/plain": [
              "['originIMT',\n",
              " 'destISN',\n",
              " 'originOGS',\n",
              " 'destGCC',\n",
              " 'DayOfWeek',\n",
              " 'originLNY',\n",
              " 'originPLN',\n",
              " 'originCIU',\n",
              " 'originGTF',\n",
              " 'destTUS',\n",
              " 'destAZO',\n",
              " 'destPIB',\n",
              " 'destBOS',\n",
              " 'destPQI',\n",
              " 'OriginStateFips',\n",
              " 'destMOT',\n",
              " 'destBZN',\n",
              " 'originBHM',\n",
              " 'destFAY',\n",
              " 'AirTime',\n",
              " 'destOAK',\n",
              " 'DestStateFips',\n",
              " 'originGSO',\n",
              " 'destLGB',\n",
              " 'destSTC',\n",
              " 'originBJI',\n",
              " 'originPHL',\n",
              " 'destLCH',\n",
              " 'destILG',\n",
              " 'originDTW',\n",
              " 'destPNS',\n",
              " 'originFSM',\n",
              " 'destACY',\n",
              " 'originSGF',\n",
              " 'destPUB',\n",
              " 'originIND',\n",
              " 'originBIL',\n",
              " 'originART',\n",
              " 'destSBA',\n",
              " 'destGRB',\n",
              " 'originJFK',\n",
              " 'OriginAirportSeqID',\n",
              " 'destORF',\n",
              " 'originPBI',\n",
              " 'destCDB',\n",
              " 'originRIC',\n",
              " 'originGNV',\n",
              " 'destKTN',\n",
              " 'originMSY',\n",
              " 'originGEG',\n",
              " 'originBMI',\n",
              " 'destGFK',\n",
              " 'originSUX',\n",
              " 'originOAJ',\n",
              " 'destJAC',\n",
              " 'airlineEnvoyAir',\n",
              " 'originCOS',\n",
              " 'destYKM',\n",
              " 'destLRD',\n",
              " 'destIND',\n",
              " 'originPSE',\n",
              " 'originAMA',\n",
              " 'originSCE',\n",
              " 'destART',\n",
              " 'originGRB',\n",
              " 'originEWR',\n",
              " 'originIAD',\n",
              " 'destBJI',\n",
              " 'originJST',\n",
              " 'originALW',\n",
              " 'destGRI',\n",
              " 'destGJT',\n",
              " 'originFLL',\n",
              " 'originANC',\n",
              " 'originDSM',\n",
              " 'destCRW',\n",
              " 'destFAR',\n",
              " 'originABQ',\n",
              " 'originACY',\n",
              " 'originOTH',\n",
              " 'destIAD',\n",
              " 'originSAV',\n",
              " 'airlineUnitedAirLinesInc',\n",
              " 'destHIB',\n",
              " 'originLIH',\n",
              " 'originUSA',\n",
              " 'destTUL',\n",
              " 'destPVD',\n",
              " 'destHRL',\n",
              " 'originPDX',\n",
              " 'originMSO',\n",
              " 'originCGI',\n",
              " 'originHYA',\n",
              " 'destSGF',\n",
              " 'destBTM',\n",
              " 'destSMF',\n",
              " 'destTVC',\n",
              " 'destTLH',\n",
              " 'originGRR',\n",
              " 'originHGR',\n",
              " 'destORH',\n",
              " 'destDUT',\n",
              " 'destFAT',\n",
              " 'destSTT',\n",
              " 'originSPI',\n",
              " 'originBLV',\n",
              " 'destDTW',\n",
              " 'originLBE',\n",
              " 'originCWA',\n",
              " 'originCDB',\n",
              " 'destGRR',\n",
              " 'destABE',\n",
              " 'originPIE',\n",
              " 'WheelsOn',\n",
              " 'DistanceGroup',\n",
              " 'originJHM',\n",
              " 'airlineCapitalCargoInternational',\n",
              " 'originBGM',\n",
              " 'destBRO',\n",
              " 'destDEC',\n",
              " 'originCLL',\n",
              " 'destCAK',\n",
              " 'destOWB',\n",
              " 'destIAH',\n",
              " 'originTVC',\n",
              " 'destIPT',\n",
              " 'originBQN',\n",
              " 'TaxiIn',\n",
              " 'originAUS',\n",
              " 'destHNL',\n",
              " 'destMHK',\n",
              " 'airlineJetBlueAirways',\n",
              " 'destPLN',\n",
              " 'originONT',\n",
              " 'originFLO',\n",
              " 'originALB',\n",
              " 'originSAF',\n",
              " 'originBQK',\n",
              " 'destGEG',\n",
              " 'originDCA',\n",
              " 'destASE',\n",
              " 'airlineGoJetAirlines,LLCd/b/aUnitedExpress',\n",
              " 'originGPT',\n",
              " 'destRST',\n",
              " 'airlineSouthwestAirlinesCo',\n",
              " 'destICT',\n",
              " 'originDRT',\n",
              " 'originBIH',\n",
              " 'destSAF',\n",
              " 'originTXK',\n",
              " 'destGUM',\n",
              " 'originLBB',\n",
              " 'originISP',\n",
              " 'destJST',\n",
              " 'originSBA',\n",
              " 'originLWS',\n",
              " 'destEYW',\n",
              " 'originSUN',\n",
              " 'destMSP',\n",
              " 'originOAK',\n",
              " 'destLAS',\n",
              " 'originRST',\n",
              " 'originHIB',\n",
              " 'destBFM',\n",
              " 'originHNL',\n",
              " 'originFWA',\n",
              " 'destHOU',\n",
              " 'originLSE',\n",
              " 'originBFL',\n",
              " 'originIAH',\n",
              " 'originEAT',\n",
              " 'originMQT',\n",
              " 'destPUW',\n",
              " 'destWRG',\n",
              " 'originJLN',\n",
              " 'originMFE',\n",
              " 'originBPT',\n",
              " 'originCMH',\n",
              " 'airlineFrontierAirlinesInc',\n",
              " 'destDRT',\n",
              " 'originHTS',\n",
              " 'originRIW',\n",
              " 'destCKB',\n",
              " 'destSHV',\n",
              " 'originMBS',\n",
              " 'originTBN',\n",
              " 'originCLT',\n",
              " 'destDDC',\n",
              " 'originPAE',\n",
              " 'originBDL',\n",
              " 'destBNA',\n",
              " 'destCHA',\n",
              " 'originMHT',\n",
              " 'originSHD',\n",
              " 'destBIS',\n",
              " 'originPUB',\n",
              " 'originATY',\n",
              " 'originITO',\n",
              " 'Quarter',\n",
              " 'destELP',\n",
              " 'destSCC',\n",
              " 'originFAT',\n",
              " 'originLCK',\n",
              " 'destSUN',\n",
              " 'originBOI',\n",
              " 'destDSM',\n",
              " 'originDRO',\n",
              " 'destHVN',\n",
              " 'originOKC',\n",
              " 'originRNO',\n",
              " 'destIMT',\n",
              " 'Flight_Number_Operating_Airline',\n",
              " 'destMSY',\n",
              " 'DepDelay',\n",
              " 'originMSP',\n",
              " 'originFSD',\n",
              " 'destGUC',\n",
              " 'destHLN',\n",
              " 'originBRO',\n",
              " 'destMVY',\n",
              " 'originGRK',\n",
              " 'originMTJ',\n",
              " 'originDAL',\n",
              " 'destCOS',\n",
              " 'destMLB',\n",
              " 'originRDM',\n",
              " 'airlineEndeavorAirInc',\n",
              " 'destHYS',\n",
              " 'destADQ',\n",
              " 'originBTR',\n",
              " 'DestAirportID',\n",
              " 'destJHM',\n",
              " 'originGJT',\n",
              " 'OriginCityMarketID',\n",
              " 'originSIT',\n",
              " 'originSPS',\n",
              " 'originSBY',\n",
              " 'originJAC',\n",
              " 'destSLC',\n",
              " 'destAMA',\n",
              " 'originABI',\n",
              " 'originTYS',\n",
              " 'destELM',\n",
              " 'originBTV',\n",
              " 'originSWO',\n",
              " 'destSTX',\n",
              " 'destLEX',\n",
              " 'destBQK',\n",
              " 'originROA',\n",
              " 'destBLV',\n",
              " 'airlineTransStatesAirlines',\n",
              " 'originVEL',\n",
              " 'originHRL',\n",
              " 'originXNA',\n",
              " 'originSTC',\n",
              " 'destEAT',\n",
              " 'destBHM',\n",
              " 'originPIR',\n",
              " 'originILG',\n",
              " 'destCPR',\n",
              " 'destLCK',\n",
              " 'destROA',\n",
              " 'destSBY',\n",
              " 'destGSO',\n",
              " 'destEAU',\n",
              " 'originISN',\n",
              " 'destOMA',\n",
              " 'originVPS',\n",
              " 'originMEM',\n",
              " 'originCMX',\n",
              " 'originLWB',\n",
              " 'destHDN',\n",
              " 'originCDC',\n",
              " 'originRAP',\n",
              " 'originDVL',\n",
              " 'originPSC',\n",
              " 'originTUS',\n",
              " 'originCVG',\n",
              " 'destSEA',\n",
              " 'originGTR',\n",
              " 'originSTX',\n",
              " 'originAVP',\n",
              " 'destLWB',\n",
              " 'destSIT',\n",
              " 'originEAR',\n",
              " 'Cancelled',\n",
              " 'originBFM',\n",
              " 'destTTN',\n",
              " 'destMGM',\n",
              " 'originORF',\n",
              " 'originDFW',\n",
              " 'destISP',\n",
              " 'destPGV',\n",
              " 'originIDA',\n",
              " 'destSNA',\n",
              " 'destROW',\n",
              " 'originGRI',\n",
              " 'originLAR',\n",
              " 'destBDL',\n",
              " 'originMOT',\n",
              " 'destAKN',\n",
              " 'originTRI',\n",
              " 'destROC',\n",
              " 'destMSO',\n",
              " 'destDAL',\n",
              " 'originFNT',\n",
              " 'destBTR',\n",
              " 'originHLN',\n",
              " 'ActualElapsedTime',\n",
              " 'originPIB',\n",
              " 'Diverted',\n",
              " 'originSFO',\n",
              " 'destSTS',\n",
              " 'originAZA',\n",
              " 'originLAN',\n",
              " 'originALO',\n",
              " 'originLFT',\n",
              " 'originBRW',\n",
              " 'destFCA',\n",
              " 'destEGE',\n",
              " 'CRSElapsedTime',\n",
              " 'originADK',\n",
              " 'destACT',\n",
              " 'destTYR',\n",
              " 'destBIL',\n",
              " 'destALW',\n",
              " 'destLAR',\n",
              " 'destRHI',\n",
              " 'originEVV',\n",
              " 'originEWN',\n",
              " 'originYUM',\n",
              " 'destCRP',\n",
              " 'originKOA',\n",
              " 'destMTJ',\n",
              " 'originHOU',\n",
              " 'originYAK',\n",
              " 'airlineHorizonAir',\n",
              " 'originACK',\n",
              " 'originMLB',\n",
              " 'originMAF',\n",
              " 'destXNA',\n",
              " 'destTBN',\n",
              " 'originPPG',\n",
              " 'originMCW',\n",
              " 'destPBG',\n",
              " 'originSWF',\n",
              " 'originBZN',\n",
              " 'originRHI',\n",
              " 'airlineCompassAirlines',\n",
              " 'originLGB',\n",
              " 'destPHL',\n",
              " 'destBRD',\n",
              " 'originEYW',\n",
              " 'originBLI',\n",
              " 'destHTS',\n",
              " 'originPUW',\n",
              " 'originABR',\n",
              " 'originLRD',\n",
              " 'destBUF',\n",
              " 'destOKC',\n",
              " 'destRIW',\n",
              " 'destALS',\n",
              " 'originCID',\n",
              " 'destDLH',\n",
              " 'destPVU',\n",
              " 'destBET',\n",
              " 'destSHR',\n",
              " 'originEAU',\n",
              " 'originSFB',\n",
              " 'originWRG',\n",
              " 'destRSW',\n",
              " 'destSYR',\n",
              " 'airlineEmpireAirlinesInc',\n",
              " 'originVLD',\n",
              " 'destSFB',\n",
              " 'destFNT',\n",
              " 'destCDC',\n",
              " 'destLNY',\n",
              " 'destPSG',\n",
              " 'originCMI',\n",
              " 'originAPN',\n",
              " 'destCSG',\n",
              " 'originTOL',\n",
              " 'originOGD',\n",
              " 'destSAN',\n",
              " 'originLAS',\n",
              " 'originCOU',\n",
              " 'originROC',\n",
              " 'originERI',\n",
              " 'destORD',\n",
              " 'originHHH',\n",
              " 'destPIE',\n",
              " 'originSNA',\n",
              " 'originBUR',\n",
              " 'destLFT',\n",
              " 'destCOU',\n",
              " 'destOTH',\n",
              " 'destDLG',\n",
              " 'destABI',\n",
              " 'destDAY',\n",
              " 'destOAJ',\n",
              " 'destMHT',\n",
              " 'destSRQ',\n",
              " 'originBIS',\n",
              " 'destROP',\n",
              " 'destPAH',\n",
              " 'originDLH',\n",
              " 'airlineVirginAmerica',\n",
              " 'originCDV',\n",
              " 'destDEN',\n",
              " 'OriginWac',\n",
              " 'destKOA',\n",
              " 'destAEX',\n",
              " 'originLEX',\n",
              " 'destMFR',\n",
              " 'originBFF',\n",
              " 'destBRW',\n",
              " 'destMKG',\n",
              " 'destATL',\n",
              " 'destSAT',\n",
              " 'originPGV',\n",
              " 'originPIT',\n",
              " 'destTXK',\n",
              " 'originEUG',\n",
              " 'originITH',\n",
              " 'destTOL',\n",
              " 'destJAN',\n",
              " 'destANC',\n",
              " 'destCWA',\n",
              " 'originEKO',\n",
              " 'destLWS',\n",
              " 'destCGI',\n",
              " 'destSWO',\n",
              " 'originRDU',\n",
              " 'originSTL',\n",
              " 'destILM',\n",
              " 'originRSW',\n",
              " 'destOTZ',\n",
              " 'destBGR',\n",
              " 'originPVD',\n",
              " 'destIDA',\n",
              " 'originYKM',\n",
              " 'originSJC',\n",
              " 'destMIA',\n",
              " 'destOGG',\n",
              " 'originSCK',\n",
              " 'destMDT',\n",
              " 'originLGA',\n",
              " 'originILM',\n",
              " 'destSJT',\n",
              " 'destEWN',\n",
              " 'destGNV',\n",
              " 'originBOS',\n",
              " 'originRFD',\n",
              " 'airlineAirWisconsinAirlinesCorp',\n",
              " 'destONT',\n",
              " 'originGUC',\n",
              " 'originLAX',\n",
              " 'originCHO',\n",
              " 'destCNY',\n",
              " 'originDHN',\n",
              " 'destPIR',\n",
              " 'destLIT',\n",
              " 'originPNS',\n",
              " 'destCDV',\n",
              " 'originORD',\n",
              " 'originOGG',\n",
              " 'originICT',\n",
              " 'destCLT',\n",
              " 'destLAN',\n",
              " 'destCOD',\n",
              " 'originSHV',\n",
              " 'destVCT',\n",
              " 'originPRC',\n",
              " 'destHHH',\n",
              " 'destMOB',\n",
              " 'originJAX',\n",
              " 'destPPG',\n",
              " 'originLYH',\n",
              " 'originSGU',\n",
              " 'originHOB',\n",
              " 'Year',\n",
              " 'destDAB',\n",
              " 'destPIA',\n",
              " 'destRAP',\n",
              " 'originADQ',\n",
              " 'originOTZ',\n",
              " 'destABR',\n",
              " 'destSCE',\n",
              " 'destRDM',\n",
              " 'destCHS',\n",
              " 'destGPT',\n",
              " 'originBET',\n",
              " 'destCLL',\n",
              " 'originCSG',\n",
              " 'destMMH',\n",
              " 'destBFL',\n",
              " 'destBTV',\n",
              " 'originALS',\n",
              " 'destMKK',\n",
              " 'destSPI',\n",
              " 'originIAG',\n",
              " 'originCRW',\n",
              " 'destLAW',\n",
              " 'destGGG',\n",
              " 'originBGR',\n",
              " 'originFAY',\n",
              " 'destSWF',\n",
              " 'destINL',\n",
              " 'destAUS',\n",
              " 'destSMX',\n",
              " 'originDAY',\n",
              " 'originSTS',\n",
              " 'destACV',\n",
              " 'originINL',\n",
              " 'originSMX',\n",
              " 'destOGD',\n",
              " 'destBIH',\n",
              " 'airlineAllegiantAir',\n",
              " 'originMFR',\n",
              " 'destYAK',\n",
              " 'originCLE',\n",
              " 'destJLN',\n",
              " 'originMCO',\n",
              " 'airlineHawaiianAirlinesInc',\n",
              " 'destTPA',\n",
              " 'destCAE',\n",
              " 'originHVN',\n",
              " 'originOWB',\n",
              " 'destBFF',\n",
              " 'originDLG',\n",
              " 'originPVU',\n",
              " 'destDCA',\n",
              " 'destPIT',\n",
              " 'originCAE',\n",
              " 'destABQ',\n",
              " 'originAZO',\n",
              " 'destMFE',\n",
              " 'originTPA',\n",
              " 'DOT_ID_Operating_Airline',\n",
              " 'originPHF',\n",
              " 'DestAirportSeqID',\n",
              " 'destMBS',\n",
              " 'destGST',\n",
              " 'DestCityMarketID',\n",
              " 'destBQN',\n",
              " 'originCPR',\n",
              " 'originDUT',\n",
              " 'destMQT',\n",
              " 'DivAirportLandings',\n",
              " 'originSLC',\n",
              " 'originLNK',\n",
              " 'destLIH',\n",
              " 'originKTN',\n",
              " 'destJMS',\n",
              " 'originMOB',\n",
              " 'destGRK',\n",
              " 'destRDU',\n",
              " 'originSEA',\n",
              " 'originSBN',\n",
              " 'originSAN',\n",
              " 'destAGS',\n",
              " 'destMLU',\n",
              " 'originSDF',\n",
              " 'originMKE',\n",
              " 'destAVP',\n",
              " 'destPAE',\n",
              " 'destUIN',\n",
              " 'destCLE',\n",
              " 'destLGA',\n",
              " 'originSJT',\n",
              " 'destAVL',\n",
              " 'destCVG',\n",
              " 'originDEC',\n",
              " 'originASE',\n",
              " 'destJFK',\n",
              " 'destMCO',\n",
              " 'destSGU',\n",
              " 'destLYH',\n",
              " 'destDVL',\n",
              " 'originHSV',\n",
              " 'Distance',\n",
              " 'destCHO',\n",
              " 'destIAG',\n",
              " 'originSYR',\n",
              " 'destWYS',\n",
              " 'originELM',\n",
              " 'destATY',\n",
              " 'destCID',\n",
              " 'originSLN',\n",
              " 'originABY',\n",
              " 'originGCK',\n",
              " 'originDDC',\n",
              " 'destMEM',\n",
              " 'originPBG',\n",
              " 'destHPN',\n",
              " 'destSPS',\n",
              " 'destPIH',\n",
              " 'destEKO',\n",
              " 'destSBP',\n",
              " 'airlineSkyWestAirlinesInc',\n",
              " 'originGGG',\n",
              " 'destPWM',\n",
              " 'originMLI',\n",
              " 'originROP',\n",
              " 'originMKG',\n",
              " 'originSHR',\n",
              " 'originBUF',\n",
              " 'originRKS',\n",
              " 'destUSA',\n",
              " 'airlineRepublicAirlines',\n",
              " 'destAPN',\n",
              " 'destITO',\n",
              " 'destHYA',\n",
              " 'originSCC',\n",
              " 'destMKE',\n",
              " 'destECP',\n",
              " 'originSAT',\n",
              " 'OriginAirportID',\n",
              " 'originFAR',\n",
              " 'destPRC',\n",
              " 'destVLD',\n",
              " 'originCNY',\n",
              " 'originMSN',\n",
              " 'airlineSpiritAirLines',\n",
              " 'originJAN',\n",
              " 'originJMS',\n",
              " 'destFWA',\n",
              " 'originIPT',\n",
              " 'destABY',\n",
              " 'originTUL',\n",
              " 'destHGR',\n",
              " 'destFAI',\n",
              " 'destCMI',\n",
              " 'originCKB',\n",
              " 'destBMI',\n",
              " 'destSJC',\n",
              " 'destOME',\n",
              " 'originPGD',\n",
              " 'originPQI',\n",
              " 'destFLG',\n",
              " 'originUIN',\n",
              " 'originGSP',\n",
              " 'destLBL',\n",
              " 'destACK',\n",
              " 'destMSN',\n",
              " 'destPSP',\n",
              " 'destMEI',\n",
              " 'airlineExpressJetAirlinesInc',\n",
              " 'originSJU',\n",
              " 'destRIC',\n",
              " 'airlineAlaskaAirlinesInc',\n",
              " 'destSBN',\n",
              " 'destDHN',\n",
              " 'originSRQ',\n",
              " 'originMGM',\n",
              " 'destTYS',\n",
              " 'destSPN',\n",
              " 'airlineComairInc',\n",
              " 'originROW',\n",
              " 'destBUR',\n",
              " 'destVPS',\n",
              " 'destADK',\n",
              " 'destBWI',\n",
              " 'originECP',\n",
              " 'originPWM',\n",
              " 'originAVL',\n",
              " 'destDFW',\n",
              " 'originOME',\n",
              " 'originMDT',\n",
              " 'destJNU',\n",
              " 'airlineCommutairAkaChamplainEnterprises,Inc',\n",
              " 'airlineMesaAirlinesInc',\n",
              " 'originCRP',\n",
              " 'destEAR',\n",
              " 'originABE',\n",
              " 'originBRD',\n",
              " 'originCHA',\n",
              " 'originGFK',\n",
              " 'destSDF',\n",
              " 'destPSC',\n",
              " 'originMCI',\n",
              " 'destFSM',\n",
              " 'originMVY',\n",
              " 'destMCI',\n",
              " 'destFSD',\n",
              " 'originSTT',\n",
              " 'destOGS',\n",
              " 'originFOD',\n",
              " 'destRKS',\n",
              " 'originOMA',\n",
              " 'originTWF',\n",
              " 'destPHX',\n",
              " 'destCIU',\n",
              " 'destRFD',\n",
              " 'originLAW',\n",
              " 'destCMX',\n",
              " 'originMYR',\n",
              " 'originDIK',\n",
              " 'destMYR',\n",
              " 'destMAF',\n",
              " 'originSBP',\n",
              " 'originEGE',\n",
              " 'originGCC',\n",
              " 'originFCA',\n",
              " 'originBKG',\n",
              " 'originTLH',\n",
              " 'DayofMonth',\n",
              " 'destERI',\n",
              " 'originBWI',\n",
              " 'destCYS',\n",
              " 'originHPN',\n",
              " 'originMKK',\n",
              " 'destSCK',\n",
              " 'destRDD',\n",
              " 'originBTM',\n",
              " 'originHYS',\n",
              " 'destAZA',\n",
              " 'destEWR',\n",
              " 'airlineDeltaAirLinesInc',\n",
              " 'destESC',\n",
              " 'destPSE',\n",
              " 'destALB',\n",
              " 'destBPT',\n",
              " 'originLIT',\n",
              " 'destSJU',\n",
              " 'originGST',\n",
              " 'originDAB',\n",
              " 'originRDD',\n",
              " 'Month',\n",
              " 'originORH',\n",
              " 'originPIH',\n",
              " 'destHSV',\n",
              " 'originPSM',\n",
              " 'destEUG',\n",
              " 'destBLI',\n",
              " 'originJNU',\n",
              " 'destTRI',\n",
              " 'originLCH',\n",
              " 'originTYR',\n",
              " 'originCOD',\n",
              " 'destSLN',\n",
              " 'originXWA',\n",
              " 'destGSP',\n",
              " 'destMLI',\n",
              " 'originACT',\n",
              " 'destSAV',\n",
              " 'destPSM',\n",
              " 'destBKG',\n",
              " 'TaxiOut',\n",
              " 'destLBE',\n",
              " 'destBOI',\n",
              " 'originAKN',\n",
              " 'originAGS',\n",
              " 'destLAX',\n",
              " 'originHDN',\n",
              " 'destSUX',\n",
              " 'originBNA',\n",
              " 'destFLO',\n",
              " 'originPHX',\n",
              " 'destLBF',\n",
              " 'destDBQ',\n",
              " 'originDBQ',\n",
              " 'destHOB',\n",
              " 'originACV',\n",
              " 'destPBI',\n",
              " 'destGTR',\n",
              " 'destSHD',\n",
              " 'originCYS',\n",
              " 'originPSP',\n",
              " 'destFLL',\n",
              " 'originMHK',\n",
              " 'destJAX',\n",
              " 'destITH',\n",
              " 'destDIK',\n",
              " 'destGTF',\n",
              " 'destSTL',\n",
              " 'destMDW',\n",
              " 'originFLG',\n",
              " 'destFOD',\n",
              " 'DOT_ID_Marketing_Airline',\n",
              " 'destEVV',\n",
              " 'originSMF',\n",
              " 'originCHS',\n",
              " 'destMRY',\n",
              " 'originMMH',\n",
              " 'destSFO',\n",
              " 'destPGD',\n",
              " 'airlineAmericanAirlinesInc',\n",
              " 'originTTN',\n",
              " 'originLBF',\n",
              " 'originMDW',\n",
              " 'destALO',\n",
              " 'destPHF',\n",
              " 'destPDX',\n",
              " 'destBGM',\n",
              " 'originLBL',\n",
              " 'originGUM',\n",
              " 'airlinePeninsulaAirwaysInc',\n",
              " 'originFAI',\n",
              " 'originMRY',\n",
              " 'originATW',\n",
              " 'originCAK',\n",
              " 'destLNK',\n",
              " 'destLSE',\n",
              " 'destATW',\n",
              " 'originATL',\n",
              " 'destGCK',\n",
              " 'originMEI',\n",
              " 'DestWac',\n",
              " 'destYUM',\n",
              " 'destCMH',\n",
              " 'originPAH',\n",
              " 'originDEN',\n",
              " 'destXWA',\n",
              " 'destMCW',\n",
              " 'originVCT',\n",
              " 'originPIA',\n",
              " 'destTWF',\n",
              " 'originESC',\n",
              " 'originMLU',\n",
              " 'destLBB',\n",
              " 'originAEX',\n",
              " 'originPSG',\n",
              " 'originWYS',\n",
              " 'destVEL',\n",
              " 'originMIA',\n",
              " 'destRNO',\n",
              " 'originELP',\n",
              " 'destDRO',\n",
              " 'originSPN',\n",
              " 'Flight_Number_Marketing_Airline',\n",
              " 'WheelsOff']"
            ]
          },
          "execution_count": 58,
          "metadata": {},
          "output_type": "execute_result"
        }
      ],
      "source": [
        "all_columns = list(set(df_transformed.columns).difference(idxer.getOutputCols()))\n",
        "all_columns"
      ]
    },
    {
      "cell_type": "code",
      "execution_count": 59,
      "metadata": {
        "colab": {
          "base_uri": "https://localhost:8080/"
        },
        "id": "QpgL92rc2txB",
        "outputId": "8d1b1605-66bd-4f48-b44c-a083c041f4ae"
      },
      "outputs": [
        {
          "name": "stdout",
          "output_type": "stream",
          "text": [
            "root\n",
            " |-- Cancelled: boolean (nullable = true)\n",
            " |-- Diverted: boolean (nullable = true)\n",
            " |-- DepDelay: double (nullable = true)\n",
            " |-- AirTime: double (nullable = true)\n",
            " |-- CRSElapsedTime: double (nullable = true)\n",
            " |-- ActualElapsedTime: double (nullable = true)\n",
            " |-- Distance: double (nullable = true)\n",
            " |-- Year: long (nullable = true)\n",
            " |-- Quarter: long (nullable = true)\n",
            " |-- Month: long (nullable = true)\n",
            " |-- DayofMonth: long (nullable = true)\n",
            " |-- DayOfWeek: long (nullable = true)\n",
            " |-- DOT_ID_Marketing_Airline: long (nullable = true)\n",
            " |-- Flight_Number_Marketing_Airline: long (nullable = true)\n",
            " |-- DOT_ID_Operating_Airline: long (nullable = true)\n",
            " |-- Flight_Number_Operating_Airline: long (nullable = true)\n",
            " |-- OriginAirportID: long (nullable = true)\n",
            " |-- OriginAirportSeqID: long (nullable = true)\n",
            " |-- OriginCityMarketID: long (nullable = true)\n",
            " |-- OriginStateFips: long (nullable = true)\n",
            " |-- OriginWac: long (nullable = true)\n",
            " |-- DestAirportID: long (nullable = true)\n",
            " |-- DestAirportSeqID: long (nullable = true)\n",
            " |-- DestCityMarketID: long (nullable = true)\n",
            " |-- DestStateFips: long (nullable = true)\n",
            " |-- DestWac: long (nullable = true)\n",
            " |-- TaxiOut: double (nullable = true)\n",
            " |-- WheelsOff: double (nullable = true)\n",
            " |-- WheelsOn: double (nullable = true)\n",
            " |-- TaxiIn: double (nullable = true)\n",
            " |-- DistanceGroup: long (nullable = true)\n",
            " |-- DivAirportLandings: double (nullable = true)\n",
            " |-- airlineSouthwestAirlinesCo: double (nullable = true)\n",
            " |-- airlineDeltaAirLinesInc: double (nullable = true)\n",
            " |-- airlineSkyWestAirlinesInc: double (nullable = true)\n",
            " |-- airlineAmericanAirlinesInc: double (nullable = true)\n",
            " |-- airlineUnitedAirLinesInc: double (nullable = true)\n",
            " |-- airlineRepublicAirlines: double (nullable = true)\n",
            " |-- airlineJetBlueAirways: double (nullable = true)\n",
            " |-- airlineEnvoyAir: double (nullable = true)\n",
            " |-- airlineEndeavorAirInc: double (nullable = true)\n",
            " |-- airlineComairInc: double (nullable = true)\n",
            " |-- airlineAlaskaAirlinesInc: double (nullable = true)\n",
            " |-- airlineSpiritAirLines: double (nullable = true)\n",
            " |-- airlineMesaAirlinesInc: double (nullable = true)\n",
            " |-- airlineFrontierAirlinesInc: double (nullable = true)\n",
            " |-- airlineAllegiantAir: double (nullable = true)\n",
            " |-- airlineHorizonAir: double (nullable = true)\n",
            " |-- airlineCapitalCargoInternational: double (nullable = true)\n",
            " |-- airlineAirWisconsinAirlinesCorp: double (nullable = true)\n",
            " |-- airlineExpressJetAirlinesInc: double (nullable = true)\n",
            " |-- airlineHawaiianAirlinesInc: double (nullable = true)\n",
            " |-- airlineGoJetAirlines,LLCd/b/aUnitedExpress: double (nullable = true)\n",
            " |-- airlineCommutairAkaChamplainEnterprises,Inc: double (nullable = true)\n",
            " |-- airlineTransStatesAirlines: double (nullable = true)\n",
            " |-- airlineCompassAirlines: double (nullable = true)\n",
            " |-- airlineVirginAmerica: double (nullable = true)\n",
            " |-- airlineEmpireAirlinesInc: double (nullable = true)\n",
            " |-- airlinePeninsulaAirwaysInc: double (nullable = true)\n",
            " |-- originATL: double (nullable = true)\n",
            " |-- originORD: double (nullable = true)\n",
            " |-- originDEN: double (nullable = true)\n",
            " |-- originDFW: double (nullable = true)\n",
            " |-- originCLT: double (nullable = true)\n",
            " |-- originLAX: double (nullable = true)\n",
            " |-- originSEA: double (nullable = true)\n",
            " |-- originIAH: double (nullable = true)\n",
            " |-- originPHX: double (nullable = true)\n",
            " |-- originLAS: double (nullable = true)\n",
            " |-- originSFO: double (nullable = true)\n",
            " |-- originDTW: double (nullable = true)\n",
            " |-- originMCO: double (nullable = true)\n",
            " |-- originEWR: double (nullable = true)\n",
            " |-- originMSP: double (nullable = true)\n",
            " |-- originLGA: double (nullable = true)\n",
            " |-- originBOS: double (nullable = true)\n",
            " |-- originPHL: double (nullable = true)\n",
            " |-- originSLC: double (nullable = true)\n",
            " |-- originDCA: double (nullable = true)\n",
            " |-- originJFK: double (nullable = true)\n",
            " |-- originBWI: double (nullable = true)\n",
            " |-- originFLL: double (nullable = true)\n",
            " |-- originIAD: double (nullable = true)\n",
            " |-- originSAN: double (nullable = true)\n",
            " |-- originMIA: double (nullable = true)\n",
            " |-- originMDW: double (nullable = true)\n",
            " |-- originBNA: double (nullable = true)\n",
            " |-- originTPA: double (nullable = true)\n",
            " |-- originPDX: double (nullable = true)\n",
            " |-- originDAL: double (nullable = true)\n",
            " |-- originAUS: double (nullable = true)\n",
            " |-- originSTL: double (nullable = true)\n",
            " |-- originHOU: double (nullable = true)\n",
            " |-- originSJC: double (nullable = true)\n",
            " |-- originRDU: double (nullable = true)\n",
            " |-- originHNL: double (nullable = true)\n",
            " |-- originSMF: double (nullable = true)\n",
            " |-- originMSY: double (nullable = true)\n",
            " |-- originOAK: double (nullable = true)\n",
            " |-- originMCI: double (nullable = true)\n",
            " |-- originIND: double (nullable = true)\n",
            " |-- originCLE: double (nullable = true)\n",
            " |-- originPIT: double (nullable = true)\n",
            " |-- originCVG: double (nullable = true)\n",
            " |-- originSNA: double (nullable = true)\n",
            " |-- originCMH: double (nullable = true)\n",
            " |-- originRSW: double (nullable = true)\n",
            " |-- originSAT: double (nullable = true)\n",
            " |-- originMKE: double (nullable = true)\n",
            " |-- originJAX: double (nullable = true)\n",
            " |-- originSJU: double (nullable = true)\n",
            " |-- originBUR: double (nullable = true)\n",
            " |-- originOGG: double (nullable = true)\n",
            " |-- originBOI: double (nullable = true)\n",
            " |-- originBDL: double (nullable = true)\n",
            " |-- originCHS: double (nullable = true)\n",
            " |-- originOMA: double (nullable = true)\n",
            " |-- originPBI: double (nullable = true)\n",
            " |-- originSDF: double (nullable = true)\n",
            " |-- originRIC: double (nullable = true)\n",
            " |-- originABQ: double (nullable = true)\n",
            " |-- originBUF: double (nullable = true)\n",
            " |-- originMEM: double (nullable = true)\n",
            " |-- originOKC: double (nullable = true)\n",
            " |-- originONT: double (nullable = true)\n",
            " |-- originORF: double (nullable = true)\n",
            " |-- originRNO: double (nullable = true)\n",
            " |-- originGEG: double (nullable = true)\n",
            " |-- originANC: double (nullable = true)\n",
            " |-- originGRR: double (nullable = true)\n",
            " |-- originTUS: double (nullable = true)\n",
            " |-- originTYS: double (nullable = true)\n",
            " |-- originSAV: double (nullable = true)\n",
            " |-- originELP: double (nullable = true)\n",
            " |-- originBHM: double (nullable = true)\n",
            " |-- originTUL: double (nullable = true)\n",
            " |-- originPVD: double (nullable = true)\n",
            " |-- originDSM: double (nullable = true)\n",
            " |-- originKOA: double (nullable = true)\n",
            " |-- originLGB: double (nullable = true)\n",
            " |-- originROC: double (nullable = true)\n",
            " |-- originGSP: double (nullable = true)\n",
            " |-- originALB: double (nullable = true)\n",
            " |-- originSYR: double (nullable = true)\n",
            " |-- originGSO: double (nullable = true)\n",
            " |-- originMYR: double (nullable = true)\n",
            " |-- originLIH: double (nullable = true)\n",
            " |-- originLIT: double (nullable = true)\n",
            " |-- originDAY: double (nullable = true)\n",
            " |-- originMSN: double (nullable = true)\n",
            " |-- originPSP: double (nullable = true)\n",
            " |-- originPNS: double (nullable = true)\n",
            " |-- originXNA: double (nullable = true)\n",
            " |-- originPWM: double (nullable = true)\n",
            " |-- originFAT: double (nullable = true)\n",
            " |-- originSRQ: double (nullable = true)\n",
            " |-- originCOS: double (nullable = true)\n",
            " |-- originICT: double (nullable = true)\n",
            " |-- originSFB: double (nullable = true)\n",
            " |-- originLEX: double (nullable = true)\n",
            " |-- originBZN: double (nullable = true)\n",
            " |-- originMDT: double (nullable = true)\n",
            " |-- originAVL: double (nullable = true)\n",
            " |-- originVPS: double (nullable = true)\n",
            " |-- originHPN: double (nullable = true)\n",
            " |-- originSGF: double (nullable = true)\n",
            " |-- originCID: double (nullable = true)\n",
            " |-- originHSV: double (nullable = true)\n",
            " |-- originBTV: double (nullable = true)\n",
            " |-- originCAE: double (nullable = true)\n",
            " |-- originMAF: double (nullable = true)\n",
            " |-- originEUG: double (nullable = true)\n",
            " |-- originMHT: double (nullable = true)\n",
            " |-- originMFR: double (nullable = true)\n",
            " |-- originRDM: double (nullable = true)\n",
            " |-- originPIE: double (nullable = true)\n",
            " |-- originFSD: double (nullable = true)\n",
            " |-- originCHA: double (nullable = true)\n",
            " |-- originECP: double (nullable = true)\n",
            " |-- originJAN: double (nullable = true)\n",
            " |-- originILM: double (nullable = true)\n",
            " |-- originSBA: double (nullable = true)\n",
            " |-- originEYW: double (nullable = true)\n",
            " |-- originFAR: double (nullable = true)\n",
            " |-- originFWA: double (nullable = true)\n",
            " |-- originSBN: double (nullable = true)\n",
            " |-- originLBB: double (nullable = true)\n",
            " |-- originATW: double (nullable = true)\n",
            " |-- originCHO: double (nullable = true)\n",
            " |-- originPGD: double (nullable = true)\n",
            " |-- originBTR: double (nullable = true)\n",
            " |-- originAZA: double (nullable = true)\n",
            " |-- originPSC: double (nullable = true)\n",
            " |-- originITO: double (nullable = true)\n",
            " |-- originASE: double (nullable = true)\n",
            " |-- originROA: double (nullable = true)\n",
            " |-- originISP: double (nullable = true)\n",
            " |-- originSHV: double (nullable = true)\n",
            " |-- originMSO: double (nullable = true)\n",
            " |-- originMOB: double (nullable = true)\n",
            " |-- originRAP: double (nullable = true)\n",
            " |-- originCAK: double (nullable = true)\n",
            " |-- originABE: double (nullable = true)\n",
            " |-- originGRB: double (nullable = true)\n",
            " |-- originCRP: double (nullable = true)\n",
            " |-- originTLH: double (nullable = true)\n",
            " |-- originMLI: double (nullable = true)\n",
            " |-- originAMA: double (nullable = true)\n",
            " |-- originBIL: double (nullable = true)\n",
            " |-- originJAC: double (nullable = true)\n",
            " |-- originFCA: double (nullable = true)\n",
            " |-- originTVC: double (nullable = true)\n",
            " |-- originSBP: double (nullable = true)\n",
            " |-- originBGR: double (nullable = true)\n",
            " |-- originMFE: double (nullable = true)\n",
            " |-- originLFT: double (nullable = true)\n",
            " |-- originPIA: double (nullable = true)\n",
            " |-- originSTT: double (nullable = true)\n",
            " |-- originAGS: double (nullable = true)\n",
            " |-- originGJT: double (nullable = true)\n",
            " |-- originBIS: double (nullable = true)\n",
            " |-- originFAI: double (nullable = true)\n",
            " |-- originEVV: double (nullable = true)\n",
            " |-- originJNU: double (nullable = true)\n",
            " |-- originHRL: double (nullable = true)\n",
            " |-- originCRW: double (nullable = true)\n",
            " |-- originGPT: double (nullable = true)\n",
            " |-- originMRY: double (nullable = true)\n",
            " |-- originFNT: double (nullable = true)\n",
            " |-- originAVP: double (nullable = true)\n",
            " |-- originGNV: double (nullable = true)\n",
            " |-- originDRO: double (nullable = true)\n",
            " |-- originSTS: double (nullable = true)\n",
            " |-- originSCE: double (nullable = true)\n",
            " |-- originMGM: double (nullable = true)\n",
            " |-- originTRI: double (nullable = true)\n",
            " |-- originFAY: double (nullable = true)\n",
            " |-- originPAE: double (nullable = true)\n",
            " |-- originIDA: double (nullable = true)\n",
            " |-- originACY: double (nullable = true)\n",
            " |-- originSGU: double (nullable = true)\n",
            " |-- originRST: double (nullable = true)\n",
            " |-- originDAB: double (nullable = true)\n",
            " |-- originBLI: double (nullable = true)\n",
            " |-- originLAN: double (nullable = true)\n",
            " |-- originGTF: double (nullable = true)\n",
            " |-- originMTJ: double (nullable = true)\n",
            " |-- originAEX: double (nullable = true)\n",
            " |-- originOAJ: double (nullable = true)\n",
            " |-- originLNK: double (nullable = true)\n",
            " |-- originGRK: double (nullable = true)\n",
            " |-- originAZO: double (nullable = true)\n",
            " |-- originCWA: double (nullable = true)\n",
            " |-- originDLH: double (nullable = true)\n",
            " |-- originMOT: double (nullable = true)\n",
            " |-- originPHF: double (nullable = true)\n",
            " |-- originBMI: double (nullable = true)\n",
            " |-- originMLU: double (nullable = true)\n",
            " |-- originEGE: double (nullable = true)\n",
            " |-- originBFL: double (nullable = true)\n",
            " |-- originBRO: double (nullable = true)\n",
            " |-- originTTN: double (nullable = true)\n",
            " |-- originHHH: double (nullable = true)\n",
            " |-- originMLB: double (nullable = true)\n",
            " |-- originMBS: double (nullable = true)\n",
            " |-- originSAF: double (nullable = true)\n",
            " |-- originLRD: double (nullable = true)\n",
            " |-- originCOU: double (nullable = true)\n",
            " |-- originKTN: double (nullable = true)\n",
            " |-- originHDN: double (nullable = true)\n",
            " |-- originFLG: double (nullable = true)\n",
            " |-- originCPR: double (nullable = true)\n",
            " |-- originCMI: double (nullable = true)\n",
            " |-- originITH: double (nullable = true)\n",
            " |-- originABI: double (nullable = true)\n",
            " |-- originHLN: double (nullable = true)\n",
            " |-- originCLL: double (nullable = true)\n",
            " |-- originERI: double (nullable = true)\n",
            " |-- originBQN: double (nullable = true)\n",
            " |-- originLSE: double (nullable = true)\n",
            " |-- originACV: double (nullable = true)\n",
            " |-- originLCH: double (nullable = true)\n",
            " |-- originEWN: double (nullable = true)\n",
            " |-- originELM: double (nullable = true)\n",
            " |-- originSUN: double (nullable = true)\n",
            " |-- originLYH: double (nullable = true)\n",
            " |-- originSWF: double (nullable = true)\n",
            " |-- originYUM: double (nullable = true)\n",
            " |-- originGFK: double (nullable = true)\n",
            " |-- originSJT: double (nullable = true)\n",
            " |-- originSPI: double (nullable = true)\n",
            " |-- originTOL: double (nullable = true)\n",
            " |-- originSBY: double (nullable = true)\n",
            " |-- originFSM: double (nullable = true)\n",
            " |-- originACT: double (nullable = true)\n",
            " |-- originMHK: double (nullable = true)\n",
            " |-- originACK: double (nullable = true)\n",
            " |-- originCSG: double (nullable = true)\n",
            " |-- originHTS: double (nullable = true)\n",
            " |-- originRDD: double (nullable = true)\n",
            " |-- originTYR: double (nullable = true)\n",
            " |-- originMQT: double (nullable = true)\n",
            " |-- originBLV: double (nullable = true)\n",
            " |-- originUSA: double (nullable = true)\n",
            " |-- originLCK: double (nullable = true)\n",
            " |-- originSIT: double (nullable = true)\n",
            " |-- originPUW: double (nullable = true)\n",
            " |-- originORH: double (nullable = true)\n",
            " |-- originDHN: double (nullable = true)\n",
            " |-- originPBG: double (nullable = true)\n",
            " |-- originROW: double (nullable = true)\n",
            " |-- originSTX: double (nullable = true)\n",
            " |-- originLBE: double (nullable = true)\n",
            " |-- originLAW: double (nullable = true)\n",
            " |-- originTXK: double (nullable = true)\n",
            " |-- originSPS: double (nullable = true)\n",
            " |-- originCOD: double (nullable = true)\n",
            " |-- originGTR: double (nullable = true)\n",
            " |-- originJMS: double (nullable = true)\n",
            " |-- originPGV: double (nullable = true)\n",
            " |-- originTWF: double (nullable = true)\n",
            " |-- originLWS: double (nullable = true)\n",
            " |-- originVLD: double (nullable = true)\n",
            " |-- originHYS: double (nullable = true)\n",
            " |-- originYKM: double (nullable = true)\n",
            " |-- originGRI: double (nullable = true)\n",
            " |-- originEAT: double (nullable = true)\n",
            " |-- originGUM: double (nullable = true)\n",
            " |-- originBQK: double (nullable = true)\n",
            " |-- originCKB: double (nullable = true)\n",
            " |-- originABY: double (nullable = true)\n",
            " |-- originSUX: double (nullable = true)\n",
            " |-- originPAH: double (nullable = true)\n",
            " |-- originPIH: double (nullable = true)\n",
            " |-- originGUC: double (nullable = true)\n",
            " |-- originJLN: double (nullable = true)\n",
            " |-- originPLN: double (nullable = true)\n",
            " |-- originFLO: double (nullable = true)\n",
            " |-- originPUB: double (nullable = true)\n",
            " |-- originBPT: double (nullable = true)\n",
            " |-- originPVU: double (nullable = true)\n",
            " |-- originSLN: double (nullable = true)\n",
            " |-- originSCK: double (nullable = true)\n",
            " |-- originLNY: double (nullable = true)\n",
            " |-- originRFD: double (nullable = true)\n",
            " |-- originALW: double (nullable = true)\n",
            " |-- originGGG: double (nullable = true)\n",
            " |-- originGCC: double (nullable = true)\n",
            " |-- originRHI: double (nullable = true)\n",
            " |-- originXWA: double (nullable = true)\n",
            " |-- originEAU: double (nullable = true)\n",
            " |-- originSHD: double (nullable = true)\n",
            " |-- originCMX: double (nullable = true)\n",
            " |-- originWRG: double (nullable = true)\n",
            " |-- originMEI: double (nullable = true)\n",
            " |-- originPSG: double (nullable = true)\n",
            " |-- originCDV: double (nullable = true)\n",
            " |-- originCGI: double (nullable = true)\n",
            " |-- originBET: double (nullable = true)\n",
            " |-- originISN: double (nullable = true)\n",
            " |-- originMKG: double (nullable = true)\n",
            " |-- originYAK: double (nullable = true)\n",
            " |-- originABR: double (nullable = true)\n",
            " |-- originADQ: double (nullable = true)\n",
            " |-- originSCC: double (nullable = true)\n",
            " |-- originBJI: double (nullable = true)\n",
            " |-- originPRC: double (nullable = true)\n",
            " |-- originEAR: double (nullable = true)\n",
            " |-- originBFF: double (nullable = true)\n",
            " |-- originIMT: double (nullable = true)\n",
            " |-- originCIU: double (nullable = true)\n",
            " |-- originLBF: double (nullable = true)\n",
            " |-- originDBQ: double (nullable = true)\n",
            " |-- originIAG: double (nullable = true)\n",
            " |-- originGCK: double (nullable = true)\n",
            " |-- originLWB: double (nullable = true)\n",
            " |-- originRKS: double (nullable = true)\n",
            " |-- originSWO: double (nullable = true)\n",
            " |-- originDVL: double (nullable = true)\n",
            " |-- originLAR: double (nullable = true)\n",
            " |-- originBTM: double (nullable = true)\n",
            " |-- originMVY: double (nullable = true)\n",
            " |-- originLBL: double (nullable = true)\n",
            " |-- originCNY: double (nullable = true)\n",
            " |-- originOME: double (nullable = true)\n",
            " |-- originESC: double (nullable = true)\n",
            " |-- originOTZ: double (nullable = true)\n",
            " |-- originPIB: double (nullable = true)\n",
            " |-- originDIK: double (nullable = true)\n",
            " |-- originHOB: double (nullable = true)\n",
            " |-- originBRD: double (nullable = true)\n",
            " |-- originART: double (nullable = true)\n",
            " |-- originHIB: double (nullable = true)\n",
            " |-- originINL: double (nullable = true)\n",
            " |-- originCDC: double (nullable = true)\n",
            " |-- originAPN: double (nullable = true)\n",
            " |-- originPSE: double (nullable = true)\n",
            " |-- originEKO: double (nullable = true)\n",
            " |-- originBGM: double (nullable = true)\n",
            " |-- originVEL: double (nullable = true)\n",
            " |-- originMKK: double (nullable = true)\n",
            " |-- originALO: double (nullable = true)\n",
            " |-- originDRT: double (nullable = true)\n",
            " |-- originBRW: double (nullable = true)\n",
            " |-- originSPN: double (nullable = true)\n",
            " |-- originPQI: double (nullable = true)\n",
            " |-- originOGS: double (nullable = true)\n",
            " |-- originHVN: double (nullable = true)\n",
            " |-- originPIR: double (nullable = true)\n",
            " |-- originJHM: double (nullable = true)\n",
            " |-- originATY: double (nullable = true)\n",
            " |-- originDEC: double (nullable = true)\n",
            " |-- originPSM: double (nullable = true)\n",
            " |-- originOTH: double (nullable = true)\n",
            " |-- originIPT: double (nullable = true)\n",
            " |-- originSHR: double (nullable = true)\n",
            " |-- originUIN: double (nullable = true)\n",
            " |-- originDDC: double (nullable = true)\n",
            " |-- originRIW: double (nullable = true)\n",
            " |-- originCYS: double (nullable = true)\n",
            " |-- originWYS: double (nullable = true)\n",
            " |-- originDUT: double (nullable = true)\n",
            " |-- originJST: double (nullable = true)\n",
            " |-- originAKN: double (nullable = true)\n",
            " |-- originMMH: double (nullable = true)\n",
            " |-- originVCT: double (nullable = true)\n",
            " |-- originDLG: double (nullable = true)\n",
            " |-- originALS: double (nullable = true)\n",
            " |-- originSMX: double (nullable = true)\n",
            " |-- originFOD: double (nullable = true)\n",
            " |-- originMCW: double (nullable = true)\n",
            " |-- originHGR: double (nullable = true)\n",
            " |-- originSTC: double (nullable = true)\n",
            " |-- originBKG: double (nullable = true)\n",
            " |-- originTBN: double (nullable = true)\n",
            " |-- originOWB: double (nullable = true)\n",
            " |-- originOGD: double (nullable = true)\n",
            " |-- originADK: double (nullable = true)\n",
            " |-- originHYA: double (nullable = true)\n",
            " |-- originGST: double (nullable = true)\n",
            " |-- originPPG: double (nullable = true)\n",
            " |-- originBIH: double (nullable = true)\n",
            " |-- originCDB: double (nullable = true)\n",
            " |-- originBFM: double (nullable = true)\n",
            " |-- originILG: double (nullable = true)\n",
            " |-- originROP: double (nullable = true)\n",
            " |-- destATL: double (nullable = true)\n",
            " |-- destORD: double (nullable = true)\n",
            " |-- destDEN: double (nullable = true)\n",
            " |-- destDFW: double (nullable = true)\n",
            " |-- destCLT: double (nullable = true)\n",
            " |-- destLAX: double (nullable = true)\n",
            " |-- destSEA: double (nullable = true)\n",
            " |-- destIAH: double (nullable = true)\n",
            " |-- destPHX: double (nullable = true)\n",
            " |-- destLAS: double (nullable = true)\n",
            " |-- destSFO: double (nullable = true)\n",
            " |-- destDTW: double (nullable = true)\n",
            " |-- destMCO: double (nullable = true)\n",
            " |-- destEWR: double (nullable = true)\n",
            " |-- destMSP: double (nullable = true)\n",
            " |-- destLGA: double (nullable = true)\n",
            " |-- destBOS: double (nullable = true)\n",
            " |-- destPHL: double (nullable = true)\n",
            " |-- destSLC: double (nullable = true)\n",
            " |-- destDCA: double (nullable = true)\n",
            " |-- destJFK: double (nullable = true)\n",
            " |-- destBWI: double (nullable = true)\n",
            " |-- destFLL: double (nullable = true)\n",
            " |-- destIAD: double (nullable = true)\n",
            " |-- destSAN: double (nullable = true)\n",
            " |-- destMIA: double (nullable = true)\n",
            " |-- destMDW: double (nullable = true)\n",
            " |-- destBNA: double (nullable = true)\n",
            " |-- destTPA: double (nullable = true)\n",
            " |-- destPDX: double (nullable = true)\n",
            " |-- destDAL: double (nullable = true)\n",
            " |-- destAUS: double (nullable = true)\n",
            " |-- destSTL: double (nullable = true)\n",
            " |-- destHOU: double (nullable = true)\n",
            " |-- destSJC: double (nullable = true)\n",
            " |-- destRDU: double (nullable = true)\n",
            " |-- destHNL: double (nullable = true)\n",
            " |-- destSMF: double (nullable = true)\n",
            " |-- destMSY: double (nullable = true)\n",
            " |-- destMCI: double (nullable = true)\n",
            " |-- destOAK: double (nullable = true)\n",
            " |-- destIND: double (nullable = true)\n",
            " |-- destCLE: double (nullable = true)\n",
            " |-- destPIT: double (nullable = true)\n",
            " |-- destCVG: double (nullable = true)\n",
            " |-- destSNA: double (nullable = true)\n",
            " |-- destCMH: double (nullable = true)\n",
            " |-- destRSW: double (nullable = true)\n",
            " |-- destSAT: double (nullable = true)\n",
            " |-- destMKE: double (nullable = true)\n",
            " |-- destJAX: double (nullable = true)\n",
            " |-- destSJU: double (nullable = true)\n",
            " |-- destBUR: double (nullable = true)\n",
            " |-- destOGG: double (nullable = true)\n",
            " |-- destBOI: double (nullable = true)\n",
            " |-- destBDL: double (nullable = true)\n",
            " |-- destCHS: double (nullable = true)\n",
            " |-- destOMA: double (nullable = true)\n",
            " |-- destPBI: double (nullable = true)\n",
            " |-- destSDF: double (nullable = true)\n",
            " |-- destRIC: double (nullable = true)\n",
            " |-- destABQ: double (nullable = true)\n",
            " |-- destBUF: double (nullable = true)\n",
            " |-- destMEM: double (nullable = true)\n",
            " |-- destOKC: double (nullable = true)\n",
            " |-- destONT: double (nullable = true)\n",
            " |-- destORF: double (nullable = true)\n",
            " |-- destRNO: double (nullable = true)\n",
            " |-- destGEG: double (nullable = true)\n",
            " |-- destANC: double (nullable = true)\n",
            " |-- destGRR: double (nullable = true)\n",
            " |-- destTUS: double (nullable = true)\n",
            " |-- destTYS: double (nullable = true)\n",
            " |-- destSAV: double (nullable = true)\n",
            " |-- destELP: double (nullable = true)\n",
            " |-- destBHM: double (nullable = true)\n",
            " |-- destTUL: double (nullable = true)\n",
            " |-- destPVD: double (nullable = true)\n",
            " |-- destDSM: double (nullable = true)\n",
            " |-- destKOA: double (nullable = true)\n",
            " |-- destLGB: double (nullable = true)\n",
            " |-- destROC: double (nullable = true)\n",
            " |-- destGSP: double (nullable = true)\n",
            " |-- destALB: double (nullable = true)\n",
            " |-- destSYR: double (nullable = true)\n",
            " |-- destGSO: double (nullable = true)\n",
            " |-- destMYR: double (nullable = true)\n",
            " |-- destLIH: double (nullable = true)\n",
            " |-- destLIT: double (nullable = true)\n",
            " |-- destDAY: double (nullable = true)\n",
            " |-- destMSN: double (nullable = true)\n",
            " |-- destPSP: double (nullable = true)\n",
            " |-- destPNS: double (nullable = true)\n",
            " |-- destXNA: double (nullable = true)\n",
            " |-- destPWM: double (nullable = true)\n",
            " |-- destFAT: double (nullable = true)\n",
            " |-- destSRQ: double (nullable = true)\n",
            " |-- destCOS: double (nullable = true)\n",
            " |-- destICT: double (nullable = true)\n",
            " |-- destSFB: double (nullable = true)\n",
            " |-- destLEX: double (nullable = true)\n",
            " |-- destBZN: double (nullable = true)\n",
            " |-- destMDT: double (nullable = true)\n",
            " |-- destAVL: double (nullable = true)\n",
            " |-- destVPS: double (nullable = true)\n",
            " |-- destSGF: double (nullable = true)\n",
            " |-- destCID: double (nullable = true)\n",
            " |-- destHPN: double (nullable = true)\n",
            " |-- destHSV: double (nullable = true)\n",
            " |-- destBTV: double (nullable = true)\n",
            " |-- destCAE: double (nullable = true)\n",
            " |-- destMAF: double (nullable = true)\n",
            " |-- destMHT: double (nullable = true)\n",
            " |-- destEUG: double (nullable = true)\n",
            " |-- destMFR: double (nullable = true)\n",
            " |-- destRDM: double (nullable = true)\n",
            " |-- destPIE: double (nullable = true)\n",
            " |-- destFSD: double (nullable = true)\n",
            " |-- destECP: double (nullable = true)\n",
            " |-- destCHA: double (nullable = true)\n",
            " |-- destJAN: double (nullable = true)\n",
            " |-- destILM: double (nullable = true)\n",
            " |-- destSBA: double (nullable = true)\n",
            " |-- destEYW: double (nullable = true)\n",
            " |-- destFAR: double (nullable = true)\n",
            " |-- destFWA: double (nullable = true)\n",
            " |-- destSBN: double (nullable = true)\n",
            " |-- destLBB: double (nullable = true)\n",
            " |-- destATW: double (nullable = true)\n",
            " |-- destCHO: double (nullable = true)\n",
            " |-- destPGD: double (nullable = true)\n",
            " |-- destBTR: double (nullable = true)\n",
            " |-- destAZA: double (nullable = true)\n",
            " |-- destITO: double (nullable = true)\n",
            " |-- destPSC: double (nullable = true)\n",
            " |-- destASE: double (nullable = true)\n",
            " |-- destROA: double (nullable = true)\n",
            " |-- destISP: double (nullable = true)\n",
            " |-- destSHV: double (nullable = true)\n",
            " |-- destMSO: double (nullable = true)\n",
            " |-- destMOB: double (nullable = true)\n",
            " |-- destRAP: double (nullable = true)\n",
            " |-- destCAK: double (nullable = true)\n",
            " |-- destABE: double (nullable = true)\n",
            " |-- destGRB: double (nullable = true)\n",
            " |-- destCRP: double (nullable = true)\n",
            " |-- destTLH: double (nullable = true)\n",
            " |-- destMLI: double (nullable = true)\n",
            " |-- destAMA: double (nullable = true)\n",
            " |-- destBIL: double (nullable = true)\n",
            " |-- destJAC: double (nullable = true)\n",
            " |-- destFCA: double (nullable = true)\n",
            " |-- destTVC: double (nullable = true)\n",
            " |-- destSBP: double (nullable = true)\n",
            " |-- destBGR: double (nullable = true)\n",
            " |-- destMFE: double (nullable = true)\n",
            " |-- destSTT: double (nullable = true)\n",
            " |-- destLFT: double (nullable = true)\n",
            " |-- destPIA: double (nullable = true)\n",
            " |-- destAGS: double (nullable = true)\n",
            " |-- destGJT: double (nullable = true)\n",
            " |-- destBIS: double (nullable = true)\n",
            " |-- destFAI: double (nullable = true)\n",
            " |-- destEVV: double (nullable = true)\n",
            " |-- destJNU: double (nullable = true)\n",
            " |-- destHRL: double (nullable = true)\n",
            " |-- destCRW: double (nullable = true)\n",
            " |-- destGPT: double (nullable = true)\n",
            " |-- destMRY: double (nullable = true)\n",
            " |-- destAVP: double (nullable = true)\n",
            " |-- destFNT: double (nullable = true)\n",
            " |-- destGNV: double (nullable = true)\n",
            " |-- destDRO: double (nullable = true)\n",
            " |-- destSTS: double (nullable = true)\n",
            " |-- destMGM: double (nullable = true)\n",
            " |-- destSCE: double (nullable = true)\n",
            " |-- destTRI: double (nullable = true)\n",
            " |-- destFAY: double (nullable = true)\n",
            " |-- destPAE: double (nullable = true)\n",
            " |-- destIDA: double (nullable = true)\n",
            " |-- destACY: double (nullable = true)\n",
            " |-- destSGU: double (nullable = true)\n",
            " |-- destRST: double (nullable = true)\n",
            " |-- destDAB: double (nullable = true)\n",
            " |-- destBLI: double (nullable = true)\n",
            " |-- destLAN: double (nullable = true)\n",
            " |-- destMTJ: double (nullable = true)\n",
            " |-- destGTF: double (nullable = true)\n",
            " |-- destAEX: double (nullable = true)\n",
            " |-- destOAJ: double (nullable = true)\n",
            " |-- destLNK: double (nullable = true)\n",
            " |-- destGRK: double (nullable = true)\n",
            " |-- destAZO: double (nullable = true)\n",
            " |-- destCWA: double (nullable = true)\n",
            " |-- destDLH: double (nullable = true)\n",
            " |-- destMOT: double (nullable = true)\n",
            " |-- destPHF: double (nullable = true)\n",
            " |-- destBMI: double (nullable = true)\n",
            " |-- destMLU: double (nullable = true)\n",
            " |-- destEGE: double (nullable = true)\n",
            " |-- destBFL: double (nullable = true)\n",
            " |-- destBRO: double (nullable = true)\n",
            " |-- destTTN: double (nullable = true)\n",
            " |-- destHHH: double (nullable = true)\n",
            " |-- destMLB: double (nullable = true)\n",
            " |-- destMBS: double (nullable = true)\n",
            " |-- destSAF: double (nullable = true)\n",
            " |-- destLRD: double (nullable = true)\n",
            " |-- destCOU: double (nullable = true)\n",
            " |-- destKTN: double (nullable = true)\n",
            " |-- destHDN: double (nullable = true)\n",
            " |-- destFLG: double (nullable = true)\n",
            " |-- destCPR: double (nullable = true)\n",
            " |-- destCMI: double (nullable = true)\n",
            " |-- destITH: double (nullable = true)\n",
            " |-- destABI: double (nullable = true)\n",
            " |-- destHLN: double (nullable = true)\n",
            " |-- destCLL: double (nullable = true)\n",
            " |-- destERI: double (nullable = true)\n",
            " |-- destBQN: double (nullable = true)\n",
            " |-- destLSE: double (nullable = true)\n",
            " |-- destACV: double (nullable = true)\n",
            " |-- destLCH: double (nullable = true)\n",
            " |-- destEWN: double (nullable = true)\n",
            " |-- destELM: double (nullable = true)\n",
            " |-- destSUN: double (nullable = true)\n",
            " |-- destLYH: double (nullable = true)\n",
            " |-- destSWF: double (nullable = true)\n",
            " |-- destYUM: double (nullable = true)\n",
            " |-- destGFK: double (nullable = true)\n",
            " |-- destSJT: double (nullable = true)\n",
            " |-- destSPI: double (nullable = true)\n",
            " |-- destTOL: double (nullable = true)\n",
            " |-- destSBY: double (nullable = true)\n",
            " |-- destFSM: double (nullable = true)\n",
            " |-- destACT: double (nullable = true)\n",
            " |-- destMHK: double (nullable = true)\n",
            " |-- destACK: double (nullable = true)\n",
            " |-- destHTS: double (nullable = true)\n",
            " |-- destRDD: double (nullable = true)\n",
            " |-- destCSG: double (nullable = true)\n",
            " |-- destTYR: double (nullable = true)\n",
            " |-- destMQT: double (nullable = true)\n",
            " |-- destBLV: double (nullable = true)\n",
            " |-- destUSA: double (nullable = true)\n",
            " |-- destSIT: double (nullable = true)\n",
            " |-- destLCK: double (nullable = true)\n",
            " |-- destPUW: double (nullable = true)\n",
            " |-- destORH: double (nullable = true)\n",
            " |-- destDHN: double (nullable = true)\n",
            " |-- destPBG: double (nullable = true)\n",
            " |-- destROW: double (nullable = true)\n",
            " |-- destSTX: double (nullable = true)\n",
            " |-- destLBE: double (nullable = true)\n",
            " |-- destLAW: double (nullable = true)\n",
            " |-- destTXK: double (nullable = true)\n",
            " |-- destSPS: double (nullable = true)\n",
            " |-- destCOD: double (nullable = true)\n",
            " |-- destJMS: double (nullable = true)\n",
            " |-- destGTR: double (nullable = true)\n",
            " |-- destPGV: double (nullable = true)\n",
            " |-- destLWS: double (nullable = true)\n",
            " |-- destVLD: double (nullable = true)\n",
            " |-- destHYS: double (nullable = true)\n",
            " |-- destYKM: double (nullable = true)\n",
            " |-- destGRI: double (nullable = true)\n",
            " |-- destEAT: double (nullable = true)\n",
            " |-- destGUM: double (nullable = true)\n",
            " |-- destBQK: double (nullable = true)\n",
            " |-- destCKB: double (nullable = true)\n",
            " |-- destABY: double (nullable = true)\n",
            " |-- destSUX: double (nullable = true)\n",
            " |-- destTWF: double (nullable = true)\n",
            " |-- destPAH: double (nullable = true)\n",
            " |-- destPIH: double (nullable = true)\n",
            " |-- destGUC: double (nullable = true)\n",
            " |-- destJLN: double (nullable = true)\n",
            " |-- destPLN: double (nullable = true)\n",
            " |-- destFLO: double (nullable = true)\n",
            " |-- destPUB: double (nullable = true)\n",
            " |-- destBPT: double (nullable = true)\n",
            " |-- destPVU: double (nullable = true)\n",
            " |-- destSLN: double (nullable = true)\n",
            " |-- destSCK: double (nullable = true)\n",
            " |-- destLNY: double (nullable = true)\n",
            " |-- destRFD: double (nullable = true)\n",
            " |-- destALW: double (nullable = true)\n",
            " |-- destGGG: double (nullable = true)\n",
            " |-- destGCC: double (nullable = true)\n",
            " |-- destRHI: double (nullable = true)\n",
            " |-- destXWA: double (nullable = true)\n",
            " |-- destSHD: double (nullable = true)\n",
            " |-- destEAU: double (nullable = true)\n",
            " |-- destPSG: double (nullable = true)\n",
            " |-- destWRG: double (nullable = true)\n",
            " |-- destMEI: double (nullable = true)\n",
            " |-- destCMX: double (nullable = true)\n",
            " |-- destCDV: double (nullable = true)\n",
            " |-- destISN: double (nullable = true)\n",
            " |-- destCGI: double (nullable = true)\n",
            " |-- destBET: double (nullable = true)\n",
            " |-- destMKG: double (nullable = true)\n",
            " |-- destYAK: double (nullable = true)\n",
            " |-- destSCC: double (nullable = true)\n",
            " |-- destABR: double (nullable = true)\n",
            " |-- destADQ: double (nullable = true)\n",
            " |-- destBJI: double (nullable = true)\n",
            " |-- destPRC: double (nullable = true)\n",
            " |-- destBFF: double (nullable = true)\n",
            " |-- destEAR: double (nullable = true)\n",
            " |-- destLBF: double (nullable = true)\n",
            " |-- destIMT: double (nullable = true)\n",
            " |-- destCIU: double (nullable = true)\n",
            " |-- destDBQ: double (nullable = true)\n",
            " |-- destLWB: double (nullable = true)\n",
            " |-- destGCK: double (nullable = true)\n",
            " |-- destIAG: double (nullable = true)\n",
            " |-- destDVL: double (nullable = true)\n",
            " |-- destRKS: double (nullable = true)\n",
            " |-- destLAR: double (nullable = true)\n",
            " |-- destSWO: double (nullable = true)\n",
            " |-- destMVY: double (nullable = true)\n",
            " |-- destBTM: double (nullable = true)\n",
            " |-- destLBL: double (nullable = true)\n",
            " |-- destCNY: double (nullable = true)\n",
            " |-- destOTZ: double (nullable = true)\n",
            " |-- destOME: double (nullable = true)\n",
            " |-- destESC: double (nullable = true)\n",
            " |-- destHOB: double (nullable = true)\n",
            " |-- destPIB: double (nullable = true)\n",
            " |-- destBRD: double (nullable = true)\n",
            " |-- destDIK: double (nullable = true)\n",
            " |-- destART: double (nullable = true)\n",
            " |-- destHIB: double (nullable = true)\n",
            " |-- destINL: double (nullable = true)\n",
            " |-- destCDC: double (nullable = true)\n",
            " |-- destAPN: double (nullable = true)\n",
            " |-- destPSE: double (nullable = true)\n",
            " |-- destEKO: double (nullable = true)\n",
            " |-- destVEL: double (nullable = true)\n",
            " |-- destBGM: double (nullable = true)\n",
            " |-- destMKK: double (nullable = true)\n",
            " |-- destALO: double (nullable = true)\n",
            " |-- destDRT: double (nullable = true)\n",
            " |-- destBRW: double (nullable = true)\n",
            " |-- destSPN: double (nullable = true)\n",
            " |-- destPQI: double (nullable = true)\n",
            " |-- destOGS: double (nullable = true)\n",
            " |-- destHVN: double (nullable = true)\n",
            " |-- destPIR: double (nullable = true)\n",
            " |-- destJHM: double (nullable = true)\n",
            " |-- destATY: double (nullable = true)\n",
            " |-- destDEC: double (nullable = true)\n",
            " |-- destPSM: double (nullable = true)\n",
            " |-- destIPT: double (nullable = true)\n",
            " |-- destOTH: double (nullable = true)\n",
            " |-- destSHR: double (nullable = true)\n",
            " |-- destUIN: double (nullable = true)\n",
            " |-- destDDC: double (nullable = true)\n",
            " |-- destRIW: double (nullable = true)\n",
            " |-- destCYS: double (nullable = true)\n",
            " |-- destWYS: double (nullable = true)\n",
            " |-- destDUT: double (nullable = true)\n",
            " |-- destJST: double (nullable = true)\n",
            " |-- destAKN: double (nullable = true)\n",
            " |-- destMMH: double (nullable = true)\n",
            " |-- destVCT: double (nullable = true)\n",
            " |-- destDLG: double (nullable = true)\n",
            " |-- destALS: double (nullable = true)\n",
            " |-- destSMX: double (nullable = true)\n",
            " |-- destFOD: double (nullable = true)\n",
            " |-- destMCW: double (nullable = true)\n",
            " |-- destHGR: double (nullable = true)\n",
            " |-- destSTC: double (nullable = true)\n",
            " |-- destBKG: double (nullable = true)\n",
            " |-- destTBN: double (nullable = true)\n",
            " |-- destOWB: double (nullable = true)\n",
            " |-- destOGD: double (nullable = true)\n",
            " |-- destADK: double (nullable = true)\n",
            " |-- destHYA: double (nullable = true)\n",
            " |-- destGST: double (nullable = true)\n",
            " |-- destPPG: double (nullable = true)\n",
            " |-- destBIH: double (nullable = true)\n",
            " |-- destCDB: double (nullable = true)\n",
            " |-- destBFM: double (nullable = true)\n",
            " |-- destILG: double (nullable = true)\n",
            " |-- destROP: double (nullable = true)\n",
            " |-- features: vector (nullable = true)\n",
            "\n"
          ]
        }
      ],
      "source": [
        "all_columns = list(set(df_transformed.columns).difference(idxer.getOutputCols()))\n",
        "vectorizer = VectorAssembler(inputCols=df_transformed.columns, outputCol='features').transform(df_transformed)\n",
        "vectorizer.printSchema()"
      ]
    },
    {
      "cell_type": "code",
      "execution_count": 60,
      "metadata": {
        "colab": {
          "base_uri": "https://localhost:8080/"
        },
        "id": "Qvukveyl2txB",
        "outputId": "e90321ea-9f37-42e7-cb01-70031081ac7a"
      },
      "outputs": [
        {
          "name": "stdout",
          "output_type": "stream",
          "text": [
            "+--------------------+--------+\n",
            "|            features|DepDelay|\n",
            "+--------------------+--------+\n",
            "|(833,[2,3,4,5,6,7...|    -5.0|\n",
            "+--------------------+--------+\n",
            "only showing top 1 row\n",
            "\n"
          ]
        }
      ],
      "source": [
        "# all_columns.append('features')\n",
        "vectorizer.select('features', 'DepDelay').show(1)"
      ]
    },
    {
      "cell_type": "markdown",
      "metadata": {
        "id": "bWFymoNF2txB"
      },
      "source": [
        "## Data preparation"
      ]
    },
    {
      "cell_type": "code",
      "execution_count": 61,
      "metadata": {},
      "outputs": [
        {
          "data": {
            "text/plain": [
              "2919378"
            ]
          },
          "execution_count": 61,
          "metadata": {},
          "output_type": "execute_result"
        }
      ],
      "source": [
        "train = int(data.count() * .10)\n",
        "train"
      ]
    },
    {
      "cell_type": "code",
      "execution_count": 62,
      "metadata": {},
      "outputs": [
        {
          "data": {
            "text/plain": [
              "Row(features=SparseVector(833, {2: -5.0, 3: 38.0, 4: 62.0, 5: 59.0, 6: 145.0, 7: 2018.0, 8: 1.0, 9: 1.0, 10: 23.0, 11: 2.0, 12: 19790.0, 13: 3298.0, 14: 20363.0, 15: 3298.0, 16: 10146.0, 17: 1014602.0, 18: 30146.0, 19: 13.0, 20: 34.0, 21: 10397.0, 22: 1039707.0, 23: 30397.0, 24: 13.0, 25: 34.0, 26: 14.0, 27: 1211.0, 28: 1249.0, 29: 7.0, 30: 1.0, 40: 1.0, 330: 1.0, 446: 1.0}), DepDelay=-5.0)"
            ]
          },
          "execution_count": 62,
          "metadata": {},
          "output_type": "execute_result"
        }
      ],
      "source": [
        "data = vectorizer.select('features', 'DepDelay')\n",
        "data.first()"
      ]
    },
    {
      "cell_type": "markdown",
      "metadata": {
        "id": "uid9byzO2txB"
      },
      "source": [
        "## "
      ]
    },
    {
      "cell_type": "markdown",
      "metadata": {
        "id": "OJ8_nmVl2txB"
      },
      "source": [
        "# Train Boosted GBTRegressor"
      ]
    },
    {
      "cell_type": "code",
      "execution_count": 63,
      "metadata": {
        "id": "ow6Qr8Vk2txB"
      },
      "outputs": [],
      "source": [
        "from pyspark.ml.regression import GBTRegressor"
      ]
    },
    {
      "cell_type": "code",
      "execution_count": 64,
      "metadata": {},
      "outputs": [],
      "source": [
        "(trainingData, testData) = data.randomSplit([0.7, 0.3])"
      ]
    },
    {
      "cell_type": "code",
      "execution_count": 65,
      "metadata": {},
      "outputs": [
        {
          "name": "stdout",
          "output_type": "stream",
          "text": [
            "+--------------------+--------+\n",
            "|            features|DepDelay|\n",
            "+--------------------+--------+\n",
            "|(833,[2,3,4,5,6,7...|   -10.0|\n",
            "|(833,[2,3,4,5,6,7...|    -8.0|\n",
            "|(833,[2,3,4,5,6,7...|    -7.0|\n",
            "|(833,[2,3,4,5,6,7...|    -7.0|\n",
            "|(833,[2,3,4,5,6,7...|    -7.0|\n",
            "|(833,[2,3,4,5,6,7...|    -7.0|\n",
            "|(833,[2,3,4,5,6,7...|    -7.0|\n",
            "|(833,[2,3,4,5,6,7...|    -7.0|\n",
            "|(833,[2,3,4,5,6,7...|    -6.0|\n",
            "|(833,[2,3,4,5,6,7...|    -6.0|\n",
            "+--------------------+--------+\n",
            "only showing top 10 rows\n",
            "\n"
          ]
        }
      ],
      "source": [
        "trainingData.show(10)"
      ]
    },
    {
      "cell_type": "code",
      "execution_count": 81,
      "metadata": {},
      "outputs": [],
      "source": [
        "gbt = GBTRegressor(featuresCol=\"features\",\n",
        "                   labelCol=\"DepDelay\",\n",
        "                   maxIter=10)"
      ]
    },
    {
      "cell_type": "code",
      "execution_count": 82,
      "metadata": {},
      "outputs": [],
      "source": [
        "model = gbt.fit(trainingData)"
      ]
    },
    {
      "cell_type": "code",
      "execution_count": 84,
      "metadata": {},
      "outputs": [
        {
          "data": {
            "text/plain": [
              "Row(features=SparseVector(833, {2: -8.0, 3: 204.0, 4: 210.0, 5: 230.0, 6: 1199.0, 7: 2018.0, 8: 4.0, 9: 12.0, 10: 4.0, 11: 2.0, 12: 19393.0, 13: 703.0, 14: 19393.0, 15: 703.0, 16: 10397.0, 17: 1039707.0, 18: 30397.0, 19: 13.0, 20: 34.0, 21: 11292.0, 22: 1129202.0, 23: 30325.0, 24: 8.0, 25: 82.0, 26: 20.0, 27: 1822.0, 28: 1946.0, 29: 6.0, 30: 5.0, 32: 1.0, 59: 1.0, 448: 1.0}), DepDelay=-8.0)"
            ]
          },
          "execution_count": 84,
          "metadata": {},
          "output_type": "execute_result"
        }
      ],
      "source": [
        "testData.first()"
      ]
    },
    {
      "cell_type": "code",
      "execution_count": 85,
      "metadata": {},
      "outputs": [],
      "source": [
        "predictions = model.transform(testData)"
      ]
    },
    {
      "cell_type": "code",
      "execution_count": 88,
      "metadata": {},
      "outputs": [
        {
          "name": "stdout",
          "output_type": "stream",
          "text": [
            "+-------------------+--------+--------------------+\n",
            "|         prediction|DepDelay|            features|\n",
            "+-------------------+--------+--------------------+\n",
            "| -7.398869084747202|    -8.0|(833,[2,3,4,5,6,7...|\n",
            "|-6.7632761422173635|    -7.0|(833,[2,3,4,5,6,7...|\n",
            "|-6.7632761422173635|    -7.0|(833,[2,3,4,5,6,7...|\n",
            "|-6.7632761422173635|    -7.0|(833,[2,3,4,5,6,7...|\n",
            "|-6.7632761422173635|    -7.0|(833,[2,3,4,5,6,7...|\n",
            "+-------------------+--------+--------------------+\n",
            "only showing top 5 rows\n",
            "\n"
          ]
        }
      ],
      "source": [
        "predictions.select(\"prediction\", \"DepDelay\", \"features\").show(5)"
      ]
    },
    {
      "cell_type": "code",
      "execution_count": 89,
      "metadata": {},
      "outputs": [],
      "source": [
        "from pyspark.ml.evaluation import RegressionEvaluator"
      ]
    },
    {
      "cell_type": "code",
      "execution_count": 90,
      "metadata": {},
      "outputs": [
        {
          "name": "stdout",
          "output_type": "stream",
          "text": [
            "Root Mean Squared Error (RMSE) on test data = 26.0804\n"
          ]
        }
      ],
      "source": [
        "evaluator = RegressionEvaluator(\n",
        "    labelCol=\"DepDelay\", predictionCol=\"prediction\", metricName=\"rmse\")\n",
        "rmse = evaluator.evaluate(predictions)\n",
        "print(\"Root Mean Squared Error (RMSE) on test data = %g\" % rmse)"
      ]
    }
  ],
  "metadata": {
    "colab": {
      "provenance": []
    },
    "gpuClass": "standard",
    "kernelspec": {
      "display_name": "pytorch",
      "language": "python",
      "name": "python3"
    },
    "language_info": {
      "codemirror_mode": {
        "name": "ipython",
        "version": 3
      },
      "file_extension": ".py",
      "mimetype": "text/x-python",
      "name": "python",
      "nbconvert_exporter": "python",
      "pygments_lexer": "ipython3",
      "version": "3.9.7"
    },
    "vscode": {
      "interpreter": {
        "hash": "096fa780b98fbe495439a1728273d6046be3a31074a917fead1626276fbed988"
      }
    }
  },
  "nbformat": 4,
  "nbformat_minor": 0
}
